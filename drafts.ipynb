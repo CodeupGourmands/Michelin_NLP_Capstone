{
 "cells": [
  {
   "cell_type": "code",
   "execution_count": 87,
   "metadata": {},
   "outputs": [],
   "source": [
    "import re\n",
    "from typing import List, Union, Tuple\n",
    "from nltk.corpus import stopwords as stpwrds\n",
    "from sklearn.model_selection import train_test_split\n",
    "import time\n",
    "from os.path import isfile\n",
    "import numpy as np\n",
    "# Webscraping\n",
    "from bs4 import BeautifulSoup\n",
    "from requests import get\n",
    "import seaborn as sns\n",
    "import pandas as pd\n",
    "import nltk\n",
    "import unicodedata\n",
    "import nltk.sentiment\n",
    "from importlib import reload\n",
    "\n",
    "import os\n",
    "\n",
    "import matplotlib.pyplot as plt\n",
    "import json\n",
    "from typing import Dict, List, Optional, Union, cast\n",
    "import requests\n",
    "import prepare as p\n",
    "from nltk.tokenize.toktok import ToktokTokenizer\n",
    "\n",
    "from scipy import stats\n",
    "import acquire as w"
   ]
  },
  {
   "cell_type": "code",
   "execution_count": 80,
   "metadata": {},
   "outputs": [],
   "source": [
    "df = w.get_michelin_pages()"
   ]
  },
  {
   "cell_type": "code",
   "execution_count": 81,
   "metadata": {},
   "outputs": [
    {
     "name": "stdout",
     "output_type": "stream",
     "text": [
      "<class 'pandas.core.frame.DataFrame'>\n",
      "RangeIndex: 6780 entries, 0 to 6779\n",
      "Data columns (total 13 columns):\n",
      " #   Column                   Non-Null Count  Dtype  \n",
      "---  ------                   --------------  -----  \n",
      " 0   name                     6780 non-null   object \n",
      " 1   address                  6780 non-null   object \n",
      " 2   location                 6780 non-null   object \n",
      " 3   price                    6726 non-null   object \n",
      " 4   cuisine                  6780 non-null   object \n",
      " 5   longitude                6780 non-null   float64\n",
      " 6   latitude                 6780 non-null   float64\n",
      " 7   phone_number             6649 non-null   float64\n",
      " 8   url                      6780 non-null   object \n",
      " 9   website_url              5542 non-null   object \n",
      " 10  award                    6780 non-null   object \n",
      " 11  facilities_and_services  6732 non-null   object \n",
      " 12  data                     6780 non-null   object \n",
      "dtypes: float64(3), object(10)\n",
      "memory usage: 688.7+ KB\n"
     ]
    }
   ],
   "source": [
    "df.info()"
   ]
  },
  {
   "cell_type": "code",
   "execution_count": 97,
   "metadata": {},
   "outputs": [
    {
     "name": "stdout",
     "output_type": "stream",
     "text": [
      "clean         string\n",
      "lemmatized    string\n",
      "dtype: object\n"
     ]
    },
    {
     "ename": "AttributeError",
     "evalue": "'bool' object has no attribute 'any'",
     "output_type": "error",
     "traceback": [
      "\u001b[0;31m---------------------------------------------------------------------------\u001b[0m",
      "\u001b[0;31mAttributeError\u001b[0m                            Traceback (most recent call last)",
      "\u001b[1;32m/Users/yuviacardenas/codeup-data-science/Michelin_NLP_Capstone/drafts.ipynb Cell 4\u001b[0m in \u001b[0;36m<cell line: 2>\u001b[0;34m()\u001b[0m\n\u001b[1;32m      <a href='vscode-notebook-cell:/Users/yuviacardenas/codeup-data-science/Michelin_NLP_Capstone/drafts.ipynb#X34sZmlsZQ%3D%3D?line=0'>1</a>\u001b[0m reload(p)\n\u001b[0;32m----> <a href='vscode-notebook-cell:/Users/yuviacardenas/codeup-data-science/Michelin_NLP_Capstone/drafts.ipynb#X34sZmlsZQ%3D%3D?line=1'>2</a>\u001b[0m train, validate, test \u001b[39m=\u001b[39m p\u001b[39m.\u001b[39;49mprepare_michelin(df)\n",
      "File \u001b[0;32m~/codeup-data-science/Michelin_NLP_Capstone/prepare.py:251\u001b[0m, in \u001b[0;36mprepare_michelin\u001b[0;34m(df, split)\u001b[0m\n\u001b[1;32m    248\u001b[0m \u001b[39m#df['word_count'] = df.lemmatized.str.split().apply(len)\u001b[39;00m\n\u001b[1;32m    250\u001b[0m \u001b[39mif\u001b[39;00m split:\n\u001b[0;32m--> 251\u001b[0m     \u001b[39mreturn\u001b[39;00m tvt_split(df, stratify\u001b[39m=\u001b[39;49m\u001b[39m'\u001b[39;49m\u001b[39maward\u001b[39;49m\u001b[39m'\u001b[39;49m)\n\u001b[1;32m    252\u001b[0m \u001b[39mreturn\u001b[39;00m df\n",
      "File \u001b[0;32m~/codeup-data-science/Michelin_NLP_Capstone/prepare.py:211\u001b[0m, in \u001b[0;36mtvt_split\u001b[0;34m(df, stratify, tv_split, validate_split)\u001b[0m\n\u001b[1;32m    205\u001b[0m \u001b[39m'''tvt_split takes a pandas DataFrame,\u001b[39;00m\n\u001b[1;32m    206\u001b[0m \u001b[39ma string specifying the variable to stratify over,\u001b[39;00m\n\u001b[1;32m    207\u001b[0m \u001b[39mas well as 2 floats where 0 < f < 1 and\u001b[39;00m\n\u001b[1;32m    208\u001b[0m \u001b[39mreturns a train, validate, and test split of the DataFame,\u001b[39;00m\n\u001b[1;32m    209\u001b[0m \u001b[39msplit by tv_split initially and validate_split thereafter. '''\u001b[39;00m\n\u001b[1;32m    210\u001b[0m strat \u001b[39m=\u001b[39m df[stratify]\n\u001b[0;32m--> 211\u001b[0m train_validate, test \u001b[39m=\u001b[39m train_test_split(\n\u001b[1;32m    212\u001b[0m     df, test_size\u001b[39m=\u001b[39;49mtv_split, random_state\u001b[39m=\u001b[39;49m\u001b[39m911\u001b[39;49m, stratify\u001b[39m=\u001b[39;49mstrat)\n\u001b[1;32m    213\u001b[0m strat \u001b[39m=\u001b[39m train_validate[stratify]\n\u001b[1;32m    214\u001b[0m train, validate \u001b[39m=\u001b[39m train_test_split(\n\u001b[1;32m    215\u001b[0m     train_validate, test_size\u001b[39m=\u001b[39mvalidate_split,\n\u001b[1;32m    216\u001b[0m     random_state\u001b[39m=\u001b[39m\u001b[39m911\u001b[39m, stratify\u001b[39m=\u001b[39mstrat)\n",
      "File \u001b[0;32m/opt/homebrew/anaconda3/lib/python3.9/site-packages/sklearn/model_selection/_split.py:2441\u001b[0m, in \u001b[0;36mtrain_test_split\u001b[0;34m(test_size, train_size, random_state, shuffle, stratify, *arrays)\u001b[0m\n\u001b[1;32m   2437\u001b[0m         CVClass \u001b[39m=\u001b[39m ShuffleSplit\n\u001b[1;32m   2439\u001b[0m     cv \u001b[39m=\u001b[39m CVClass(test_size\u001b[39m=\u001b[39mn_test, train_size\u001b[39m=\u001b[39mn_train, random_state\u001b[39m=\u001b[39mrandom_state)\n\u001b[0;32m-> 2441\u001b[0m     train, test \u001b[39m=\u001b[39m \u001b[39mnext\u001b[39m(cv\u001b[39m.\u001b[39;49msplit(X\u001b[39m=\u001b[39;49marrays[\u001b[39m0\u001b[39;49m], y\u001b[39m=\u001b[39;49mstratify))\n\u001b[1;32m   2443\u001b[0m \u001b[39mreturn\u001b[39;00m \u001b[39mlist\u001b[39m(\n\u001b[1;32m   2444\u001b[0m     chain\u001b[39m.\u001b[39mfrom_iterable(\n\u001b[1;32m   2445\u001b[0m         (_safe_indexing(a, train), _safe_indexing(a, test)) \u001b[39mfor\u001b[39;00m a \u001b[39min\u001b[39;00m arrays\n\u001b[1;32m   2446\u001b[0m     )\n\u001b[1;32m   2447\u001b[0m )\n",
      "File \u001b[0;32m/opt/homebrew/anaconda3/lib/python3.9/site-packages/sklearn/model_selection/_split.py:2022\u001b[0m, in \u001b[0;36mStratifiedShuffleSplit.split\u001b[0;34m(self, X, y, groups)\u001b[0m\n\u001b[1;32m   1988\u001b[0m \u001b[39mdef\u001b[39;00m \u001b[39msplit\u001b[39m(\u001b[39mself\u001b[39m, X, y, groups\u001b[39m=\u001b[39m\u001b[39mNone\u001b[39;00m):\n\u001b[1;32m   1989\u001b[0m     \u001b[39m\"\"\"Generate indices to split data into training and test set.\u001b[39;00m\n\u001b[1;32m   1990\u001b[0m \n\u001b[1;32m   1991\u001b[0m \u001b[39m    Parameters\u001b[39;00m\n\u001b[0;32m   (...)\u001b[0m\n\u001b[1;32m   2020\u001b[0m \u001b[39m    to an integer.\u001b[39;00m\n\u001b[1;32m   2021\u001b[0m \u001b[39m    \"\"\"\u001b[39;00m\n\u001b[0;32m-> 2022\u001b[0m     y \u001b[39m=\u001b[39m check_array(y, ensure_2d\u001b[39m=\u001b[39;49m\u001b[39mFalse\u001b[39;49;00m, dtype\u001b[39m=\u001b[39;49m\u001b[39mNone\u001b[39;49;00m)\n\u001b[1;32m   2023\u001b[0m     \u001b[39mreturn\u001b[39;00m \u001b[39msuper\u001b[39m()\u001b[39m.\u001b[39msplit(X, y, groups)\n",
      "File \u001b[0;32m/opt/homebrew/anaconda3/lib/python3.9/site-packages/sklearn/utils/validation.py:800\u001b[0m, in \u001b[0;36mcheck_array\u001b[0;34m(array, accept_sparse, accept_large_sparse, dtype, order, copy, force_all_finite, ensure_2d, allow_nd, ensure_min_samples, ensure_min_features, estimator)\u001b[0m\n\u001b[1;32m    794\u001b[0m         \u001b[39mraise\u001b[39;00m \u001b[39mValueError\u001b[39;00m(\n\u001b[1;32m    795\u001b[0m             \u001b[39m\"\u001b[39m\u001b[39mFound array with dim \u001b[39m\u001b[39m%d\u001b[39;00m\u001b[39m. \u001b[39m\u001b[39m%s\u001b[39;00m\u001b[39m expected <= 2.\u001b[39m\u001b[39m\"\u001b[39m\n\u001b[1;32m    796\u001b[0m             \u001b[39m%\u001b[39m (array\u001b[39m.\u001b[39mndim, estimator_name)\n\u001b[1;32m    797\u001b[0m         )\n\u001b[1;32m    799\u001b[0m     \u001b[39mif\u001b[39;00m force_all_finite:\n\u001b[0;32m--> 800\u001b[0m         _assert_all_finite(array, allow_nan\u001b[39m=\u001b[39;49mforce_all_finite \u001b[39m==\u001b[39;49m \u001b[39m\"\u001b[39;49m\u001b[39mallow-nan\u001b[39;49m\u001b[39m\"\u001b[39;49m)\n\u001b[1;32m    802\u001b[0m \u001b[39mif\u001b[39;00m ensure_min_samples \u001b[39m>\u001b[39m \u001b[39m0\u001b[39m:\n\u001b[1;32m    803\u001b[0m     n_samples \u001b[39m=\u001b[39m _num_samples(array)\n",
      "File \u001b[0;32m/opt/homebrew/anaconda3/lib/python3.9/site-packages/sklearn/utils/validation.py:121\u001b[0m, in \u001b[0;36m_assert_all_finite\u001b[0;34m(X, allow_nan, msg_dtype)\u001b[0m\n\u001b[1;32m    119\u001b[0m \u001b[39m# for object dtype data, we only check for NaNs (GH-13254)\u001b[39;00m\n\u001b[1;32m    120\u001b[0m \u001b[39melif\u001b[39;00m X\u001b[39m.\u001b[39mdtype \u001b[39m==\u001b[39m np\u001b[39m.\u001b[39mdtype(\u001b[39m\"\u001b[39m\u001b[39mobject\u001b[39m\u001b[39m\"\u001b[39m) \u001b[39mand\u001b[39;00m \u001b[39mnot\u001b[39;00m allow_nan:\n\u001b[0;32m--> 121\u001b[0m     \u001b[39mif\u001b[39;00m _object_dtype_isnan(X)\u001b[39m.\u001b[39;49many():\n\u001b[1;32m    122\u001b[0m         \u001b[39mraise\u001b[39;00m \u001b[39mValueError\u001b[39;00m(\u001b[39m\"\u001b[39m\u001b[39mInput contains NaN\u001b[39m\u001b[39m\"\u001b[39m)\n",
      "\u001b[0;31mAttributeError\u001b[0m: 'bool' object has no attribute 'any'"
     ]
    }
   ],
   "source": [
    "reload(p)\n",
    "train, validate, test = p.prepare_michelin(df)"
   ]
  },
  {
   "cell_type": "code",
   "execution_count": null,
   "metadata": {},
   "outputs": [
    {
     "data": {
      "text/plain": [
       "name                        string\n",
       "address                     string\n",
       "location                    string\n",
       "price                       object\n",
       "cuisine                     string\n",
       "longitude                  float64\n",
       "latitude                   float64\n",
       "url                         object\n",
       "award                       string\n",
       "facilities_and_services     string\n",
       "data                        string\n",
       "price_level                  int64\n",
       "city                        object\n",
       "country                     object\n",
       "clean                       string\n",
       "lemmatized                  string\n",
       "sentiment                  float64\n",
       "word_count                   int64\n",
       "dtype: object"
      ]
     },
     "execution_count": 91,
     "metadata": {},
     "output_type": "execute_result"
    }
   ],
   "source": [
    "train.head()"
   ]
  },
  {
   "cell_type": "code",
   "execution_count": null,
   "metadata": {},
   "outputs": [],
   "source": []
  }
 ],
 "metadata": {
  "kernelspec": {
   "display_name": "base",
   "language": "python",
   "name": "python3"
  },
  "language_info": {
   "codemirror_mode": {
    "name": "ipython",
    "version": 3
   },
   "file_extension": ".py",
   "mimetype": "text/x-python",
   "name": "python",
   "nbconvert_exporter": "python",
   "pygments_lexer": "ipython3",
   "version": "3.9.12"
  },
  "orig_nbformat": 4,
  "vscode": {
   "interpreter": {
    "hash": "38cca0c38332a56087b24af0bc80247f4fced29cb4f7f437d91dc159adec9c4e"
   }
  }
 },
 "nbformat": 4,
 "nbformat_minor": 2
}
