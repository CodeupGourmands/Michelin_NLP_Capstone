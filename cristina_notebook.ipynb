{
 "cells": [
  {
   "cell_type": "code",
   "execution_count": 30,
   "metadata": {},
   "outputs": [],
   "source": [
    "import pandas as pd\n",
    "import numpy as np\n",
    "import re\n",
    "import os\n",
    "\n",
    "# Webscraping/NLP\n",
    "import requests\n",
    "from requests import get\n",
    "from bs4 import BeautifulSoup\n",
    "import time\n",
    "import nltk\n",
    "import requests\n",
    "import unicodedata\n",
    "from nltk.corpus import stopwords\n",
    "\n",
    "# Visualizations\n",
    "import seaborn as sns\n",
    "import matplotlib.pyplot as plt\n",
    "\n",
    "# Stats\n",
    "import scipy.stats as stats\n",
    "from scipy.stats import ttest_ind, levene, f_oneway\n",
    "\n",
    "# Modeling\n",
    "from sklearn.model_selection import train_test_split\n",
    "from sklearn.tree import DecisionTreeClassifier, plot_tree\n",
    "from sklearn.ensemble import RandomForestClassifier\n",
    "from sklearn.neighbors import KNeighborsClassifier\n",
    "from sklearn.metrics import classification_report\n",
    "from sklearn.metrics import confusion_matrix\n",
    "\n",
    "# My imports\n",
    "import prepare as p\n",
    "import acquire as a\n",
    "from importlib import reload\n",
    "import explore as e"
   ]
  },
  {
   "cell_type": "code",
   "execution_count": 3,
   "metadata": {},
   "outputs": [
    {
     "data": {
      "text/html": [
       "<div>\n",
       "<style scoped>\n",
       "    .dataframe tbody tr th:only-of-type {\n",
       "        vertical-align: middle;\n",
       "    }\n",
       "\n",
       "    .dataframe tbody tr th {\n",
       "        vertical-align: top;\n",
       "    }\n",
       "\n",
       "    .dataframe thead th {\n",
       "        text-align: right;\n",
       "    }\n",
       "</style>\n",
       "<table border=\"1\" class=\"dataframe\">\n",
       "  <thead>\n",
       "    <tr style=\"text-align: right;\">\n",
       "      <th></th>\n",
       "      <th>name</th>\n",
       "      <th>address</th>\n",
       "      <th>location</th>\n",
       "      <th>price</th>\n",
       "      <th>cuisine</th>\n",
       "      <th>longitude</th>\n",
       "      <th>latitude</th>\n",
       "      <th>phone_number</th>\n",
       "      <th>url</th>\n",
       "      <th>website_url</th>\n",
       "      <th>award</th>\n",
       "      <th>facilities_and_services</th>\n",
       "      <th>data</th>\n",
       "    </tr>\n",
       "  </thead>\n",
       "  <tbody>\n",
       "    <tr>\n",
       "      <th>0</th>\n",
       "      <td>King's Joy</td>\n",
       "      <td>2 Wudaoying Hutong, Beijing, China Mainland</td>\n",
       "      <td>Beijing, China Mainland</td>\n",
       "      <td>¥¥¥</td>\n",
       "      <td>Vegetarian</td>\n",
       "      <td>116.410004</td>\n",
       "      <td>39.946681</td>\n",
       "      <td>8.610840e+11</td>\n",
       "      <td>https://guide.michelin.com/en/beijing-municipa...</td>\n",
       "      <td>NaN</td>\n",
       "      <td>3 MICHELIN Stars</td>\n",
       "      <td>Air conditioning,American Express credit card,...</td>\n",
       "      <td>Just a stone’s throw from Yonghe Temple, this ...</td>\n",
       "    </tr>\n",
       "    <tr>\n",
       "      <th>1</th>\n",
       "      <td>Xin Rong Ji (Xinyuan South Road)</td>\n",
       "      <td>1F, East Tower, Genesis Beijing, 8 Xinyuan Sou...</td>\n",
       "      <td>Beijing, China Mainland</td>\n",
       "      <td>¥¥¥¥</td>\n",
       "      <td>Taizhou</td>\n",
       "      <td>116.450148</td>\n",
       "      <td>39.946380</td>\n",
       "      <td>8.610650e+11</td>\n",
       "      <td>https://guide.michelin.com/en/beijing-municipa...</td>\n",
       "      <td>NaN</td>\n",
       "      <td>3 MICHELIN Stars</td>\n",
       "      <td>Air conditioning,Car park,China UnionPay,Count...</td>\n",
       "      <td>This branch of the chain restaurant opened in ...</td>\n",
       "    </tr>\n",
       "    <tr>\n",
       "      <th>2</th>\n",
       "      <td>Taian Table</td>\n",
       "      <td>101-102, Building No. 1, Garden Office, No.161...</td>\n",
       "      <td>Shanghai, China Mainland</td>\n",
       "      <td>¥¥¥¥</td>\n",
       "      <td>Innovative</td>\n",
       "      <td>121.474049</td>\n",
       "      <td>31.221807</td>\n",
       "      <td>8.617302e+12</td>\n",
       "      <td>https://guide.michelin.com/en/shanghai-municip...</td>\n",
       "      <td>https://taian-table.cn/</td>\n",
       "      <td>3 MICHELIN Stars</td>\n",
       "      <td>Air conditioning,American Express credit card,...</td>\n",
       "      <td>A fixture on the city’s dining scene since 201...</td>\n",
       "    </tr>\n",
       "    <tr>\n",
       "      <th>3</th>\n",
       "      <td>Ultraviolet by Paul Pairet</td>\n",
       "      <td>'somewhere in Shanghai' - meet at Mr &amp; Mrs Bun...</td>\n",
       "      <td>Shanghai, China Mainland</td>\n",
       "      <td>¥¥¥¥</td>\n",
       "      <td>Innovative</td>\n",
       "      <td>121.485090</td>\n",
       "      <td>31.240358</td>\n",
       "      <td>NaN</td>\n",
       "      <td>https://guide.michelin.com/en/shanghai-municip...</td>\n",
       "      <td>https://uvbypp.cc/</td>\n",
       "      <td>3 MICHELIN Stars</td>\n",
       "      <td>Air conditioning,American Express credit card,...</td>\n",
       "      <td>This multi-sensory experience at a secret loca...</td>\n",
       "    </tr>\n",
       "    <tr>\n",
       "      <th>4</th>\n",
       "      <td>Quince</td>\n",
       "      <td>470 Pacific Ave., San Francisco, 94133, USA</td>\n",
       "      <td>San Francisco, USA</td>\n",
       "      <td>$$$$</td>\n",
       "      <td>Contemporary, Californian</td>\n",
       "      <td>-122.403261</td>\n",
       "      <td>37.797505</td>\n",
       "      <td>1.415776e+10</td>\n",
       "      <td>https://guide.michelin.com/en/california/san-f...</td>\n",
       "      <td>http://www.quincerestaurant.com</td>\n",
       "      <td>3 MICHELIN Stars</td>\n",
       "      <td>Air conditioning,American Express credit card,...</td>\n",
       "      <td>An air of refinement infuses this dining room,...</td>\n",
       "    </tr>\n",
       "  </tbody>\n",
       "</table>\n",
       "</div>"
      ],
      "text/plain": [
       "                               name  \\\n",
       "0                        King's Joy   \n",
       "1  Xin Rong Ji (Xinyuan South Road)   \n",
       "2                       Taian Table   \n",
       "3        Ultraviolet by Paul Pairet   \n",
       "4                            Quince   \n",
       "\n",
       "                                             address  \\\n",
       "0        2 Wudaoying Hutong, Beijing, China Mainland   \n",
       "1  1F, East Tower, Genesis Beijing, 8 Xinyuan Sou...   \n",
       "2  101-102, Building No. 1, Garden Office, No.161...   \n",
       "3  'somewhere in Shanghai' - meet at Mr & Mrs Bun...   \n",
       "4        470 Pacific Ave., San Francisco, 94133, USA   \n",
       "\n",
       "                   location price                    cuisine   longitude  \\\n",
       "0   Beijing, China Mainland   ¥¥¥                 Vegetarian  116.410004   \n",
       "1   Beijing, China Mainland  ¥¥¥¥                    Taizhou  116.450148   \n",
       "2  Shanghai, China Mainland  ¥¥¥¥                 Innovative  121.474049   \n",
       "3  Shanghai, China Mainland  ¥¥¥¥                 Innovative  121.485090   \n",
       "4        San Francisco, USA  $$$$  Contemporary, Californian -122.403261   \n",
       "\n",
       "    latitude  phone_number                                                url  \\\n",
       "0  39.946681  8.610840e+11  https://guide.michelin.com/en/beijing-municipa...   \n",
       "1  39.946380  8.610650e+11  https://guide.michelin.com/en/beijing-municipa...   \n",
       "2  31.221807  8.617302e+12  https://guide.michelin.com/en/shanghai-municip...   \n",
       "3  31.240358           NaN  https://guide.michelin.com/en/shanghai-municip...   \n",
       "4  37.797505  1.415776e+10  https://guide.michelin.com/en/california/san-f...   \n",
       "\n",
       "                       website_url             award  \\\n",
       "0                              NaN  3 MICHELIN Stars   \n",
       "1                              NaN  3 MICHELIN Stars   \n",
       "2          https://taian-table.cn/  3 MICHELIN Stars   \n",
       "3               https://uvbypp.cc/  3 MICHELIN Stars   \n",
       "4  http://www.quincerestaurant.com  3 MICHELIN Stars   \n",
       "\n",
       "                             facilities_and_services  \\\n",
       "0  Air conditioning,American Express credit card,...   \n",
       "1  Air conditioning,Car park,China UnionPay,Count...   \n",
       "2  Air conditioning,American Express credit card,...   \n",
       "3  Air conditioning,American Express credit card,...   \n",
       "4  Air conditioning,American Express credit card,...   \n",
       "\n",
       "                                                data  \n",
       "0  Just a stone’s throw from Yonghe Temple, this ...  \n",
       "1  This branch of the chain restaurant opened in ...  \n",
       "2  A fixture on the city’s dining scene since 201...  \n",
       "3  This multi-sensory experience at a secret loca...  \n",
       "4  An air of refinement infuses this dining room,...  "
      ]
     },
     "execution_count": 3,
     "metadata": {},
     "output_type": "execute_result"
    }
   ],
   "source": [
    "#Get the data\n",
    "df = pd.read_pickle('data/michelin_df.pickle')\n",
    "df.head()"
   ]
  },
  {
   "cell_type": "code",
   "execution_count": 3,
   "metadata": {},
   "outputs": [],
   "source": [
    "#TODO make visualization of distribution of Michelin star levels"
   ]
  },
  {
   "cell_type": "code",
   "execution_count": 4,
   "metadata": {},
   "outputs": [],
   "source": [
    "#TODO drop phone number column?"
   ]
  },
  {
   "cell_type": "code",
   "execution_count": 5,
   "metadata": {},
   "outputs": [],
   "source": [
    "# # Turn NaN values in price to nothing, so that it can be recast into the price_level column\n",
    "# df['price'] = df['price'].fillna('').astype('str')"
   ]
  },
  {
   "cell_type": "code",
   "execution_count": 6,
   "metadata": {},
   "outputs": [],
   "source": [
    "# #Casting a new column, price level, using length of column\n",
    "# df['price_level'] = df['price'].apply(lambda x: len(x))"
   ]
  },
  {
   "cell_type": "code",
   "execution_count": 7,
   "metadata": {},
   "outputs": [],
   "source": [
    "# #Setting mode of this column\n",
    "# mode= df.price_level.mode()[0]\n",
    "# mode"
   ]
  },
  {
   "cell_type": "code",
   "execution_count": 8,
   "metadata": {},
   "outputs": [],
   "source": [
    "# #Imputing 0s in price level with the mode for this column\n",
    "# df['price_level'] = df['price_level'].replace(0, mode)"
   ]
  },
  {
   "cell_type": "code",
   "execution_count": 10,
   "metadata": {},
   "outputs": [],
   "source": [
    "# #splitting location columns into two columns\n",
    "# df[['city', 'country']] = df['location'].str.split(',', 1, expand=True)"
   ]
  },
  {
   "cell_type": "code",
   "execution_count": 11,
   "metadata": {},
   "outputs": [],
   "source": [
    "# #Dropping phone number column\n",
    "# df = df.drop(['phone_number'], axis=1)"
   ]
  },
  {
   "cell_type": "code",
   "execution_count": 12,
   "metadata": {},
   "outputs": [],
   "source": [
    "# #Dropping website url column\n",
    "# df = df.drop(['website_url'], axis=1)"
   ]
  },
  {
   "cell_type": "code",
   "execution_count": 13,
   "metadata": {},
   "outputs": [],
   "source": [
    "# #lower case all column values if column is object/string type\n",
    "# df = df.apply(lambda x: x.str.lower() if(x.dtype == 'object') else x)"
   ]
  },
  {
   "cell_type": "code",
   "execution_count": 15,
   "metadata": {},
   "outputs": [],
   "source": [
    "# #Turn city/states into city states, impute city into country column\n",
    "# df['country'] = np.where(pd.isna(df['country']), df['city'], df['country'])"
   ]
  },
  {
   "cell_type": "code",
   "execution_count": 17,
   "metadata": {},
   "outputs": [],
   "source": [
    "# def create_features(df):\n",
    "#     '''\n",
    "#     This function takes in the dataframe, drops unnecessary columns,\n",
    "#     and creates new columns/features for exploration and potential\n",
    "#     classification purposes. It returns the dataframe with applications\n",
    "#     '''\n",
    "#     # Dropping unnecessary columns\n",
    "#     df = df.drop(['phone_number', 'website_url'], axis=1)\n",
    "    \n",
    "#     #lower case all column values if column is object/string type\n",
    "#     df = df.apply(lambda x: x.str.lower() if(x.dtype == 'object') else x)\n",
    "    \n",
    "#     # Turn NaN values in price to 'nothing', so that it can be recast into the price_level column\n",
    "#     df['price'] = df['price'].fillna('').astype('str')\n",
    "#     # Casting a new column, price level, using length of column\n",
    "#     df['price_level'] = df['price'].apply(lambda x: len(x))\n",
    "#     # impute price level \"0\" with the mode for this column\n",
    "#     mode= df.price_level.mode()[0]\n",
    "#     df['price_level'] = df['price_level'].replace(0, mode)\n",
    "    \n",
    "#     # splitting location columns into two columns\n",
    "#     df[['city', 'country']] = df['location'].str.split(', ', 1, expand=True)\n",
    "#     # Turn city/states into city states, impute city into country column (i.e Hong Kong, Hong Kong)\n",
    "#     df['country'] = np.where(pd.isna(df['country']), df['city'], df['country'])\n",
    "\n",
    "#     return df\n"
   ]
  },
  {
   "cell_type": "code",
   "execution_count": 4,
   "metadata": {},
   "outputs": [],
   "source": [
    "train, validate, test = p.prepare_michelin(df)"
   ]
  },
  {
   "cell_type": "code",
   "execution_count": 5,
   "metadata": {},
   "outputs": [
    {
     "data": {
      "text/html": [
       "<div>\n",
       "<style scoped>\n",
       "    .dataframe tbody tr th:only-of-type {\n",
       "        vertical-align: middle;\n",
       "    }\n",
       "\n",
       "    .dataframe tbody tr th {\n",
       "        vertical-align: top;\n",
       "    }\n",
       "\n",
       "    .dataframe thead th {\n",
       "        text-align: right;\n",
       "    }\n",
       "</style>\n",
       "<table border=\"1\" class=\"dataframe\">\n",
       "  <thead>\n",
       "    <tr style=\"text-align: right;\">\n",
       "      <th></th>\n",
       "      <th>name</th>\n",
       "      <th>address</th>\n",
       "      <th>location</th>\n",
       "      <th>price</th>\n",
       "      <th>cuisine</th>\n",
       "      <th>longitude</th>\n",
       "      <th>latitude</th>\n",
       "      <th>url</th>\n",
       "      <th>award</th>\n",
       "      <th>facilities_and_services</th>\n",
       "      <th>data</th>\n",
       "      <th>price_level</th>\n",
       "      <th>city</th>\n",
       "      <th>country</th>\n",
       "      <th>clean</th>\n",
       "      <th>lemmatized</th>\n",
       "      <th>sentiment</th>\n",
       "      <th>word_count</th>\n",
       "    </tr>\n",
       "  </thead>\n",
       "  <tbody>\n",
       "    <tr>\n",
       "      <th>6345</th>\n",
       "      <td>gasthaus ödenturm</td>\n",
       "      <td>am ödenturm 11, cham, 93413, germany</td>\n",
       "      <td>cham, germany</td>\n",
       "      <td>€</td>\n",
       "      <td>country cooking, mediterranean cuisine</td>\n",
       "      <td>12.703851</td>\n",
       "      <td>49.210919</td>\n",
       "      <td>https://guide.michelin.com/en/bayern/cham/rest...</td>\n",
       "      <td>bib gourmand</td>\n",
       "      <td>car park,credit card / debit card accepted,gre...</td>\n",
       "      <td>as if straight out of a picture book, this bea...</td>\n",
       "      <td>1</td>\n",
       "      <td>cham</td>\n",
       "      <td>germany</td>\n",
       "      <td>straight picture book beautiful inn stands edg...</td>\n",
       "      <td>straight picture book beautiful inn stand edge...</td>\n",
       "      <td>0.9136</td>\n",
       "      <td>38</td>\n",
       "    </tr>\n",
       "    <tr>\n",
       "      <th>6427</th>\n",
       "      <td>weinhaus anker</td>\n",
       "      <td>obertorstraße 13, marktheidenfeld, 97828, germany</td>\n",
       "      <td>marktheidenfeld, germany</td>\n",
       "      <td>€</td>\n",
       "      <td>french, country cooking</td>\n",
       "      <td>9.600301</td>\n",
       "      <td>49.845621</td>\n",
       "      <td>https://guide.michelin.com/en/bayern/marktheid...</td>\n",
       "      <td>bib gourmand</td>\n",
       "      <td>american express credit card,car park,credit c...</td>\n",
       "      <td>a restaurant that is steeped in tradition and ...</td>\n",
       "      <td>1</td>\n",
       "      <td>marktheidenfeld</td>\n",
       "      <td>germany</td>\n",
       "      <td>steeped tradition run great commitment lovely ...</td>\n",
       "      <td>steeped tradition run great commitment lovely ...</td>\n",
       "      <td>0.9186</td>\n",
       "      <td>35</td>\n",
       "    </tr>\n",
       "    <tr>\n",
       "      <th>5217</th>\n",
       "      <td>yang bao bao (nanzih)</td>\n",
       "      <td>106 chaoming road, nanzih district, kaohsiung,...</td>\n",
       "      <td>kaohsiung, taipei &amp; taichung</td>\n",
       "      <td>$</td>\n",
       "      <td>dumplings</td>\n",
       "      <td>120.328050</td>\n",
       "      <td>22.724160</td>\n",
       "      <td>https://guide.michelin.com/en/kaohsiung-region...</td>\n",
       "      <td>bib gourmand</td>\n",
       "      <td>air conditioning,car park,cash only</td>\n",
       "      <td>in 1993, this dumpling shop began life as a st...</td>\n",
       "      <td>1</td>\n",
       "      <td>kaohsiung</td>\n",
       "      <td>taipei &amp; taichung</td>\n",
       "      <td>1993 dumpling shop began life street stall loc...</td>\n",
       "      <td>1993 dumpling shop began life street stall loc...</td>\n",
       "      <td>0.6808</td>\n",
       "      <td>49</td>\n",
       "    </tr>\n",
       "    <tr>\n",
       "      <th>3858</th>\n",
       "      <td>le bistrot gastronómico</td>\n",
       "      <td>temprado 12, castelló de la plana, 12002, spain</td>\n",
       "      <td>castelló de la plana, spain</td>\n",
       "      <td>€€</td>\n",
       "      <td>fusion</td>\n",
       "      <td>-0.037028</td>\n",
       "      <td>39.983588</td>\n",
       "      <td>https://guide.michelin.com/en/comunidad-valenc...</td>\n",
       "      <td>bib gourmand</td>\n",
       "      <td>air conditioning,american express credit card,...</td>\n",
       "      <td>an unpretentious, friendly and informal restau...</td>\n",
       "      <td>2</td>\n",
       "      <td>castelló de la plana</td>\n",
       "      <td>spain</td>\n",
       "      <td>unpretentious friendly informal whose aim prov...</td>\n",
       "      <td>unpretentious friendly informal whose aim prov...</td>\n",
       "      <td>0.9607</td>\n",
       "      <td>49</td>\n",
       "    </tr>\n",
       "    <tr>\n",
       "      <th>124</th>\n",
       "      <td>fat duck</td>\n",
       "      <td>high street, bray, sl6 2aq, united kingdom</td>\n",
       "      <td>bray, united kingdom</td>\n",
       "      <td>££££</td>\n",
       "      <td>creative</td>\n",
       "      <td>-0.701753</td>\n",
       "      <td>51.507858</td>\n",
       "      <td>https://guide.michelin.com/en/windsor-and-maid...</td>\n",
       "      <td>3 michelin stars</td>\n",
       "      <td>air conditioning,american express credit card,...</td>\n",
       "      <td>this iconic restaurant celebrated its 25-year ...</td>\n",
       "      <td>4</td>\n",
       "      <td>bray</td>\n",
       "      <td>united kingdom</td>\n",
       "      <td>iconic celebrated 25year anniversary 2021 intr...</td>\n",
       "      <td>iconic celebrated 25year anniversary 2021 intr...</td>\n",
       "      <td>0.9774</td>\n",
       "      <td>40</td>\n",
       "    </tr>\n",
       "  </tbody>\n",
       "</table>\n",
       "</div>"
      ],
      "text/plain": [
       "                         name  \\\n",
       "6345        gasthaus ödenturm   \n",
       "6427           weinhaus anker   \n",
       "5217    yang bao bao (nanzih)   \n",
       "3858  le bistrot gastronómico   \n",
       "124                  fat duck   \n",
       "\n",
       "                                                address  \\\n",
       "6345               am ödenturm 11, cham, 93413, germany   \n",
       "6427  obertorstraße 13, marktheidenfeld, 97828, germany   \n",
       "5217  106 chaoming road, nanzih district, kaohsiung,...   \n",
       "3858    temprado 12, castelló de la plana, 12002, spain   \n",
       "124          high street, bray, sl6 2aq, united kingdom   \n",
       "\n",
       "                          location price  \\\n",
       "6345                 cham, germany     €   \n",
       "6427      marktheidenfeld, germany     €   \n",
       "5217  kaohsiung, taipei & taichung     $   \n",
       "3858   castelló de la plana, spain    €€   \n",
       "124           bray, united kingdom  ££££   \n",
       "\n",
       "                                     cuisine   longitude   latitude  \\\n",
       "6345  country cooking, mediterranean cuisine   12.703851  49.210919   \n",
       "6427                 french, country cooking    9.600301  49.845621   \n",
       "5217                               dumplings  120.328050  22.724160   \n",
       "3858                                  fusion   -0.037028  39.983588   \n",
       "124                                 creative   -0.701753  51.507858   \n",
       "\n",
       "                                                    url             award  \\\n",
       "6345  https://guide.michelin.com/en/bayern/cham/rest...      bib gourmand   \n",
       "6427  https://guide.michelin.com/en/bayern/marktheid...      bib gourmand   \n",
       "5217  https://guide.michelin.com/en/kaohsiung-region...      bib gourmand   \n",
       "3858  https://guide.michelin.com/en/comunidad-valenc...      bib gourmand   \n",
       "124   https://guide.michelin.com/en/windsor-and-maid...  3 michelin stars   \n",
       "\n",
       "                                facilities_and_services  \\\n",
       "6345  car park,credit card / debit card accepted,gre...   \n",
       "6427  american express credit card,car park,credit c...   \n",
       "5217                air conditioning,car park,cash only   \n",
       "3858  air conditioning,american express credit card,...   \n",
       "124   air conditioning,american express credit card,...   \n",
       "\n",
       "                                                   data  price_level  \\\n",
       "6345  as if straight out of a picture book, this bea...            1   \n",
       "6427  a restaurant that is steeped in tradition and ...            1   \n",
       "5217  in 1993, this dumpling shop began life as a st...            1   \n",
       "3858  an unpretentious, friendly and informal restau...            2   \n",
       "124   this iconic restaurant celebrated its 25-year ...            4   \n",
       "\n",
       "                      city            country  \\\n",
       "6345                  cham            germany   \n",
       "6427       marktheidenfeld            germany   \n",
       "5217             kaohsiung  taipei & taichung   \n",
       "3858  castelló de la plana              spain   \n",
       "124                   bray     united kingdom   \n",
       "\n",
       "                                                  clean  \\\n",
       "6345  straight picture book beautiful inn stands edg...   \n",
       "6427  steeped tradition run great commitment lovely ...   \n",
       "5217  1993 dumpling shop began life street stall loc...   \n",
       "3858  unpretentious friendly informal whose aim prov...   \n",
       "124   iconic celebrated 25year anniversary 2021 intr...   \n",
       "\n",
       "                                             lemmatized  sentiment  word_count  \n",
       "6345  straight picture book beautiful inn stand edge...     0.9136          38  \n",
       "6427  steeped tradition run great commitment lovely ...     0.9186          35  \n",
       "5217  1993 dumpling shop began life street stall loc...     0.6808          49  \n",
       "3858  unpretentious friendly informal whose aim prov...     0.9607          49  \n",
       "124   iconic celebrated 25year anniversary 2021 intr...     0.9774          40  "
      ]
     },
     "execution_count": 5,
     "metadata": {},
     "output_type": "execute_result"
    }
   ],
   "source": [
    "train.head()"
   ]
  },
  {
   "cell_type": "code",
   "execution_count": 21,
   "metadata": {},
   "outputs": [],
   "source": [
    "# df[df.data == 'None']"
   ]
  },
  {
   "cell_type": "code",
   "execution_count": 22,
   "metadata": {},
   "outputs": [],
   "source": [
    "#Code for removing former michelin restaurants still in df\n",
    "# df = df[df.data != 'None']"
   ]
  },
  {
   "cell_type": "code",
   "execution_count": 23,
   "metadata": {},
   "outputs": [],
   "source": [
    "# # Creating column with length of clean words\n",
    "# df['lemm_wordcount'] = df.lemmatized.str.split().apply(len)"
   ]
  },
  {
   "cell_type": "code",
   "execution_count": 5,
   "metadata": {},
   "outputs": [],
   "source": [
    "#Making an empty list of words\n",
    "words = []\n",
    "for i in train['lemmatized']:\n",
    "    for word in i.split(): #Splitting the sentence into words\n",
    "        words.append(word) #appending each word to the list"
   ]
  },
  {
   "cell_type": "code",
   "execution_count": 6,
   "metadata": {},
   "outputs": [],
   "source": [
    "#Turning into series based on value counts\n",
    "word_freq = pd.Series(words).value_counts()"
   ]
  },
  {
   "cell_type": "code",
   "execution_count": 7,
   "metadata": {},
   "outputs": [
    {
     "data": {
      "text/plain": [
       "dish            1954\n",
       "ingredient      1183\n",
       "also             997\n",
       "flavour          969\n",
       "wine             957\n",
       "'                867\n",
       "modern           831\n",
       "room             778\n",
       "kitchen          713\n",
       "one              661\n",
       "local            655\n",
       "food             582\n",
       "fish             580\n",
       "set              565\n",
       "cooking          552\n",
       "produce          541\n",
       "sauce            523\n",
       "traditional      523\n",
       "like             480\n",
       "served           471\n",
       "offer            470\n",
       "make             469\n",
       "culinary         465\n",
       "take             457\n",
       "two              454\n",
       "well             453\n",
       "table            450\n",
       "classic          449\n",
       "service          448\n",
       "seasonal         440\n",
       "experience       436\n",
       "made             402\n",
       "terrace          402\n",
       "come             398\n",
       "guest            395\n",
       "menu             391\n",
       "pork             390\n",
       "la               390\n",
       "team             388\n",
       "rice             386\n",
       "small            385\n",
       "name             383\n",
       "elegant          380\n",
       "feature          380\n",
       "fine             375\n",
       "meat             372\n",
       "contemporary     369\n",
       "vegetable        369\n",
       "house            363\n",
       "tasting          356\n",
       "dtype: int64"
      ]
     },
     "execution_count": 7,
     "metadata": {},
     "output_type": "execute_result"
    }
   ],
   "source": [
    "word_freq.sort_values(ascending=False).head(50)"
   ]
  },
  {
   "cell_type": "code",
   "execution_count": 8,
   "metadata": {},
   "outputs": [
    {
     "data": {
      "text/plain": [
       "daechuns            1\n",
       "diversify           1\n",
       "rekindles           1\n",
       "booklet             1\n",
       "seesawing           1\n",
       "beuscherl           1\n",
       "backlikely          1\n",
       "weekfor             1\n",
       "kojacha             1\n",
       "ja                  1\n",
       "nimble              1\n",
       "lima                1\n",
       "barranco            1\n",
       "kreis               1\n",
       "luck                1\n",
       "mit                 1\n",
       "fiveskewer          1\n",
       "serviettenknodel    1\n",
       "berdin              1\n",
       "jennifer            1\n",
       "banagale            1\n",
       "driver              1\n",
       "sanctum             1\n",
       "pacing              1\n",
       "rudderfish          1\n",
       "tosazu              1\n",
       "vealandpork         1\n",
       "lemonbe             1\n",
       "ciccio              1\n",
       "1916era             1\n",
       "ciboule             1\n",
       "loco                1\n",
       "malo                1\n",
       "chouin              1\n",
       "snub                1\n",
       "castelbrac          1\n",
       "charcot             1\n",
       "seaman              1\n",
       "polar               1\n",
       "dinan               1\n",
       "hennote             1\n",
       "polynesia           1\n",
       "professes           1\n",
       "pirate              1\n",
       "eraand              1\n",
       "yeongdu             1\n",
       "yountville          1\n",
       "wayne               1\n",
       "woodframed          1\n",
       "200g                1\n",
       "dtype: int64"
      ]
     },
     "execution_count": 8,
     "metadata": {},
     "output_type": "execute_result"
    }
   ],
   "source": [
    "word_freq.sort_values(ascending=False).tail(50)"
   ]
  },
  {
   "cell_type": "code",
   "execution_count": 9,
   "metadata": {},
   "outputs": [
    {
     "data": {
      "text/plain": [
       "bib gourmand        1908\n",
       "1 michelin star     1536\n",
       "2 michelin stars     270\n",
       "3 michelin stars      79\n",
       "Name: award, dtype: Int64"
      ]
     },
     "execution_count": 9,
     "metadata": {},
     "output_type": "execute_result"
    }
   ],
   "source": [
    "train.award.value_counts()"
   ]
  },
  {
   "cell_type": "code",
   "execution_count": 10,
   "metadata": {},
   "outputs": [],
   "source": [
    "#Make dataframes by award category\n",
    "train_bib = train[train.award == 'bib gourmand']\n",
    "train_onestar = train[train.award == '1 michelin star']\n",
    "train_twostar = train[train.award == '2 michelin stars']\n",
    "train_threestar = train[train.award == '3 michelin stars']"
   ]
  },
  {
   "cell_type": "code",
   "execution_count": 11,
   "metadata": {},
   "outputs": [],
   "source": [
    "#Making a list of bib words\n",
    "bib_words = []\n",
    "for i in train_bib['lemmatized']:\n",
    "    for word in i.split(): #Splitting the sentence into words\n",
    "        bib_words.append(word) #appending each word to the list\n",
    "        \n",
    "#Making a list of one star words\n",
    "onestar_words = []\n",
    "for i in train_onestar['lemmatized']:\n",
    "    for word in i.split(): #Splitting the sentence into words\n",
    "        onestar_words.append(word) #appending each word to the list\n",
    "\n",
    "#Making a list of two star words\n",
    "twostar_words = []\n",
    "for i in train_twostar['lemmatized']:\n",
    "    for word in i.split(): #Splitting the sentence into words\n",
    "        twostar_words.append(word) #appending each word to the list\n",
    "\n",
    "#Making a list of three star words\n",
    "threestar_words = []\n",
    "for i in train_threestar['lemmatized']:\n",
    "    for word in i.split(): #Splitting the sentence into words\n",
    "        threestar_words.append(word) #appending each word to the list"
   ]
  },
  {
   "cell_type": "code",
   "execution_count": 12,
   "metadata": {},
   "outputs": [],
   "source": [
    "#Turning into series based on value counts\n",
    "bib_freq = pd.Series(bib_words).value_counts()\n",
    "onestar_freq = pd.Series(onestar_words).value_counts()\n",
    "twostar_freq = pd.Series(twostar_words).value_counts()\n",
    "threestar_freq = pd.Series(threestar_words).value_counts()"
   ]
  },
  {
   "cell_type": "code",
   "execution_count": 13,
   "metadata": {},
   "outputs": [
    {
     "name": "stdout",
     "output_type": "stream",
     "text": [
      "dish           820\n",
      "also           420\n",
      "flavour        339\n",
      "'              332\n",
      "pork           331\n",
      "ingredient     323\n",
      "food           322\n",
      "room           317\n",
      "sauce          316\n",
      "traditional    315\n",
      "local          312\n",
      "wine           296\n",
      "modern         272\n",
      "rice           257\n",
      "like           255\n",
      "noodle         252\n",
      "fish           251\n",
      "kitchen        250\n",
      "cooking        245\n",
      "offer          243\n",
      "chicken        242\n",
      "soup           231\n",
      "made           222\n",
      "one            221\n",
      "meat           218\n",
      "dtype: int64\n"
     ]
    }
   ],
   "source": [
    "#Frequency of bib gourmand words\n",
    "print(bib_freq.nlargest(25))"
   ]
  },
  {
   "cell_type": "code",
   "execution_count": 14,
   "metadata": {},
   "outputs": [
    {
     "name": "stdout",
     "output_type": "stream",
     "text": [
      "dish          908\n",
      "ingredient    694\n",
      "wine          566\n",
      "flavour       497\n",
      "also          474\n",
      "modern        468\n",
      "'             396\n",
      "kitchen       387\n",
      "room          385\n",
      "one           364\n",
      "produce       316\n",
      "local         302\n",
      "set           295\n",
      "experience    269\n",
      "culinary      265\n",
      "cooking       257\n",
      "fish          256\n",
      "guest         256\n",
      "elegant       255\n",
      "take          254\n",
      "menu          252\n",
      "tasting       251\n",
      "service       240\n",
      "served        233\n",
      "creative      231\n",
      "dtype: int64\n"
     ]
    }
   ],
   "source": [
    "#Frequency of one star words\n",
    "print(onestar_freq.nlargest(25))"
   ]
  },
  {
   "cell_type": "code",
   "execution_count": 15,
   "metadata": {},
   "outputs": [
    {
     "name": "stdout",
     "output_type": "stream",
     "text": [
      "dish          167\n",
      "ingredient    124\n",
      "'             112\n",
      "flavour        95\n",
      "also           86\n",
      "wine           77\n",
      "modern         76\n",
      "set            69\n",
      "fish           64\n",
      "culinary       62\n",
      "kitchen        62\n",
      "creative       60\n",
      "team           59\n",
      "room           58\n",
      "produce        58\n",
      "chef           54\n",
      "one            51\n",
      "fine           50\n",
      "elegant        50\n",
      "vegetable      49\n",
      "experience     43\n",
      "table          42\n",
      "service        42\n",
      "view           41\n",
      "menu           41\n",
      "dtype: int64\n"
     ]
    }
   ],
   "source": [
    "#Frequency of two star words\n",
    "print(twostar_freq.nlargest(25))"
   ]
  },
  {
   "cell_type": "code",
   "execution_count": 16,
   "metadata": {},
   "outputs": [
    {
     "name": "stdout",
     "output_type": "stream",
     "text": [
      "dish          59\n",
      "ingredient    42\n",
      "flavour       38\n",
      "service       29\n",
      "'             27\n",
      "experience    27\n",
      "culinary      25\n",
      "one           25\n",
      "team          20\n",
      "make          18\n",
      "wine          18\n",
      "room          18\n",
      "also          17\n",
      "elegant       15\n",
      "setting       15\n",
      "tasting       15\n",
      "modern        15\n",
      "always        15\n",
      "cooking       15\n",
      "superb        14\n",
      "kitchen       14\n",
      "set           14\n",
      "diner         14\n",
      "come          14\n",
      "work          14\n",
      "dtype: int64\n"
     ]
    }
   ],
   "source": [
    "#Frequency of three star words\n",
    "print(threestar_freq.nlargest(25))"
   ]
  },
  {
   "cell_type": "code",
   "execution_count": 17,
   "metadata": {},
   "outputs": [
    {
     "data": {
      "text/plain": [
       "'stone throw yonghe temple serene remodelled courtyard house feature glassroofed room honed skill grandparent name set menu available try classic sample speciality regular may opt solarterm change every 15 day live harp performance befits restaurant classy elegance'"
      ]
     },
     "execution_count": 17,
     "metadata": {},
     "output_type": "execute_result"
    }
   ],
   "source": [
    "train.lemmatized[0]"
   ]
  },
  {
   "cell_type": "code",
   "execution_count": 18,
   "metadata": {},
   "outputs": [
    {
     "data": {
      "text/plain": [
       "france               573\n",
       "japan                474\n",
       "italy                385\n",
       "usa                  336\n",
       "germany              335\n",
       "spain                285\n",
       "switzerland          151\n",
       "belgium              143\n",
       "united kingdom       142\n",
       "netherlands          128\n",
       "china mainland       121\n",
       "thailand             121\n",
       "taipei & taichung     99\n",
       "hong kong             71\n",
       "singapore             70\n",
       "south korea           49\n",
       "portugal              40\n",
       "brazil                27\n",
       "denmark               27\n",
       "canada                22\n",
       "ireland               20\n",
       "malaysia              19\n",
       "austria               18\n",
       "croatia               14\n",
       "slovenia              13\n",
       "sweden                12\n",
       "dubai                 12\n",
       "macau                 10\n",
       "luxembourg            10\n",
       "norway                 9\n",
       "hungary                9\n",
       "türkiye                8\n",
       "greece                 7\n",
       "malta                  6\n",
       "finland                6\n",
       "czech republic         5\n",
       "abu dhabi              5\n",
       "estonia                4\n",
       "poland                 4\n",
       "iceland                2\n",
       "andorra                1\n",
       "Name: country, dtype: int64"
      ]
     },
     "execution_count": 18,
     "metadata": {},
     "output_type": "execute_result"
    }
   ],
   "source": [
    "# What are the countries with the most Michelin Star Restaurants?\n",
    "train.country.value_counts()"
   ]
  },
  {
   "cell_type": "code",
   "execution_count": 19,
   "metadata": {},
   "outputs": [
    {
     "data": {
      "text/plain": [
       "Bib Gourmand        3411\n",
       "1 MICHELIN Star     2744\n",
       "2 MICHELIN Stars     483\n",
       "3 MICHELIN Stars     142\n",
       "Name: award, dtype: int64"
      ]
     },
     "execution_count": 19,
     "metadata": {},
     "output_type": "execute_result"
    }
   ],
   "source": [
    "df.award.value_counts()"
   ]
  },
  {
   "cell_type": "code",
   "execution_count": 20,
   "metadata": {},
   "outputs": [],
   "source": [
    "def get_award_freq(train):\n",
    "    '''\n",
    "    This function takes in the training data set and creates a countplot\n",
    "    utilizing Seaborn to visualize the range and values of programming\n",
    "    languages in GitHub Repositories'''\n",
    "    sns.set_style(\"darkgrid\")\n",
    "    fig, axes = plt.subplots(figsize=(9, 6))\n",
    "    cpt = sns.countplot(x='award',\n",
    "                        data=train,\n",
    "                        palette='RdYlGn_r',\n",
    "                        order = train['award'].value_counts().index)\n",
    "    plt.title('Bib Gourmand is the Most Common Award Level in our Dataset')\n",
    "    plt.xlabel(\"Award Level\")\n",
    "    plt.ylabel('Count of Restaurants')\n",
    "    for tick in axes.xaxis.get_major_ticks():\n",
    "        tick.label1.set_fontsize(10)\n",
    "    plt.show()"
   ]
  },
  {
   "cell_type": "code",
   "execution_count": 45,
   "metadata": {},
   "outputs": [
    {
     "data": {
      "image/png": "[encoded data removed]",
      "text/plain": [
       "<Figure size 900x600 with 1 Axes>"
      ]
     },
     "metadata": {
      "image/png": {
       "height": 543,
       "width": 776
      }
     },
     "output_type": "display_data"
    }
   ],
   "source": [
    "get_award_freq(train)"
   ]
  },
  {
   "cell_type": "code",
   "execution_count": 51,
   "metadata": {},
   "outputs": [],
   "source": [
    "def get_wordcount_bar(train):\n",
    "    '''\n",
    "    This function takes in the training dataset and creates a bar plot of the\n",
    "    average wordcount of a review based on the Michelin Star Award\n",
    "    '''\n",
    "    # Use groupby to get an average length per language\n",
    "    review_wordcount = train.groupby('award').word_count.mean().sort_values(ascending=False)\n",
    "    # Set style, make a chart\n",
    "    sns.set_style(\"darkgrid\")\n",
    "    fig, axes = plt.subplots(figsize=(9, 6))\n",
    "    ax = sns.barplot(x=review_wordcount.values, \n",
    "                 y=review_wordcount.index, palette='coolwarm')\n",
    "    plt.title('Average Wordcount of Michelin Star Level Restaurants')\n",
    "    plt.xlabel(\"Average Word Count\")\n",
    "    plt.ylabel('Award Level')\n",
    "    plt.show()"
   ]
  },
  {
   "cell_type": "code",
   "execution_count": 52,
   "metadata": {},
   "outputs": [
    {
     "data": {
      "image/png": "[encoded data removed]",
      "text/plain": [
       "<Figure size 900x600 with 1 Axes>"
      ]
     },
     "metadata": {
      "image/png": {
       "height": 543,
       "width": 842
      }
     },
     "output_type": "display_data"
    }
   ],
   "source": [
    "get_wordcount_bar(train)"
   ]
  },
  {
   "cell_type": "code",
   "execution_count": 21,
   "metadata": {},
   "outputs": [
    {
     "data": {
      "text/plain": [
       "modern cuisine              568\n",
       "creative                    238\n",
       "japanese                    165\n",
       "traditional cuisine         118\n",
       "french                      107\n",
       "street food                 101\n",
       "italian                      74\n",
       "contemporary                 73\n",
       "cantonese                    55\n",
       "classic cuisine              51\n",
       "creative, modern cuisine     50\n",
       "sushi                        47\n",
       "modern french                47\n",
       "thai                         40\n",
       "seafood                      37\n",
       "modern british               35\n",
       "regional cuisine             34\n",
       "modern cuisine, creative     33\n",
       "market cuisine               32\n",
       "mediterranean cuisine        31\n",
       "country cooking              30\n",
       "taiwanese                    28\n",
       "creative, contemporary       28\n",
       "soba                         27\n",
       "chinese                      27\n",
       "Name: cuisine, dtype: Int64"
      ]
     },
     "execution_count": 21,
     "metadata": {},
     "output_type": "execute_result"
    }
   ],
   "source": [
    "train.cuisine.value_counts().sort_values(ascending=False).head(25)"
   ]
  },
  {
   "cell_type": "code",
   "execution_count": 22,
   "metadata": {},
   "outputs": [
    {
     "data": {
      "text/html": [
       "<div>\n",
       "<style scoped>\n",
       "    .dataframe tbody tr th:only-of-type {\n",
       "        vertical-align: middle;\n",
       "    }\n",
       "\n",
       "    .dataframe tbody tr th {\n",
       "        vertical-align: top;\n",
       "    }\n",
       "\n",
       "    .dataframe thead th {\n",
       "        text-align: right;\n",
       "    }\n",
       "</style>\n",
       "<table border=\"1\" class=\"dataframe\">\n",
       "  <thead>\n",
       "    <tr style=\"text-align: right;\">\n",
       "      <th></th>\n",
       "      <th>name</th>\n",
       "      <th>address</th>\n",
       "      <th>location</th>\n",
       "      <th>price</th>\n",
       "      <th>cuisine</th>\n",
       "      <th>longitude</th>\n",
       "      <th>latitude</th>\n",
       "      <th>url</th>\n",
       "      <th>award</th>\n",
       "      <th>facilities_and_services</th>\n",
       "      <th>data</th>\n",
       "      <th>price_level</th>\n",
       "      <th>city</th>\n",
       "      <th>country</th>\n",
       "      <th>clean</th>\n",
       "      <th>lemmatized</th>\n",
       "      <th>sentiment</th>\n",
       "      <th>word_count</th>\n",
       "    </tr>\n",
       "  </thead>\n",
       "  <tbody>\n",
       "    <tr>\n",
       "      <th>6345</th>\n",
       "      <td>gasthaus ödenturm</td>\n",
       "      <td>am ödenturm 11, cham, 93413, germany</td>\n",
       "      <td>cham, germany</td>\n",
       "      <td>€</td>\n",
       "      <td>country cooking, mediterranean cuisine</td>\n",
       "      <td>12.703851</td>\n",
       "      <td>49.210919</td>\n",
       "      <td>https://guide.michelin.com/en/bayern/cham/rest...</td>\n",
       "      <td>bib gourmand</td>\n",
       "      <td>car park,credit card / debit card accepted,gre...</td>\n",
       "      <td>as if straight out of a picture book, this bea...</td>\n",
       "      <td>1</td>\n",
       "      <td>cham</td>\n",
       "      <td>germany</td>\n",
       "      <td>straight picture book beautiful inn stands edg...</td>\n",
       "      <td>straight picture book beautiful inn stand edge...</td>\n",
       "      <td>0.9136</td>\n",
       "      <td>38</td>\n",
       "    </tr>\n",
       "    <tr>\n",
       "      <th>6427</th>\n",
       "      <td>weinhaus anker</td>\n",
       "      <td>obertorstraße 13, marktheidenfeld, 97828, germany</td>\n",
       "      <td>marktheidenfeld, germany</td>\n",
       "      <td>€</td>\n",
       "      <td>french, country cooking</td>\n",
       "      <td>9.600301</td>\n",
       "      <td>49.845621</td>\n",
       "      <td>https://guide.michelin.com/en/bayern/marktheid...</td>\n",
       "      <td>bib gourmand</td>\n",
       "      <td>american express credit card,car park,credit c...</td>\n",
       "      <td>a restaurant that is steeped in tradition and ...</td>\n",
       "      <td>1</td>\n",
       "      <td>marktheidenfeld</td>\n",
       "      <td>germany</td>\n",
       "      <td>steeped tradition run great commitment lovely ...</td>\n",
       "      <td>steeped tradition run great commitment lovely ...</td>\n",
       "      <td>0.9186</td>\n",
       "      <td>35</td>\n",
       "    </tr>\n",
       "  </tbody>\n",
       "</table>\n",
       "</div>"
      ],
      "text/plain": [
       "                   name                                            address  \\\n",
       "6345  gasthaus ödenturm               am ödenturm 11, cham, 93413, germany   \n",
       "6427     weinhaus anker  obertorstraße 13, marktheidenfeld, 97828, germany   \n",
       "\n",
       "                      location price                                 cuisine  \\\n",
       "6345             cham, germany     €  country cooking, mediterranean cuisine   \n",
       "6427  marktheidenfeld, germany     €                 french, country cooking   \n",
       "\n",
       "      longitude   latitude                                                url  \\\n",
       "6345  12.703851  49.210919  https://guide.michelin.com/en/bayern/cham/rest...   \n",
       "6427   9.600301  49.845621  https://guide.michelin.com/en/bayern/marktheid...   \n",
       "\n",
       "             award                            facilities_and_services  \\\n",
       "6345  bib gourmand  car park,credit card / debit card accepted,gre...   \n",
       "6427  bib gourmand  american express credit card,car park,credit c...   \n",
       "\n",
       "                                                   data  price_level  \\\n",
       "6345  as if straight out of a picture book, this bea...            1   \n",
       "6427  a restaurant that is steeped in tradition and ...            1   \n",
       "\n",
       "                 city  country  \\\n",
       "6345             cham  germany   \n",
       "6427  marktheidenfeld  germany   \n",
       "\n",
       "                                                  clean  \\\n",
       "6345  straight picture book beautiful inn stands edg...   \n",
       "6427  steeped tradition run great commitment lovely ...   \n",
       "\n",
       "                                             lemmatized  sentiment  word_count  \n",
       "6345  straight picture book beautiful inn stand edge...     0.9136          38  \n",
       "6427  steeped tradition run great commitment lovely ...     0.9186          35  "
      ]
     },
     "execution_count": 22,
     "metadata": {},
     "output_type": "execute_result"
    }
   ],
   "source": [
    "train.head(2)"
   ]
  },
  {
   "cell_type": "code",
   "execution_count": 23,
   "metadata": {},
   "outputs": [
    {
     "data": {
      "text/html": [
       "<div>\n",
       "<style scoped>\n",
       "    .dataframe tbody tr th:only-of-type {\n",
       "        vertical-align: middle;\n",
       "    }\n",
       "\n",
       "    .dataframe tbody tr th {\n",
       "        vertical-align: top;\n",
       "    }\n",
       "\n",
       "    .dataframe thead th {\n",
       "        text-align: right;\n",
       "    }\n",
       "</style>\n",
       "<table border=\"1\" class=\"dataframe\">\n",
       "  <thead>\n",
       "    <tr style=\"text-align: right;\">\n",
       "      <th></th>\n",
       "      <th>name</th>\n",
       "      <th>address</th>\n",
       "      <th>location</th>\n",
       "      <th>price</th>\n",
       "      <th>cuisine</th>\n",
       "      <th>longitude</th>\n",
       "      <th>latitude</th>\n",
       "      <th>url</th>\n",
       "      <th>award</th>\n",
       "      <th>facilities_and_services</th>\n",
       "      <th>data</th>\n",
       "      <th>price_level</th>\n",
       "      <th>city</th>\n",
       "      <th>country</th>\n",
       "      <th>clean</th>\n",
       "      <th>lemmatized</th>\n",
       "      <th>sentiment</th>\n",
       "      <th>word_count</th>\n",
       "    </tr>\n",
       "  </thead>\n",
       "  <tbody>\n",
       "    <tr>\n",
       "      <th>2447</th>\n",
       "      <td>la promenade</td>\n",
       "      <td>11 rue du savoureulx, le petit-pressigny, 3735...</td>\n",
       "      <td>le petit-pressigny, france</td>\n",
       "      <td>€€€</td>\n",
       "      <td>modern cuisine</td>\n",
       "      <td>0.918838</td>\n",
       "      <td>46.920786</td>\n",
       "      <td>https://guide.michelin.com/en/centre-val-de-lo...</td>\n",
       "      <td>1 michelin star</td>\n",
       "      <td>air conditioning,credit card / debit card acce...</td>\n",
       "      <td>it may take a little getting to, but this fami...</td>\n",
       "      <td>3</td>\n",
       "      <td>le petit-pressigny</td>\n",
       "      <td>france</td>\n",
       "      <td>may take little getting familyrun inn located ...</td>\n",
       "      <td>may take little getting familyrun inn located ...</td>\n",
       "      <td>0.9690</td>\n",
       "      <td>73</td>\n",
       "    </tr>\n",
       "    <tr>\n",
       "      <th>485</th>\n",
       "      <td>la villa archange</td>\n",
       "      <td>rue de l'ouest, le cannet, 06110, france</td>\n",
       "      <td>le cannet, france</td>\n",
       "      <td>€€€€</td>\n",
       "      <td>modern cuisine</td>\n",
       "      <td>7.014556</td>\n",
       "      <td>43.571656</td>\n",
       "      <td>https://guide.michelin.com/en/provence-alpes-c...</td>\n",
       "      <td>2 michelin stars</td>\n",
       "      <td>air conditioning,car park,credit card / debit ...</td>\n",
       "      <td>a cosy little venue with old wooden floorboard...</td>\n",
       "      <td>4</td>\n",
       "      <td>le cannet</td>\n",
       "      <td>france</td>\n",
       "      <td>cosy little venue old wooden floorboards big c...</td>\n",
       "      <td>cosy little venue old wooden floorboard big co...</td>\n",
       "      <td>0.9231</td>\n",
       "      <td>77</td>\n",
       "    </tr>\n",
       "    <tr>\n",
       "      <th>2627</th>\n",
       "      <td>l'hysope</td>\n",
       "      <td>25 rue de l'aurore, la jarrie, 17220, france</td>\n",
       "      <td>la jarrie, france</td>\n",
       "      <td>€€€€</td>\n",
       "      <td>creative</td>\n",
       "      <td>-1.009875</td>\n",
       "      <td>46.129509</td>\n",
       "      <td>https://guide.michelin.com/en/nouvelle-aquitai...</td>\n",
       "      <td>1 michelin star</td>\n",
       "      <td>air conditioning,credit card / debit card acce...</td>\n",
       "      <td>nicolas durif is nothing if not creative! he h...</td>\n",
       "      <td>4</td>\n",
       "      <td>la jarrie</td>\n",
       "      <td>france</td>\n",
       "      <td>nicolas durif nothing creative taken abode end...</td>\n",
       "      <td>nicolas durif nothing creative taken abode end...</td>\n",
       "      <td>0.8456</td>\n",
       "      <td>73</td>\n",
       "    </tr>\n",
       "    <tr>\n",
       "      <th>6019</th>\n",
       "      <td>sauf imprévu</td>\n",
       "      <td>40 rue pierre-corneille, lyon, 69006, france</td>\n",
       "      <td>lyon, france</td>\n",
       "      <td>€</td>\n",
       "      <td>market cuisine</td>\n",
       "      <td>4.843458</td>\n",
       "      <td>45.765181</td>\n",
       "      <td>https://guide.michelin.com/en/auvergne-rhone-a...</td>\n",
       "      <td>bib gourmand</td>\n",
       "      <td>credit card / debit card accepted,mastercard c...</td>\n",
       "      <td>félix gagnaire, a pastry chef by training and ...</td>\n",
       "      <td>1</td>\n",
       "      <td>lyon</td>\n",
       "      <td>france</td>\n",
       "      <td>felix gagnaire pastry training son multistarre...</td>\n",
       "      <td>felix gagnaire pastry training son multistarre...</td>\n",
       "      <td>0.9612</td>\n",
       "      <td>57</td>\n",
       "    </tr>\n",
       "    <tr>\n",
       "      <th>6113</th>\n",
       "      <td>auberge metzger</td>\n",
       "      <td>55 rue principale, natzwiller, 67130, france</td>\n",
       "      <td>natzwiller, france</td>\n",
       "      <td>€€</td>\n",
       "      <td>traditional cuisine</td>\n",
       "      <td>7.258197</td>\n",
       "      <td>48.436357</td>\n",
       "      <td>https://guide.michelin.com/en/grand-est/natzwi...</td>\n",
       "      <td>bib gourmand</td>\n",
       "      <td>american express credit card,car park,credit c...</td>\n",
       "      <td>precise cooking, quality ingredients, well - p...</td>\n",
       "      <td>2</td>\n",
       "      <td>natzwiller</td>\n",
       "      <td>france</td>\n",
       "      <td>precise cooking quality ingredients well prese...</td>\n",
       "      <td>precise cooking quality ingredient well presen...</td>\n",
       "      <td>0.8957</td>\n",
       "      <td>26</td>\n",
       "    </tr>\n",
       "    <tr>\n",
       "      <th>...</th>\n",
       "      <td>...</td>\n",
       "      <td>...</td>\n",
       "      <td>...</td>\n",
       "      <td>...</td>\n",
       "      <td>...</td>\n",
       "      <td>...</td>\n",
       "      <td>...</td>\n",
       "      <td>...</td>\n",
       "      <td>...</td>\n",
       "      <td>...</td>\n",
       "      <td>...</td>\n",
       "      <td>...</td>\n",
       "      <td>...</td>\n",
       "      <td>...</td>\n",
       "      <td>...</td>\n",
       "      <td>...</td>\n",
       "      <td>...</td>\n",
       "      <td>...</td>\n",
       "    </tr>\n",
       "    <tr>\n",
       "      <th>2610</th>\n",
       "      <td>le verbois</td>\n",
       "      <td>6 rue la grande-folie, à st-maximin, chantilly...</td>\n",
       "      <td>chantilly, france</td>\n",
       "      <td>€€€€</td>\n",
       "      <td>modern cuisine</td>\n",
       "      <td>2.466784</td>\n",
       "      <td>49.221672</td>\n",
       "      <td>https://guide.michelin.com/en/hauts-de-france/...</td>\n",
       "      <td>1 michelin star</td>\n",
       "      <td>air conditioning,american express credit card,...</td>\n",
       "      <td>in the guibet family, the reins of this former...</td>\n",
       "      <td>4</td>\n",
       "      <td>chantilly</td>\n",
       "      <td>france</td>\n",
       "      <td>guibet family reins former hunting lodge 1886 ...</td>\n",
       "      <td>guibet family rein former hunting lodge 1886 p...</td>\n",
       "      <td>0.9274</td>\n",
       "      <td>60</td>\n",
       "    </tr>\n",
       "    <tr>\n",
       "      <th>495</th>\n",
       "      <td>le coquillage</td>\n",
       "      <td>lieu-dit le buot, cancale, 35350, france</td>\n",
       "      <td>cancale, france</td>\n",
       "      <td>€€€€</td>\n",
       "      <td>seafood, creative</td>\n",
       "      <td>-1.871123</td>\n",
       "      <td>48.643065</td>\n",
       "      <td>https://guide.michelin.com/en/bretagne/cancale...</td>\n",
       "      <td>2 michelin stars</td>\n",
       "      <td>american express credit card,car park,credit c...</td>\n",
       "      <td>hugo roellinger began his career as an officer...</td>\n",
       "      <td>4</td>\n",
       "      <td>cancale</td>\n",
       "      <td>france</td>\n",
       "      <td>hugo roellinger began career officer merchant ...</td>\n",
       "      <td>hugo roellinger began career officer merchant ...</td>\n",
       "      <td>0.9545</td>\n",
       "      <td>79</td>\n",
       "    </tr>\n",
       "    <tr>\n",
       "      <th>2833</th>\n",
       "      <td>gaya par pierre gagnaire</td>\n",
       "      <td>6 rue de saint-simon, paris, 75007, france</td>\n",
       "      <td>paris, france</td>\n",
       "      <td>€€€</td>\n",
       "      <td>modern cuisine, seafood</td>\n",
       "      <td>2.324072</td>\n",
       "      <td>48.856508</td>\n",
       "      <td>https://guide.michelin.com/en/ile-de-france/pa...</td>\n",
       "      <td>1 michelin star</td>\n",
       "      <td>air conditioning,american express credit card,...</td>\n",
       "      <td>on the site of the former ferme saint simon (a...</td>\n",
       "      <td>3</td>\n",
       "      <td>paris</td>\n",
       "      <td>france</td>\n",
       "      <td>site former ferme saint simon institution dati...</td>\n",
       "      <td>site former ferme saint simon institution dati...</td>\n",
       "      <td>0.9699</td>\n",
       "      <td>78</td>\n",
       "    </tr>\n",
       "    <tr>\n",
       "      <th>6063</th>\n",
       "      <td>le saint joseph</td>\n",
       "      <td>100 boulevard de la république, la garenne-col...</td>\n",
       "      <td>la garenne-colombes, france</td>\n",
       "      <td>€€</td>\n",
       "      <td>modern cuisine</td>\n",
       "      <td>2.240886</td>\n",
       "      <td>48.907332</td>\n",
       "      <td>https://guide.michelin.com/en/ile-de-france/la...</td>\n",
       "      <td>bib gourmand</td>\n",
       "      <td>air conditioning,american express credit card,...</td>\n",
       "      <td>this local bistro serves wholesome, updated, t...</td>\n",
       "      <td>2</td>\n",
       "      <td>la garenne-colombes</td>\n",
       "      <td>france</td>\n",
       "      <td>local bistro serves wholesome updated tasty fa...</td>\n",
       "      <td>local bistro serf wholesome updated tasty fare...</td>\n",
       "      <td>0.6705</td>\n",
       "      <td>30</td>\n",
       "    </tr>\n",
       "    <tr>\n",
       "      <th>5925</th>\n",
       "      <td>le clos monteils</td>\n",
       "      <td>7 chemin du moulin, monteils, 82300, france</td>\n",
       "      <td>monteils, france</td>\n",
       "      <td>€€</td>\n",
       "      <td>traditional cuisine</td>\n",
       "      <td>1.565979</td>\n",
       "      <td>44.173716</td>\n",
       "      <td>https://guide.michelin.com/en/occitanie/montei...</td>\n",
       "      <td>bib gourmand</td>\n",
       "      <td>car park,credit card / debit card accepted,mas...</td>\n",
       "      <td>françoise and bernard bordaries turned this 17...</td>\n",
       "      <td>2</td>\n",
       "      <td>monteils</td>\n",
       "      <td>france</td>\n",
       "      <td>francoise bernard bordaries turned 1771 presby...</td>\n",
       "      <td>francoise bernard bordaries turned 1771 presby...</td>\n",
       "      <td>0.9612</td>\n",
       "      <td>25</td>\n",
       "    </tr>\n",
       "  </tbody>\n",
       "</table>\n",
       "<p>573 rows × 18 columns</p>\n",
       "</div>"
      ],
      "text/plain": [
       "                          name  \\\n",
       "2447              la promenade   \n",
       "485          la villa archange   \n",
       "2627                  l'hysope   \n",
       "6019              sauf imprévu   \n",
       "6113           auberge metzger   \n",
       "...                        ...   \n",
       "2610                le verbois   \n",
       "495              le coquillage   \n",
       "2833  gaya par pierre gagnaire   \n",
       "6063           le saint joseph   \n",
       "5925          le clos monteils   \n",
       "\n",
       "                                                address  \\\n",
       "2447  11 rue du savoureulx, le petit-pressigny, 3735...   \n",
       "485            rue de l'ouest, le cannet, 06110, france   \n",
       "2627       25 rue de l'aurore, la jarrie, 17220, france   \n",
       "6019       40 rue pierre-corneille, lyon, 69006, france   \n",
       "6113       55 rue principale, natzwiller, 67130, france   \n",
       "...                                                 ...   \n",
       "2610  6 rue la grande-folie, à st-maximin, chantilly...   \n",
       "495            lieu-dit le buot, cancale, 35350, france   \n",
       "2833         6 rue de saint-simon, paris, 75007, france   \n",
       "6063  100 boulevard de la république, la garenne-col...   \n",
       "5925        7 chemin du moulin, monteils, 82300, france   \n",
       "\n",
       "                         location price                  cuisine  longitude  \\\n",
       "2447   le petit-pressigny, france   €€€           modern cuisine   0.918838   \n",
       "485             le cannet, france  €€€€           modern cuisine   7.014556   \n",
       "2627            la jarrie, france  €€€€                 creative  -1.009875   \n",
       "6019                 lyon, france     €           market cuisine   4.843458   \n",
       "6113           natzwiller, france    €€      traditional cuisine   7.258197   \n",
       "...                           ...   ...                      ...        ...   \n",
       "2610            chantilly, france  €€€€           modern cuisine   2.466784   \n",
       "495               cancale, france  €€€€        seafood, creative  -1.871123   \n",
       "2833                paris, france   €€€  modern cuisine, seafood   2.324072   \n",
       "6063  la garenne-colombes, france    €€           modern cuisine   2.240886   \n",
       "5925             monteils, france    €€      traditional cuisine   1.565979   \n",
       "\n",
       "       latitude                                                url  \\\n",
       "2447  46.920786  https://guide.michelin.com/en/centre-val-de-lo...   \n",
       "485   43.571656  https://guide.michelin.com/en/provence-alpes-c...   \n",
       "2627  46.129509  https://guide.michelin.com/en/nouvelle-aquitai...   \n",
       "6019  45.765181  https://guide.michelin.com/en/auvergne-rhone-a...   \n",
       "6113  48.436357  https://guide.michelin.com/en/grand-est/natzwi...   \n",
       "...         ...                                                ...   \n",
       "2610  49.221672  https://guide.michelin.com/en/hauts-de-france/...   \n",
       "495   48.643065  https://guide.michelin.com/en/bretagne/cancale...   \n",
       "2833  48.856508  https://guide.michelin.com/en/ile-de-france/pa...   \n",
       "6063  48.907332  https://guide.michelin.com/en/ile-de-france/la...   \n",
       "5925  44.173716  https://guide.michelin.com/en/occitanie/montei...   \n",
       "\n",
       "                 award                            facilities_and_services  \\\n",
       "2447   1 michelin star  air conditioning,credit card / debit card acce...   \n",
       "485   2 michelin stars  air conditioning,car park,credit card / debit ...   \n",
       "2627   1 michelin star  air conditioning,credit card / debit card acce...   \n",
       "6019      bib gourmand  credit card / debit card accepted,mastercard c...   \n",
       "6113      bib gourmand  american express credit card,car park,credit c...   \n",
       "...                ...                                                ...   \n",
       "2610   1 michelin star  air conditioning,american express credit card,...   \n",
       "495   2 michelin stars  american express credit card,car park,credit c...   \n",
       "2833   1 michelin star  air conditioning,american express credit card,...   \n",
       "6063      bib gourmand  air conditioning,american express credit card,...   \n",
       "5925      bib gourmand  car park,credit card / debit card accepted,mas...   \n",
       "\n",
       "                                                   data  price_level  \\\n",
       "2447  it may take a little getting to, but this fami...            3   \n",
       "485   a cosy little venue with old wooden floorboard...            4   \n",
       "2627  nicolas durif is nothing if not creative! he h...            4   \n",
       "6019  félix gagnaire, a pastry chef by training and ...            1   \n",
       "6113  precise cooking, quality ingredients, well - p...            2   \n",
       "...                                                 ...          ...   \n",
       "2610  in the guibet family, the reins of this former...            4   \n",
       "495   hugo roellinger began his career as an officer...            4   \n",
       "2833  on the site of the former ferme saint simon (a...            3   \n",
       "6063  this local bistro serves wholesome, updated, t...            2   \n",
       "5925  françoise and bernard bordaries turned this 17...            2   \n",
       "\n",
       "                     city country  \\\n",
       "2447   le petit-pressigny  france   \n",
       "485             le cannet  france   \n",
       "2627            la jarrie  france   \n",
       "6019                 lyon  france   \n",
       "6113           natzwiller  france   \n",
       "...                   ...     ...   \n",
       "2610            chantilly  france   \n",
       "495               cancale  france   \n",
       "2833                paris  france   \n",
       "6063  la garenne-colombes  france   \n",
       "5925             monteils  france   \n",
       "\n",
       "                                                  clean  \\\n",
       "2447  may take little getting familyrun inn located ...   \n",
       "485   cosy little venue old wooden floorboards big c...   \n",
       "2627  nicolas durif nothing creative taken abode end...   \n",
       "6019  felix gagnaire pastry training son multistarre...   \n",
       "6113  precise cooking quality ingredients well prese...   \n",
       "...                                                 ...   \n",
       "2610  guibet family reins former hunting lodge 1886 ...   \n",
       "495   hugo roellinger began career officer merchant ...   \n",
       "2833  site former ferme saint simon institution dati...   \n",
       "6063  local bistro serves wholesome updated tasty fa...   \n",
       "5925  francoise bernard bordaries turned 1771 presby...   \n",
       "\n",
       "                                             lemmatized  sentiment  word_count  \n",
       "2447  may take little getting familyrun inn located ...     0.9690          73  \n",
       "485   cosy little venue old wooden floorboard big co...     0.9231          77  \n",
       "2627  nicolas durif nothing creative taken abode end...     0.8456          73  \n",
       "6019  felix gagnaire pastry training son multistarre...     0.9612          57  \n",
       "6113  precise cooking quality ingredient well presen...     0.8957          26  \n",
       "...                                                 ...        ...         ...  \n",
       "2610  guibet family rein former hunting lodge 1886 p...     0.9274          60  \n",
       "495   hugo roellinger began career officer merchant ...     0.9545          79  \n",
       "2833  site former ferme saint simon institution dati...     0.9699          78  \n",
       "6063  local bistro serf wholesome updated tasty fare...     0.6705          30  \n",
       "5925  francoise bernard bordaries turned 1771 presby...     0.9612          25  \n",
       "\n",
       "[573 rows x 18 columns]"
      ]
     },
     "execution_count": 23,
     "metadata": {},
     "output_type": "execute_result"
    }
   ],
   "source": [
    "train[train.country == 'france']"
   ]
  },
  {
   "cell_type": "code",
   "execution_count": 119,
   "metadata": {},
   "outputs": [],
   "source": [
    "def top_10_country_viz(train):\n",
    "    '''\n",
    "    This function takes in the training dataset and creates a bar plot of the\n",
    "    top 10 countries with Michelin restaurants\n",
    "    '''\n",
    "    # Use groupby to get an average length per language\n",
    "    top_10_countries = train['country'].value_counts().head(10)\n",
    "    # Set style, make a chart\n",
    "    sns.set_style(\"darkgrid\")\n",
    "    fig, axes = plt.subplots(figsize=(9, 6))\n",
    "    ax = sns.barplot (x=top_10_countries.index,\n",
    "                      y=top_10_countries.values,\n",
    "                      palette='mako')\n",
    "    plt.title('Countries with the Most Michelin Restaurants')\n",
    "    plt.xlabel(\"Countries\")\n",
    "    plt.ylabel('Number of Restaurants')\n",
    "    plt.show()"
   ]
  },
  {
   "cell_type": "code",
   "execution_count": 120,
   "metadata": {},
   "outputs": [
    {
     "data": {
      "image/png": "[encoded data removed]",
      "text/plain": [
       "<Figure size 900x600 with 1 Axes>"
      ]
     },
     "metadata": {
      "image/png": {
       "height": 543,
       "width": 770
      }
     },
     "output_type": "display_data"
    }
   ],
   "source": [
    "top_10_country_viz(train)"
   ]
  },
  {
   "cell_type": "code",
   "execution_count": 122,
   "metadata": {},
   "outputs": [
    {
     "data": {
      "image/png": "[encoded data removed]",
      "text/plain": [
       "<Figure size 900x600 with 1 Axes>"
      ]
     },
     "metadata": {
      "image/png": {
       "height": 543,
       "width": 770
      }
     },
     "output_type": "display_data"
    }
   ],
   "source": [
    "reload(e)\n",
    "e.top_10_country_viz(train)"
   ]
  },
  {
   "cell_type": "code",
   "execution_count": 27,
   "metadata": {},
   "outputs": [
    {
     "name": "stdout",
     "output_type": "stream",
     "text": [
      "Average Bib Gourmand Word Length is : 41.574947589098535\n",
      "Average Michelin One Star Word Length is : 58.432942708333336\n",
      "Average Michelin Two Star Word Length is : 59.22222222222222\n",
      "Average Michelin Three Star Word Length is : 63.177215189873415\n"
     ]
    }
   ],
   "source": [
    "# Mean word count of each \n",
    "print(f'Average Bib Gourmand Word Length is : {train_bib.word_count.mean()}')\n",
    "print(f'Average Michelin One Star Word Length is : {train_onestar.word_count.mean()}')\n",
    "print(f'Average Michelin Two Star Word Length is : {train_twostar.word_count.mean()}')\n",
    "print(f'Average Michelin Three Star Word Length is : {train_threestar.word_count.mean()}')"
   ]
  },
  {
   "cell_type": "code",
   "execution_count": 151,
   "metadata": {},
   "outputs": [],
   "source": [
    "def get_anova_wordcount(train):\n",
    "    '''\n",
    "    This function creates separate dataframes for\n",
    "    each award category, and utilizes an ANOVA test\n",
    "    to compare the mean word count of each category. It\n",
    "    returns the test statistic, p-value, and treatment\n",
    "    of the null hypothesis\n",
    "    '''\n",
    "    # Create separate df for each category\n",
    "    train_bib = train[train.award == 'bib gourmand']\n",
    "    train_onestar = train[train.award == '1 michelin star']\n",
    "    train_twostar = train[train.award == '2 michelin stars']\n",
    "    train_threestar = train[train.award == '3 michelin stars']\n",
    "    # set alpha\n",
    "    alpha = 0.05\n",
    "    # Run the test\n",
    "    f, p = stats.f_oneway(train_bib.word_count, train_onestar.word_count,\n",
    "                 train_twostar.word_count, train_threestar.word_count)\n",
    "    if p < alpha:\n",
    "        print(\"We reject the null hypothesis. There is sufficient \\n\\\n",
    "            evidence to conclude that the word count is significantly \\n\\\n",
    "                different between award categories.\")\n",
    "    else:\n",
    "        print(\"We fail to reject the null hypothesis.\")\n",
    "    return print(f'Test Statistic: {f}, P Statistic: {p}')\n",
    "    \n",
    "    "
   ]
  },
  {
   "cell_type": "code",
   "execution_count": 156,
   "metadata": {},
   "outputs": [
    {
     "name": "stdout",
     "output_type": "stream",
     "text": [
      "We reject the null hypothesis. There is sufficient \n",
      "               evidence to conclude that the word count is significantly \n",
      "               different between award categories.\n",
      "Test Statistic: 324.58867718184115, P Statistic: 1.4373128353659552e-187\n"
     ]
    }
   ],
   "source": [
    "# Running anova between award categories (word count)\n",
    "reload(e)\n",
    "e.get_anova_wordcount(train)"
   ]
  },
  {
   "attachments": {},
   "cell_type": "markdown",
   "metadata": {},
   "source": [
    "## Modeling Attempt"
   ]
  },
  {
   "cell_type": "code",
   "execution_count": 5,
   "metadata": {},
   "outputs": [],
   "source": [
    "# #Getting top three countries for modeling\n",
    "\n",
    "# top_three_countries = train['country'].value_counts().nlargest(3).index.tolist()\n",
    "# top_three_countries"
   ]
  },
  {
   "cell_type": "code",
   "execution_count": 6,
   "metadata": {},
   "outputs": [],
   "source": [
    "# #This only made a separate df\n",
    "# country_dummies = pd.get_dummies(train[train['country'].isin(top_three_countries)], columns=['country'])"
   ]
  },
  {
   "cell_type": "code",
   "execution_count": 7,
   "metadata": {},
   "outputs": [
    {
     "data": {
      "text/plain": [
       "france     573\n",
       "japan      474\n",
       "italy      385\n",
       "usa        336\n",
       "germany    335\n",
       "Name: country, dtype: int64"
      ]
     },
     "execution_count": 7,
     "metadata": {},
     "output_type": "execute_result"
    }
   ],
   "source": [
    "train.country.value_counts().head(5)"
   ]
  },
  {
   "cell_type": "code",
   "execution_count": 8,
   "metadata": {},
   "outputs": [],
   "source": [
    "# #convert countries to dummy variable\n",
    "# pd.get_dummies(train, columns=['country'], drop_first=False)"
   ]
  },
  {
   "cell_type": "code",
   "execution_count": 9,
   "metadata": {},
   "outputs": [],
   "source": [
    "# # Keep only the columns we need for modeling\n",
    "# columns_to_keep = ['sentiment', 'word_count', 'price_level_1', 'price_level_2', 'price_level_3', 'price_level_4',\n",
    "#                    'country_france', 'country_japan', 'country_italy', 'country_usa', 'country_germany']\n",
    "                   "
   ]
  },
  {
   "cell_type": "code",
   "execution_count": 10,
   "metadata": {},
   "outputs": [],
   "source": [
    "# dummy_df = pd.get_dummies(train, columns=['country', 'price_level'], drop_first=False)\n",
    "\n",
    "# # Add the dummy variables to the original dataframe\n",
    "# train = train.assign(**dummy_df)\n",
    "# train.head()"
   ]
  },
  {
   "cell_type": "code",
   "execution_count": 6,
   "metadata": {},
   "outputs": [],
   "source": [
    "def prep_classification_data(train, validate, test):\n",
    "    '''\n",
    "    This function takes in train, validate, and test and returns\n",
    "    train, validate, and test prepped for classification modeling\n",
    "    '''\n",
    "    # Impute NaN values in sentiment with the mean\n",
    "    train['sentiment'].fillna(int(train['sentiment'].mean()), inplace=True)\n",
    "    validate['sentiment'].fillna(int(validate['sentiment'].mean()), inplace=True)\n",
    "    test['sentiment'].fillna(int(test['sentiment'].mean()), inplace=True)\n",
    "    # Create dummy columns\n",
    "    dummy_train = pd.get_dummies(train, columns=['country', 'price_level'], drop_first=False)\n",
    "    dummy_validate = pd.get_dummies(validate, columns=['country', 'price_level'], drop_first=False)\n",
    "    dummy_test = pd.get_dummies(test, columns=['country', 'price_level'], drop_first=False)\n",
    "    # Add the dummy variables to the original dataframe\n",
    "    train = train.assign(**dummy_train)\n",
    "    validate = validate.assign(**dummy_validate)\n",
    "    test = test.assign(**dummy_test)\n",
    "    # Keep only the columns we need for modeling\n",
    "    columns_to_keep = ['award', 'sentiment', 'word_count', 'price_level_1', 'price_level_2',\n",
    "                       'price_level_3', 'price_level_4', 'country_france', 'country_japan',\n",
    "                       'country_italy', 'country_usa', 'country_germany']\n",
    "    train = train[columns_to_keep]\n",
    "    validate = validate[columns_to_keep]\n",
    "    test = test[columns_to_keep]\n",
    "    \n",
    "    return train, validate, test"
   ]
  },
  {
   "cell_type": "code",
   "execution_count": 7,
   "metadata": {},
   "outputs": [],
   "source": [
    "train, validate, test = prep_classification_data(train, validate, test)"
   ]
  },
  {
   "cell_type": "code",
   "execution_count": 8,
   "metadata": {},
   "outputs": [],
   "source": [
    "# Creating x and y version of train\n",
    "X_train = train.drop(columns=['award'])\n",
    "y_train = train.award\n",
    "\n",
    "X_validate = validate.drop(columns=['award'])\n",
    "y_validate = validate.award\n",
    "\n",
    "X_test = test.drop(columns=['award'])\n",
    "y_test = test.award"
   ]
  },
  {
   "attachments": {},
   "cell_type": "markdown",
   "metadata": {},
   "source": [
    "### Decision Tree"
   ]
  },
  {
   "cell_type": "code",
   "execution_count": 9,
   "metadata": {},
   "outputs": [],
   "source": [
    "# for classification you can change the algorithm to gini or entropy (information gain).  \n",
    "# Default is gini.\n",
    "# Create the object\n",
    "clf = DecisionTreeClassifier(max_depth=4, random_state=123)\n",
    "# Fit the model\n",
    "clf = clf.fit(X_train, y_train)"
   ]
  },
  {
   "cell_type": "code",
   "execution_count": 10,
   "metadata": {},
   "outputs": [],
   "source": [
    "# make prediction on train obeservations\n",
    "y_pred = clf.predict(X_train)"
   ]
  },
  {
   "cell_type": "code",
   "execution_count": 11,
   "metadata": {},
   "outputs": [
    {
     "data": {
      "text/plain": [
       "array(['bib gourmand', 'bib gourmand', 'bib gourmand', 'bib gourmand',\n",
       "       '1 michelin star'], dtype=object)"
      ]
     },
     "execution_count": 11,
     "metadata": {},
     "output_type": "execute_result"
    }
   ],
   "source": [
    "y_pred[0:5]"
   ]
  },
  {
   "cell_type": "code",
   "execution_count": 12,
   "metadata": {},
   "outputs": [],
   "source": [
    "# Estimate Probability\n",
    "y_pred_proba = clf.predict_proba(X_train)\n"
   ]
  },
  {
   "cell_type": "code",
   "execution_count": 13,
   "metadata": {},
   "outputs": [
    {
     "name": "stdout",
     "output_type": "stream",
     "text": [
      "Accuracy of Decision Tree classifier on training set: 0.88\n"
     ]
    }
   ],
   "source": [
    "print('Accuracy of Decision Tree classifier on training set: {:.2f}'\n",
    "      .format(clf.score(X_train, y_train)))"
   ]
  },
  {
   "cell_type": "code",
   "execution_count": 14,
   "metadata": {},
   "outputs": [
    {
     "data": {
      "text/plain": [
       "array([[1477,    0,    0,   59],\n",
       "       [ 265,    0,    0,    5],\n",
       "       [  79,    0,    0,    0],\n",
       "       [  34,    0,    0, 1874]])"
      ]
     },
     "execution_count": 14,
     "metadata": {},
     "output_type": "execute_result"
    }
   ],
   "source": [
    "# confusion matrix\n",
    "\n",
    "confusion_matrix(y_train, y_pred)"
   ]
  },
  {
   "cell_type": "code",
   "execution_count": 15,
   "metadata": {},
   "outputs": [
    {
     "data": {
      "text/plain": [
       "bib gourmand        1908\n",
       "1 michelin star     1536\n",
       "2 michelin stars     270\n",
       "3 michelin stars      79\n",
       "Name: award, dtype: Int64"
      ]
     },
     "execution_count": 15,
     "metadata": {},
     "output_type": "execute_result"
    }
   ],
   "source": [
    "y_train.value_counts()"
   ]
  },
  {
   "cell_type": "code",
   "execution_count": 16,
   "metadata": {},
   "outputs": [
    {
     "data": {
      "text/html": [
       "<div>\n",
       "<style scoped>\n",
       "    .dataframe tbody tr th:only-of-type {\n",
       "        vertical-align: middle;\n",
       "    }\n",
       "\n",
       "    .dataframe tbody tr th {\n",
       "        vertical-align: top;\n",
       "    }\n",
       "\n",
       "    .dataframe thead th {\n",
       "        text-align: right;\n",
       "    }\n",
       "</style>\n",
       "<table border=\"1\" class=\"dataframe\">\n",
       "  <thead>\n",
       "    <tr style=\"text-align: right;\">\n",
       "      <th></th>\n",
       "      <th>1 michelin star</th>\n",
       "      <th>2 michelin stars</th>\n",
       "      <th>3 michelin stars</th>\n",
       "      <th>bib gourmand</th>\n",
       "    </tr>\n",
       "  </thead>\n",
       "  <tbody>\n",
       "    <tr>\n",
       "      <th>1 michelin star</th>\n",
       "      <td>1477</td>\n",
       "      <td>0</td>\n",
       "      <td>0</td>\n",
       "      <td>59</td>\n",
       "    </tr>\n",
       "    <tr>\n",
       "      <th>2 michelin stars</th>\n",
       "      <td>265</td>\n",
       "      <td>0</td>\n",
       "      <td>0</td>\n",
       "      <td>5</td>\n",
       "    </tr>\n",
       "    <tr>\n",
       "      <th>3 michelin stars</th>\n",
       "      <td>79</td>\n",
       "      <td>0</td>\n",
       "      <td>0</td>\n",
       "      <td>0</td>\n",
       "    </tr>\n",
       "    <tr>\n",
       "      <th>bib gourmand</th>\n",
       "      <td>34</td>\n",
       "      <td>0</td>\n",
       "      <td>0</td>\n",
       "      <td>1874</td>\n",
       "    </tr>\n",
       "  </tbody>\n",
       "</table>\n",
       "</div>"
      ],
      "text/plain": [
       "                  1 michelin star  2 michelin stars  3 michelin stars  \\\n",
       "1 michelin star              1477                 0                 0   \n",
       "2 michelin stars              265                 0                 0   \n",
       "3 michelin stars               79                 0                 0   \n",
       "bib gourmand                   34                 0                 0   \n",
       "\n",
       "                  bib gourmand  \n",
       "1 michelin star             59  \n",
       "2 michelin stars             5  \n",
       "3 michelin stars             0  \n",
       "bib gourmand              1874  "
      ]
     },
     "execution_count": 16,
     "metadata": {},
     "output_type": "execute_result"
    }
   ],
   "source": [
    "labels = sorted(y_train.unique())\n",
    "\n",
    "pd.DataFrame(confusion_matrix(y_train, y_pred), index=labels, columns=labels)"
   ]
  },
  {
   "cell_type": "code",
   "execution_count": 17,
   "metadata": {},
   "outputs": [
    {
     "name": "stdout",
     "output_type": "stream",
     "text": [
      "                  precision    recall  f1-score   support\n",
      "\n",
      " 1 michelin star       0.80      0.96      0.87      1536\n",
      "2 michelin stars       0.00      0.00      0.00       270\n",
      "3 michelin stars       0.00      0.00      0.00        79\n",
      "    bib gourmand       0.97      0.98      0.97      1908\n",
      "\n",
      "        accuracy                           0.88      3793\n",
      "       macro avg       0.44      0.49      0.46      3793\n",
      "    weighted avg       0.81      0.88      0.84      3793\n",
      "\n"
     ]
    },
    {
     "name": "stderr",
     "output_type": "stream",
     "text": [
      "/opt/homebrew/anaconda3/lib/python3.9/site-packages/sklearn/metrics/_classification.py:1344: UndefinedMetricWarning: Precision and F-score are ill-defined and being set to 0.0 in labels with no predicted samples. Use `zero_division` parameter to control this behavior.\n",
      "  _warn_prf(average, modifier, msg_start, len(result))\n",
      "/opt/homebrew/anaconda3/lib/python3.9/site-packages/sklearn/metrics/_classification.py:1344: UndefinedMetricWarning: Precision and F-score are ill-defined and being set to 0.0 in labels with no predicted samples. Use `zero_division` parameter to control this behavior.\n",
      "  _warn_prf(average, modifier, msg_start, len(result))\n",
      "/opt/homebrew/anaconda3/lib/python3.9/site-packages/sklearn/metrics/_classification.py:1344: UndefinedMetricWarning: Precision and F-score are ill-defined and being set to 0.0 in labels with no predicted samples. Use `zero_division` parameter to control this behavior.\n",
      "  _warn_prf(average, modifier, msg_start, len(result))\n"
     ]
    }
   ],
   "source": [
    "print(classification_report(y_train, y_pred))"
   ]
  },
  {
   "attachments": {},
   "cell_type": "markdown",
   "metadata": {},
   "source": [
    "### Random Forest"
   ]
  },
  {
   "cell_type": "code",
   "execution_count": 20,
   "metadata": {},
   "outputs": [],
   "source": [
    "# Now trying with Random Forest\n",
    "rf = RandomForestClassifier(bootstrap=True, \n",
    "                            class_weight=None, \n",
    "                            criterion='gini',\n",
    "                            min_samples_leaf=3,\n",
    "                            n_estimators=100,\n",
    "                            max_depth=3, \n",
    "                            random_state=123)"
   ]
  },
  {
   "cell_type": "code",
   "execution_count": 21,
   "metadata": {},
   "outputs": [
    {
     "data": {
      "text/html": [
       "<div>\n",
       "<style scoped>\n",
       "    .dataframe tbody tr th:only-of-type {\n",
       "        vertical-align: middle;\n",
       "    }\n",
       "\n",
       "    .dataframe tbody tr th {\n",
       "        vertical-align: top;\n",
       "    }\n",
       "\n",
       "    .dataframe thead th {\n",
       "        text-align: right;\n",
       "    }\n",
       "</style>\n",
       "<table border=\"1\" class=\"dataframe\">\n",
       "  <thead>\n",
       "    <tr style=\"text-align: right;\">\n",
       "      <th></th>\n",
       "      <th>sentiment</th>\n",
       "      <th>word_count</th>\n",
       "      <th>price_level_1</th>\n",
       "      <th>price_level_2</th>\n",
       "      <th>price_level_3</th>\n",
       "      <th>price_level_4</th>\n",
       "      <th>country_france</th>\n",
       "      <th>country_japan</th>\n",
       "      <th>country_italy</th>\n",
       "      <th>country_usa</th>\n",
       "      <th>country_germany</th>\n",
       "    </tr>\n",
       "  </thead>\n",
       "  <tbody>\n",
       "    <tr>\n",
       "      <th>6345</th>\n",
       "      <td>0.9136</td>\n",
       "      <td>38</td>\n",
       "      <td>1</td>\n",
       "      <td>0</td>\n",
       "      <td>0</td>\n",
       "      <td>0</td>\n",
       "      <td>0</td>\n",
       "      <td>0</td>\n",
       "      <td>0</td>\n",
       "      <td>0</td>\n",
       "      <td>1</td>\n",
       "    </tr>\n",
       "    <tr>\n",
       "      <th>6427</th>\n",
       "      <td>0.9186</td>\n",
       "      <td>35</td>\n",
       "      <td>1</td>\n",
       "      <td>0</td>\n",
       "      <td>0</td>\n",
       "      <td>0</td>\n",
       "      <td>0</td>\n",
       "      <td>0</td>\n",
       "      <td>0</td>\n",
       "      <td>0</td>\n",
       "      <td>1</td>\n",
       "    </tr>\n",
       "    <tr>\n",
       "      <th>5217</th>\n",
       "      <td>0.6808</td>\n",
       "      <td>49</td>\n",
       "      <td>1</td>\n",
       "      <td>0</td>\n",
       "      <td>0</td>\n",
       "      <td>0</td>\n",
       "      <td>0</td>\n",
       "      <td>0</td>\n",
       "      <td>0</td>\n",
       "      <td>0</td>\n",
       "      <td>0</td>\n",
       "    </tr>\n",
       "    <tr>\n",
       "      <th>3858</th>\n",
       "      <td>0.9607</td>\n",
       "      <td>49</td>\n",
       "      <td>0</td>\n",
       "      <td>1</td>\n",
       "      <td>0</td>\n",
       "      <td>0</td>\n",
       "      <td>0</td>\n",
       "      <td>0</td>\n",
       "      <td>0</td>\n",
       "      <td>0</td>\n",
       "      <td>0</td>\n",
       "    </tr>\n",
       "    <tr>\n",
       "      <th>124</th>\n",
       "      <td>0.9774</td>\n",
       "      <td>40</td>\n",
       "      <td>0</td>\n",
       "      <td>0</td>\n",
       "      <td>0</td>\n",
       "      <td>1</td>\n",
       "      <td>0</td>\n",
       "      <td>0</td>\n",
       "      <td>0</td>\n",
       "      <td>0</td>\n",
       "      <td>0</td>\n",
       "    </tr>\n",
       "  </tbody>\n",
       "</table>\n",
       "</div>"
      ],
      "text/plain": [
       "      sentiment  word_count  price_level_1  price_level_2  price_level_3  \\\n",
       "6345     0.9136          38              1              0              0   \n",
       "6427     0.9186          35              1              0              0   \n",
       "5217     0.6808          49              1              0              0   \n",
       "3858     0.9607          49              0              1              0   \n",
       "124      0.9774          40              0              0              0   \n",
       "\n",
       "      price_level_4  country_france  country_japan  country_italy  \\\n",
       "6345              0               0              0              0   \n",
       "6427              0               0              0              0   \n",
       "5217              0               0              0              0   \n",
       "3858              0               0              0              0   \n",
       "124               1               0              0              0   \n",
       "\n",
       "      country_usa  country_germany  \n",
       "6345            0                1  \n",
       "6427            0                1  \n",
       "5217            0                0  \n",
       "3858            0                0  \n",
       "124             0                0  "
      ]
     },
     "execution_count": 21,
     "metadata": {},
     "output_type": "execute_result"
    }
   ],
   "source": [
    "X_train.head()"
   ]
  },
  {
   "cell_type": "code",
   "execution_count": 22,
   "metadata": {},
   "outputs": [
    {
     "data": {
      "text/html": [
       "<style>#sk-container-id-1 {color: black;background-color: white;}#sk-container-id-1 pre{padding: 0;}#sk-container-id-1 div.sk-toggleable {background-color: white;}#sk-container-id-1 label.sk-toggleable__label {cursor: pointer;display: block;width: 100%;margin-bottom: 0;padding: 0.3em;box-sizing: border-box;text-align: center;}#sk-container-id-1 label.sk-toggleable__label-arrow:before {content: \"▸\";float: left;margin-right: 0.25em;color: #696969;}#sk-container-id-1 label.sk-toggleable__label-arrow:hover:before {color: black;}#sk-container-id-1 div.sk-estimator:hover label.sk-toggleable__label-arrow:before {color: black;}#sk-container-id-1 div.sk-toggleable__content {max-height: 0;max-width: 0;overflow: hidden;text-align: left;background-color: #f0f8ff;}#sk-container-id-1 div.sk-toggleable__content pre {margin: 0.2em;color: black;border-radius: 0.25em;background-color: #f0f8ff;}#sk-container-id-1 input.sk-toggleable__control:checked~div.sk-toggleable__content {max-height: 200px;max-width: 100%;overflow: auto;}#sk-container-id-1 input.sk-toggleable__control:checked~label.sk-toggleable__label-arrow:before {content: \"▾\";}#sk-container-id-1 div.sk-estimator input.sk-toggleable__control:checked~label.sk-toggleable__label {background-color: #d4ebff;}#sk-container-id-1 div.sk-label input.sk-toggleable__control:checked~label.sk-toggleable__label {background-color: #d4ebff;}#sk-container-id-1 input.sk-hidden--visually {border: 0;clip: rect(1px 1px 1px 1px);clip: rect(1px, 1px, 1px, 1px);height: 1px;margin: -1px;overflow: hidden;padding: 0;position: absolute;width: 1px;}#sk-container-id-1 div.sk-estimator {font-family: monospace;background-color: #f0f8ff;border: 1px dotted black;border-radius: 0.25em;box-sizing: border-box;margin-bottom: 0.5em;}#sk-container-id-1 div.sk-estimator:hover {background-color: #d4ebff;}#sk-container-id-1 div.sk-parallel-item::after {content: \"\";width: 100%;border-bottom: 1px solid gray;flex-grow: 1;}#sk-container-id-1 div.sk-label:hover label.sk-toggleable__label {background-color: #d4ebff;}#sk-container-id-1 div.sk-serial::before {content: \"\";position: absolute;border-left: 1px solid gray;box-sizing: border-box;top: 0;bottom: 0;left: 50%;z-index: 0;}#sk-container-id-1 div.sk-serial {display: flex;flex-direction: column;align-items: center;background-color: white;padding-right: 0.2em;padding-left: 0.2em;position: relative;}#sk-container-id-1 div.sk-item {position: relative;z-index: 1;}#sk-container-id-1 div.sk-parallel {display: flex;align-items: stretch;justify-content: center;background-color: white;position: relative;}#sk-container-id-1 div.sk-item::before, #sk-container-id-1 div.sk-parallel-item::before {content: \"\";position: absolute;border-left: 1px solid gray;box-sizing: border-box;top: 0;bottom: 0;left: 50%;z-index: -1;}#sk-container-id-1 div.sk-parallel-item {display: flex;flex-direction: column;z-index: 1;position: relative;background-color: white;}#sk-container-id-1 div.sk-parallel-item:first-child::after {align-self: flex-end;width: 50%;}#sk-container-id-1 div.sk-parallel-item:last-child::after {align-self: flex-start;width: 50%;}#sk-container-id-1 div.sk-parallel-item:only-child::after {width: 0;}#sk-container-id-1 div.sk-dashed-wrapped {border: 1px dashed gray;margin: 0 0.4em 0.5em 0.4em;box-sizing: border-box;padding-bottom: 0.4em;background-color: white;}#sk-container-id-1 div.sk-label label {font-family: monospace;font-weight: bold;display: inline-block;line-height: 1.2em;}#sk-container-id-1 div.sk-label-container {text-align: center;}#sk-container-id-1 div.sk-container {/* jupyter's `normalize.less` sets `[hidden] { display: none; }` but bootstrap.min.css set `[hidden] { display: none !important; }` so we also need the `!important` here to be able to override the default hidden behavior on the sphinx rendered scikit-learn.org. See: https://github.com/scikit-learn/scikit-learn/issues/21755 */display: inline-block !important;position: relative;}#sk-container-id-1 div.sk-text-repr-fallback {display: none;}</style><div id=\"sk-container-id-1\" class=\"sk-top-container\"><div class=\"sk-text-repr-fallback\"><pre>RandomForestClassifier(max_depth=3, min_samples_leaf=3, random_state=123)</pre><b>In a Jupyter environment, please rerun this cell to show the HTML representation or trust the notebook. <br />On GitHub, the HTML representation is unable to render, please try loading this page with nbviewer.org.</b></div><div class=\"sk-container\" hidden><div class=\"sk-item\"><div class=\"sk-estimator sk-toggleable\"><input class=\"sk-toggleable__control sk-hidden--visually\" id=\"sk-estimator-id-1\" type=\"checkbox\" checked><label for=\"sk-estimator-id-1\" class=\"sk-toggleable__label sk-toggleable__label-arrow\">RandomForestClassifier</label><div class=\"sk-toggleable__content\"><pre>RandomForestClassifier(max_depth=3, min_samples_leaf=3, random_state=123)</pre></div></div></div></div></div>"
      ],
      "text/plain": [
       "RandomForestClassifier(max_depth=3, min_samples_leaf=3, random_state=123)"
      ]
     },
     "execution_count": 22,
     "metadata": {},
     "output_type": "execute_result"
    }
   ],
   "source": [
    "# Fit the model\n",
    "rf.fit(X_train, y_train)"
   ]
  },
  {
   "cell_type": "code",
   "execution_count": 23,
   "metadata": {},
   "outputs": [
    {
     "name": "stdout",
     "output_type": "stream",
     "text": [
      "[0.02000442 0.08478196 0.17787648 0.34032221 0.19153339 0.16943855\n",
      " 0.00166976 0.00154438 0.00263233 0.00777303 0.00242349]\n"
     ]
    }
   ],
   "source": [
    "print(rf.feature_importances_)"
   ]
  },
  {
   "cell_type": "code",
   "execution_count": 24,
   "metadata": {},
   "outputs": [],
   "source": [
    "# Make predictions\n",
    "y_pred = rf.predict(X_train)"
   ]
  },
  {
   "cell_type": "code",
   "execution_count": 25,
   "metadata": {},
   "outputs": [],
   "source": [
    "# Estimate the probability\n",
    "y_pred_proba = rf.predict_proba(X_train)"
   ]
  },
  {
   "cell_type": "code",
   "execution_count": 26,
   "metadata": {},
   "outputs": [
    {
     "name": "stdout",
     "output_type": "stream",
     "text": [
      "Accuracy of random forest classifier on training set: 0.88\n"
     ]
    }
   ],
   "source": [
    "print('Accuracy of random forest classifier on training set: {:.2f}'\n",
    "     .format(rf.score(X_train, y_train)))"
   ]
  },
  {
   "cell_type": "code",
   "execution_count": 27,
   "metadata": {},
   "outputs": [
    {
     "name": "stdout",
     "output_type": "stream",
     "text": [
      "[[1465    0    0   71]\n",
      " [ 265    0    0    5]\n",
      " [  79    0    0    0]\n",
      " [  28    0    0 1880]]\n"
     ]
    }
   ],
   "source": [
    "print(confusion_matrix(y_train, y_pred))"
   ]
  },
  {
   "cell_type": "code",
   "execution_count": 28,
   "metadata": {},
   "outputs": [
    {
     "name": "stdout",
     "output_type": "stream",
     "text": [
      "                  precision    recall  f1-score   support\n",
      "\n",
      " 1 michelin star       0.80      0.95      0.87      1536\n",
      "2 michelin stars       0.00      0.00      0.00       270\n",
      "3 michelin stars       0.00      0.00      0.00        79\n",
      "    bib gourmand       0.96      0.99      0.97      1908\n",
      "\n",
      "        accuracy                           0.88      3793\n",
      "       macro avg       0.44      0.48      0.46      3793\n",
      "    weighted avg       0.81      0.88      0.84      3793\n",
      "\n"
     ]
    },
    {
     "name": "stderr",
     "output_type": "stream",
     "text": [
      "/opt/homebrew/anaconda3/lib/python3.9/site-packages/sklearn/metrics/_classification.py:1344: UndefinedMetricWarning: Precision and F-score are ill-defined and being set to 0.0 in labels with no predicted samples. Use `zero_division` parameter to control this behavior.\n",
      "  _warn_prf(average, modifier, msg_start, len(result))\n",
      "/opt/homebrew/anaconda3/lib/python3.9/site-packages/sklearn/metrics/_classification.py:1344: UndefinedMetricWarning: Precision and F-score are ill-defined and being set to 0.0 in labels with no predicted samples. Use `zero_division` parameter to control this behavior.\n",
      "  _warn_prf(average, modifier, msg_start, len(result))\n",
      "/opt/homebrew/anaconda3/lib/python3.9/site-packages/sklearn/metrics/_classification.py:1344: UndefinedMetricWarning: Precision and F-score are ill-defined and being set to 0.0 in labels with no predicted samples. Use `zero_division` parameter to control this behavior.\n",
      "  _warn_prf(average, modifier, msg_start, len(result))\n"
     ]
    }
   ],
   "source": [
    "print(classification_report(y_train, y_pred))"
   ]
  },
  {
   "cell_type": "code",
   "execution_count": 29,
   "metadata": {},
   "outputs": [
    {
     "name": "stdout",
     "output_type": "stream",
     "text": [
      "Accuracy of random forest classifier on test set: 0.89\n"
     ]
    }
   ],
   "source": [
    "print('Accuracy of random forest classifier on test set: {:.2f}'\n",
    "     .format(rf.score(X_validate, y_validate)))"
   ]
  },
  {
   "attachments": {},
   "cell_type": "markdown",
   "metadata": {},
   "source": [
    "### K Nearest Neighbors"
   ]
  },
  {
   "cell_type": "code",
   "execution_count": 31,
   "metadata": {},
   "outputs": [],
   "source": [
    "# Make the object with 5 neighbors\n",
    "# weights = ['uniform', 'density']\n",
    "knn = KNeighborsClassifier(n_neighbors=5, weights='uniform')"
   ]
  },
  {
   "cell_type": "code",
   "execution_count": 32,
   "metadata": {},
   "outputs": [
    {
     "data": {
      "text/html": [
       "<style>#sk-container-id-2 {color: black;background-color: white;}#sk-container-id-2 pre{padding: 0;}#sk-container-id-2 div.sk-toggleable {background-color: white;}#sk-container-id-2 label.sk-toggleable__label {cursor: pointer;display: block;width: 100%;margin-bottom: 0;padding: 0.3em;box-sizing: border-box;text-align: center;}#sk-container-id-2 label.sk-toggleable__label-arrow:before {content: \"▸\";float: left;margin-right: 0.25em;color: #696969;}#sk-container-id-2 label.sk-toggleable__label-arrow:hover:before {color: black;}#sk-container-id-2 div.sk-estimator:hover label.sk-toggleable__label-arrow:before {color: black;}#sk-container-id-2 div.sk-toggleable__content {max-height: 0;max-width: 0;overflow: hidden;text-align: left;background-color: #f0f8ff;}#sk-container-id-2 div.sk-toggleable__content pre {margin: 0.2em;color: black;border-radius: 0.25em;background-color: #f0f8ff;}#sk-container-id-2 input.sk-toggleable__control:checked~div.sk-toggleable__content {max-height: 200px;max-width: 100%;overflow: auto;}#sk-container-id-2 input.sk-toggleable__control:checked~label.sk-toggleable__label-arrow:before {content: \"▾\";}#sk-container-id-2 div.sk-estimator input.sk-toggleable__control:checked~label.sk-toggleable__label {background-color: #d4ebff;}#sk-container-id-2 div.sk-label input.sk-toggleable__control:checked~label.sk-toggleable__label {background-color: #d4ebff;}#sk-container-id-2 input.sk-hidden--visually {border: 0;clip: rect(1px 1px 1px 1px);clip: rect(1px, 1px, 1px, 1px);height: 1px;margin: -1px;overflow: hidden;padding: 0;position: absolute;width: 1px;}#sk-container-id-2 div.sk-estimator {font-family: monospace;background-color: #f0f8ff;border: 1px dotted black;border-radius: 0.25em;box-sizing: border-box;margin-bottom: 0.5em;}#sk-container-id-2 div.sk-estimator:hover {background-color: #d4ebff;}#sk-container-id-2 div.sk-parallel-item::after {content: \"\";width: 100%;border-bottom: 1px solid gray;flex-grow: 1;}#sk-container-id-2 div.sk-label:hover label.sk-toggleable__label {background-color: #d4ebff;}#sk-container-id-2 div.sk-serial::before {content: \"\";position: absolute;border-left: 1px solid gray;box-sizing: border-box;top: 0;bottom: 0;left: 50%;z-index: 0;}#sk-container-id-2 div.sk-serial {display: flex;flex-direction: column;align-items: center;background-color: white;padding-right: 0.2em;padding-left: 0.2em;position: relative;}#sk-container-id-2 div.sk-item {position: relative;z-index: 1;}#sk-container-id-2 div.sk-parallel {display: flex;align-items: stretch;justify-content: center;background-color: white;position: relative;}#sk-container-id-2 div.sk-item::before, #sk-container-id-2 div.sk-parallel-item::before {content: \"\";position: absolute;border-left: 1px solid gray;box-sizing: border-box;top: 0;bottom: 0;left: 50%;z-index: -1;}#sk-container-id-2 div.sk-parallel-item {display: flex;flex-direction: column;z-index: 1;position: relative;background-color: white;}#sk-container-id-2 div.sk-parallel-item:first-child::after {align-self: flex-end;width: 50%;}#sk-container-id-2 div.sk-parallel-item:last-child::after {align-self: flex-start;width: 50%;}#sk-container-id-2 div.sk-parallel-item:only-child::after {width: 0;}#sk-container-id-2 div.sk-dashed-wrapped {border: 1px dashed gray;margin: 0 0.4em 0.5em 0.4em;box-sizing: border-box;padding-bottom: 0.4em;background-color: white;}#sk-container-id-2 div.sk-label label {font-family: monospace;font-weight: bold;display: inline-block;line-height: 1.2em;}#sk-container-id-2 div.sk-label-container {text-align: center;}#sk-container-id-2 div.sk-container {/* jupyter's `normalize.less` sets `[hidden] { display: none; }` but bootstrap.min.css set `[hidden] { display: none !important; }` so we also need the `!important` here to be able to override the default hidden behavior on the sphinx rendered scikit-learn.org. See: https://github.com/scikit-learn/scikit-learn/issues/21755 */display: inline-block !important;position: relative;}#sk-container-id-2 div.sk-text-repr-fallback {display: none;}</style><div id=\"sk-container-id-2\" class=\"sk-top-container\"><div class=\"sk-text-repr-fallback\"><pre>KNeighborsClassifier()</pre><b>In a Jupyter environment, please rerun this cell to show the HTML representation or trust the notebook. <br />On GitHub, the HTML representation is unable to render, please try loading this page with nbviewer.org.</b></div><div class=\"sk-container\" hidden><div class=\"sk-item\"><div class=\"sk-estimator sk-toggleable\"><input class=\"sk-toggleable__control sk-hidden--visually\" id=\"sk-estimator-id-2\" type=\"checkbox\" checked><label for=\"sk-estimator-id-2\" class=\"sk-toggleable__label sk-toggleable__label-arrow\">KNeighborsClassifier</label><div class=\"sk-toggleable__content\"><pre>KNeighborsClassifier()</pre></div></div></div></div></div>"
      ],
      "text/plain": [
       "KNeighborsClassifier()"
      ]
     },
     "execution_count": 32,
     "metadata": {},
     "output_type": "execute_result"
    }
   ],
   "source": [
    "# Fit the object\n",
    "knn.fit(X_train, y_train)"
   ]
  },
  {
   "cell_type": "code",
   "execution_count": 33,
   "metadata": {},
   "outputs": [],
   "source": [
    "# Make predictions\n",
    "y_pred = knn.predict(X_train)"
   ]
  },
  {
   "cell_type": "code",
   "execution_count": 34,
   "metadata": {},
   "outputs": [],
   "source": [
    "# Estimate proability\n",
    "y_pred_proba = knn.predict_proba(X_train)"
   ]
  },
  {
   "cell_type": "code",
   "execution_count": 35,
   "metadata": {},
   "outputs": [
    {
     "name": "stdout",
     "output_type": "stream",
     "text": [
      "Accuracy of KNN classifier on training set: 0.89\n"
     ]
    }
   ],
   "source": [
    "# Compute accuracy\n",
    "print('Accuracy of KNN classifier on training set: {:.2f}'\n",
    "     .format(knn.score(X_train, y_train)))"
   ]
  },
  {
   "cell_type": "code",
   "execution_count": 36,
   "metadata": {},
   "outputs": [
    {
     "name": "stdout",
     "output_type": "stream",
     "text": [
      "[[1434   35    1   66]\n",
      " [ 187   78    0    5]\n",
      " [  68    7    3    1]\n",
      " [  32    0    0 1876]]\n"
     ]
    }
   ],
   "source": [
    "print(confusion_matrix(y_train, y_pred))"
   ]
  },
  {
   "cell_type": "code",
   "execution_count": 37,
   "metadata": {},
   "outputs": [
    {
     "name": "stdout",
     "output_type": "stream",
     "text": [
      "                  precision    recall  f1-score   support\n",
      "\n",
      " 1 michelin star       0.83      0.93      0.88      1536\n",
      "2 michelin stars       0.65      0.29      0.40       270\n",
      "3 michelin stars       0.75      0.04      0.07        79\n",
      "    bib gourmand       0.96      0.98      0.97      1908\n",
      "\n",
      "        accuracy                           0.89      3793\n",
      "       macro avg       0.80      0.56      0.58      3793\n",
      "    weighted avg       0.88      0.89      0.88      3793\n",
      "\n"
     ]
    }
   ],
   "source": [
    "print(classification_report(y_train, y_pred))"
   ]
  },
  {
   "cell_type": "code",
   "execution_count": 39,
   "metadata": {},
   "outputs": [
    {
     "name": "stdout",
     "output_type": "stream",
     "text": [
      "Accuracy of KNN classifier on validation set: 0.88\n"
     ]
    }
   ],
   "source": [
    "print('Accuracy of KNN classifier on validation set: {:.2f}'\n",
    "     .format(knn.score(X_validate, y_validate)))"
   ]
  },
  {
   "cell_type": "code",
   "execution_count": 40,
   "metadata": {},
   "outputs": [
    {
     "data": {
      "image/png": "[encoded data removed]",
      "text/plain": [
       "<Figure size 640x480 with 1 Axes>"
      ]
     },
     "metadata": {},
     "output_type": "display_data"
    }
   ],
   "source": [
    "# Visualizae this\n",
    "k_range = range(1, 20)\n",
    "scores = []\n",
    "for k in k_range:\n",
    "    knn = KNeighborsClassifier(n_neighbors = k)\n",
    "    knn.fit(X_train, y_train)\n",
    "    scores.append(knn.score(X_test, y_test))\n",
    "plt.figure()\n",
    "plt.xlabel('k')\n",
    "plt.ylabel('accuracy')\n",
    "plt.scatter(k_range, scores)\n",
    "plt.xticks([0,5,10,15,20])\n",
    "plt.show()"
   ]
  },
  {
   "cell_type": "code",
   "execution_count": null,
   "metadata": {},
   "outputs": [],
   "source": []
  },
  {
   "cell_type": "markdown",
   "metadata": {},
   "source": []
  }
 ],
 "metadata": {
  "kernelspec": {
   "display_name": "base",
   "language": "python",
   "name": "python3"
  },
  "language_info": {
   "codemirror_mode": {
    "name": "ipython",
    "version": 3
   },
   "file_extension": ".py",
   "mimetype": "text/x-python",
   "name": "python",
   "nbconvert_exporter": "python",
   "pygments_lexer": "ipython3",
   "version": "3.9.15"
  },
  "orig_nbformat": 4,
  "vscode": {
   "interpreter": {
    "hash": "38cca0c38332a56087b24af0bc80247f4fced29cb4f7f437d91dc159adec9c4e"
   }
  }
 },
 "nbformat": 4,
 "nbformat_minor": 2
}
