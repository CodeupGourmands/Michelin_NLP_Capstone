{
 "cells": [
  {
   "cell_type": "code",
   "execution_count": 60,
   "metadata": {},
   "outputs": [],
   "source": [
    "import pandas as pd\n",
    "import numpy as np\n",
    "import re\n",
    "import os\n",
    "\n",
    "#Webscraping/NLP\n",
    "import requests\n",
    "from requests import get\n",
    "from bs4 import BeautifulSoup\n",
    "import time\n",
    "import nltk\n",
    "import requests\n",
    "import unicodedata\n",
    "from nltk.corpus import stopwords\n",
    "\n",
    "#Visualizations\n",
    "import seaborn as sns\n",
    "import matplotlib.pyplot as plt\n",
    "%matplotlib inline\n",
    "%config InlineBackend.figure_format = 'retina'\n",
    "\n",
    "#My imports\n",
    "import prepare as p\n",
    "import acquire as a"
   ]
  },
  {
   "cell_type": "code",
   "execution_count": 61,
   "metadata": {},
   "outputs": [
    {
     "data": {
      "text/html": [
       "<div>\n",
       "<style scoped>\n",
       "    .dataframe tbody tr th:only-of-type {\n",
       "        vertical-align: middle;\n",
       "    }\n",
       "\n",
       "    .dataframe tbody tr th {\n",
       "        vertical-align: top;\n",
       "    }\n",
       "\n",
       "    .dataframe thead th {\n",
       "        text-align: right;\n",
       "    }\n",
       "</style>\n",
       "<table border=\"1\" class=\"dataframe\">\n",
       "  <thead>\n",
       "    <tr style=\"text-align: right;\">\n",
       "      <th></th>\n",
       "      <th>name</th>\n",
       "      <th>address</th>\n",
       "      <th>location</th>\n",
       "      <th>price</th>\n",
       "      <th>cuisine</th>\n",
       "      <th>longitude</th>\n",
       "      <th>latitude</th>\n",
       "      <th>phone_number</th>\n",
       "      <th>url</th>\n",
       "      <th>website_url</th>\n",
       "      <th>award</th>\n",
       "      <th>facilities_and_services</th>\n",
       "      <th>data</th>\n",
       "    </tr>\n",
       "  </thead>\n",
       "  <tbody>\n",
       "    <tr>\n",
       "      <th>0</th>\n",
       "      <td>King's Joy</td>\n",
       "      <td>2 Wudaoying Hutong, Beijing, China Mainland</td>\n",
       "      <td>Beijing, China Mainland</td>\n",
       "      <td>¥¥¥</td>\n",
       "      <td>Vegetarian</td>\n",
       "      <td>116.410004</td>\n",
       "      <td>39.946681</td>\n",
       "      <td>8.610840e+11</td>\n",
       "      <td>https://guide.michelin.com/en/beijing-municipa...</td>\n",
       "      <td>NaN</td>\n",
       "      <td>3 MICHELIN Stars</td>\n",
       "      <td>Air conditioning,American Express credit card,...</td>\n",
       "      <td>Just a stone’s throw from Yonghe Temple, this ...</td>\n",
       "    </tr>\n",
       "    <tr>\n",
       "      <th>1</th>\n",
       "      <td>Xin Rong Ji (Xinyuan South Road)</td>\n",
       "      <td>1F, East Tower, Genesis Beijing, 8 Xinyuan Sou...</td>\n",
       "      <td>Beijing, China Mainland</td>\n",
       "      <td>¥¥¥¥</td>\n",
       "      <td>Taizhou</td>\n",
       "      <td>116.450148</td>\n",
       "      <td>39.946380</td>\n",
       "      <td>8.610650e+11</td>\n",
       "      <td>https://guide.michelin.com/en/beijing-municipa...</td>\n",
       "      <td>NaN</td>\n",
       "      <td>3 MICHELIN Stars</td>\n",
       "      <td>Air conditioning,Car park,China UnionPay,Count...</td>\n",
       "      <td>This branch of the chain restaurant opened in ...</td>\n",
       "    </tr>\n",
       "    <tr>\n",
       "      <th>2</th>\n",
       "      <td>Taian Table</td>\n",
       "      <td>101-102, Building No. 1, Garden Office, No.161...</td>\n",
       "      <td>Shanghai, China Mainland</td>\n",
       "      <td>¥¥¥¥</td>\n",
       "      <td>Innovative</td>\n",
       "      <td>121.474049</td>\n",
       "      <td>31.221807</td>\n",
       "      <td>8.617302e+12</td>\n",
       "      <td>https://guide.michelin.com/en/shanghai-municip...</td>\n",
       "      <td>https://taian-table.cn/</td>\n",
       "      <td>3 MICHELIN Stars</td>\n",
       "      <td>Air conditioning,American Express credit card,...</td>\n",
       "      <td>A fixture on the city’s dining scene since 201...</td>\n",
       "    </tr>\n",
       "    <tr>\n",
       "      <th>3</th>\n",
       "      <td>Ultraviolet by Paul Pairet</td>\n",
       "      <td>'somewhere in Shanghai' - meet at Mr &amp; Mrs Bun...</td>\n",
       "      <td>Shanghai, China Mainland</td>\n",
       "      <td>¥¥¥¥</td>\n",
       "      <td>Innovative</td>\n",
       "      <td>121.485090</td>\n",
       "      <td>31.240358</td>\n",
       "      <td>NaN</td>\n",
       "      <td>https://guide.michelin.com/en/shanghai-municip...</td>\n",
       "      <td>https://uvbypp.cc/</td>\n",
       "      <td>3 MICHELIN Stars</td>\n",
       "      <td>Air conditioning,American Express credit card,...</td>\n",
       "      <td>This multi-sensory experience at a secret loca...</td>\n",
       "    </tr>\n",
       "    <tr>\n",
       "      <th>4</th>\n",
       "      <td>Quince</td>\n",
       "      <td>470 Pacific Ave., San Francisco, 94133, USA</td>\n",
       "      <td>San Francisco, USA</td>\n",
       "      <td>$$$$</td>\n",
       "      <td>Contemporary, Californian</td>\n",
       "      <td>-122.403261</td>\n",
       "      <td>37.797505</td>\n",
       "      <td>1.415776e+10</td>\n",
       "      <td>https://guide.michelin.com/en/california/san-f...</td>\n",
       "      <td>http://www.quincerestaurant.com</td>\n",
       "      <td>3 MICHELIN Stars</td>\n",
       "      <td>Air conditioning,American Express credit card,...</td>\n",
       "      <td>An air of refinement infuses this dining room,...</td>\n",
       "    </tr>\n",
       "  </tbody>\n",
       "</table>\n",
       "</div>"
      ],
      "text/plain": [
       "                               name  \\\n",
       "0                        King's Joy   \n",
       "1  Xin Rong Ji (Xinyuan South Road)   \n",
       "2                       Taian Table   \n",
       "3        Ultraviolet by Paul Pairet   \n",
       "4                            Quince   \n",
       "\n",
       "                                             address  \\\n",
       "0        2 Wudaoying Hutong, Beijing, China Mainland   \n",
       "1  1F, East Tower, Genesis Beijing, 8 Xinyuan Sou...   \n",
       "2  101-102, Building No. 1, Garden Office, No.161...   \n",
       "3  'somewhere in Shanghai' - meet at Mr & Mrs Bun...   \n",
       "4        470 Pacific Ave., San Francisco, 94133, USA   \n",
       "\n",
       "                   location price                    cuisine   longitude  \\\n",
       "0   Beijing, China Mainland   ¥¥¥                 Vegetarian  116.410004   \n",
       "1   Beijing, China Mainland  ¥¥¥¥                    Taizhou  116.450148   \n",
       "2  Shanghai, China Mainland  ¥¥¥¥                 Innovative  121.474049   \n",
       "3  Shanghai, China Mainland  ¥¥¥¥                 Innovative  121.485090   \n",
       "4        San Francisco, USA  $$$$  Contemporary, Californian -122.403261   \n",
       "\n",
       "    latitude  phone_number                                                url  \\\n",
       "0  39.946681  8.610840e+11  https://guide.michelin.com/en/beijing-municipa...   \n",
       "1  39.946380  8.610650e+11  https://guide.michelin.com/en/beijing-municipa...   \n",
       "2  31.221807  8.617302e+12  https://guide.michelin.com/en/shanghai-municip...   \n",
       "3  31.240358           NaN  https://guide.michelin.com/en/shanghai-municip...   \n",
       "4  37.797505  1.415776e+10  https://guide.michelin.com/en/california/san-f...   \n",
       "\n",
       "                       website_url             award  \\\n",
       "0                              NaN  3 MICHELIN Stars   \n",
       "1                              NaN  3 MICHELIN Stars   \n",
       "2          https://taian-table.cn/  3 MICHELIN Stars   \n",
       "3               https://uvbypp.cc/  3 MICHELIN Stars   \n",
       "4  http://www.quincerestaurant.com  3 MICHELIN Stars   \n",
       "\n",
       "                             facilities_and_services  \\\n",
       "0  Air conditioning,American Express credit card,...   \n",
       "1  Air conditioning,Car park,China UnionPay,Count...   \n",
       "2  Air conditioning,American Express credit card,...   \n",
       "3  Air conditioning,American Express credit card,...   \n",
       "4  Air conditioning,American Express credit card,...   \n",
       "\n",
       "                                                data  \n",
       "0  Just a stone’s throw from Yonghe Temple, this ...  \n",
       "1  This branch of the chain restaurant opened in ...  \n",
       "2  A fixture on the city’s dining scene since 201...  \n",
       "3  This multi-sensory experience at a secret loca...  \n",
       "4  An air of refinement infuses this dining room,...  "
      ]
     },
     "execution_count": 61,
     "metadata": {},
     "output_type": "execute_result"
    }
   ],
   "source": [
    "#Get the data\n",
    "df = pd.read_pickle('data/michelin_df.pickle')\n",
    "df.head()"
   ]
  },
  {
   "cell_type": "code",
   "execution_count": 49,
   "metadata": {},
   "outputs": [
    {
     "name": "stdout",
     "output_type": "stream",
     "text": [
      "<class 'pandas.core.frame.DataFrame'>\n",
      "RangeIndex: 6780 entries, 0 to 6779\n",
      "Data columns (total 13 columns):\n",
      " #   Column                   Non-Null Count  Dtype  \n",
      "---  ------                   --------------  -----  \n",
      " 0   name                     6780 non-null   object \n",
      " 1   address                  6780 non-null   object \n",
      " 2   location                 6780 non-null   object \n",
      " 3   price                    6726 non-null   object \n",
      " 4   cuisine                  6780 non-null   object \n",
      " 5   longitude                6780 non-null   float64\n",
      " 6   latitude                 6780 non-null   float64\n",
      " 7   phone_number             6649 non-null   float64\n",
      " 8   url                      6780 non-null   object \n",
      " 9   website_url              5542 non-null   object \n",
      " 10  award                    6780 non-null   object \n",
      " 11  facilities_and_services  6732 non-null   object \n",
      " 12  data                     6780 non-null   object \n",
      "dtypes: float64(3), object(10)\n",
      "memory usage: 688.7+ KB\n"
     ]
    }
   ],
   "source": [
    "df.info()"
   ]
  },
  {
   "cell_type": "code",
   "execution_count": null,
   "metadata": {},
   "outputs": [],
   "source": [
    "#docstring to make docstring and comments "
   ]
  },
  {
   "cell_type": "code",
   "execution_count": 50,
   "metadata": {},
   "outputs": [
    {
     "data": {
      "text/plain": [
       "Bib Gourmand        3411\n",
       "1 MICHELIN Star     2744\n",
       "2 MICHELIN Stars     483\n",
       "3 MICHELIN Stars     142\n",
       "Name: award, dtype: int64"
      ]
     },
     "execution_count": 50,
     "metadata": {},
     "output_type": "execute_result"
    }
   ],
   "source": [
    "df.award.value_counts()"
   ]
  },
  {
   "cell_type": "code",
   "execution_count": 10,
   "metadata": {},
   "outputs": [],
   "source": [
    "#TODO make visualization of distribution of Michelin star levels"
   ]
  },
  {
   "cell_type": "code",
   "execution_count": 51,
   "metadata": {},
   "outputs": [
    {
     "data": {
      "text/plain": [
       "€€      1337\n",
       "€€€€    1261\n",
       "€€€      854\n",
       "$$       543\n",
       "€        403\n",
       "¥¥¥      359\n",
       "¥¥       346\n",
       "$$$$     288\n",
       "$        228\n",
       "¥        221\n",
       "$$$      149\n",
       "¥¥¥¥     139\n",
       "฿฿       106\n",
       "££        98\n",
       "££££      89\n",
       "฿         84\n",
       "£££       68\n",
       "₩         47\n",
       "₩₩₩₩      28\n",
       "฿฿฿฿      19\n",
       "฿฿฿       15\n",
       "£         12\n",
       "₩₩        10\n",
       "₺          8\n",
       "₩₩₩        7\n",
       "₺₺         3\n",
       "₺₺₺        2\n",
       "₺₺₺₺       2\n",
       "Name: price, dtype: int64"
      ]
     },
     "execution_count": 51,
     "metadata": {},
     "output_type": "execute_result"
    }
   ],
   "source": [
    "df.price.value_counts()"
   ]
  },
  {
   "cell_type": "code",
   "execution_count": 52,
   "metadata": {},
   "outputs": [],
   "source": [
    "#TODO drop phone number column?"
   ]
  },
  {
   "cell_type": "code",
   "execution_count": 53,
   "metadata": {},
   "outputs": [
    {
     "data": {
      "text/plain": [
       "dtype('O')"
      ]
     },
     "execution_count": 53,
     "metadata": {},
     "output_type": "execute_result"
    }
   ],
   "source": [
    "#What is this column type\n",
    "df.price.dtype"
   ]
  },
  {
   "cell_type": "code",
   "execution_count": 54,
   "metadata": {},
   "outputs": [
    {
     "data": {
      "text/plain": [
       "True"
      ]
     },
     "execution_count": 54,
     "metadata": {},
     "output_type": "execute_result"
    }
   ],
   "source": [
    "df.price.isnull().values.any()"
   ]
  },
  {
   "cell_type": "code",
   "execution_count": 57,
   "metadata": {},
   "outputs": [
    {
     "ename": "TypeError",
     "evalue": "astype() got an unexpected keyword argument 'skipna'",
     "output_type": "error",
     "traceback": [
      "\u001b[0;31m---------------------------------------------------------------------------\u001b[0m",
      "\u001b[0;31mTypeError\u001b[0m                                 Traceback (most recent call last)",
      "Cell \u001b[0;32mIn[57], line 2\u001b[0m\n\u001b[1;32m      1\u001b[0m \u001b[39m# #Recasting price as string\u001b[39;00m\n\u001b[0;32m----> 2\u001b[0m df[\u001b[39m'\u001b[39m\u001b[39mprice\u001b[39m\u001b[39m'\u001b[39m] \u001b[39m=\u001b[39m df[\u001b[39m'\u001b[39;49m\u001b[39mprice\u001b[39;49m\u001b[39m'\u001b[39;49m]\u001b[39m.\u001b[39;49mastype(\u001b[39mstr\u001b[39;49m, skipna\u001b[39m=\u001b[39;49m\u001b[39mTrue\u001b[39;49;00m)\n",
      "\u001b[0;31mTypeError\u001b[0m: astype() got an unexpected keyword argument 'skipna'"
     ]
    }
   ],
   "source": [
    "# # #Recasting price as string\n",
    "# df['price'] = df['price'].astype(str)"
   ]
  },
  {
   "cell_type": "code",
   "execution_count": 63,
   "metadata": {},
   "outputs": [
    {
     "data": {
      "text/plain": [
       "€€      1337\n",
       "€€€€    1261\n",
       "€€€      854\n",
       "$$       543\n",
       "€        403\n",
       "¥¥¥      359\n",
       "¥¥       346\n",
       "$$$$     288\n",
       "$        228\n",
       "¥        221\n",
       "$$$      149\n",
       "¥¥¥¥     139\n",
       "฿฿       106\n",
       "££        98\n",
       "££££      89\n",
       "฿         84\n",
       "£££       68\n",
       "          54\n",
       "₩         47\n",
       "₩₩₩₩      28\n",
       "฿฿฿฿      19\n",
       "฿฿฿       15\n",
       "£         12\n",
       "₩₩        10\n",
       "₺          8\n",
       "₩₩₩        7\n",
       "₺₺         3\n",
       "₺₺₺₺       2\n",
       "₺₺₺        2\n",
       "Name: price, dtype: int64"
      ]
     },
     "execution_count": 63,
     "metadata": {},
     "output_type": "execute_result"
    }
   ],
   "source": [
    "# Turn NaN values in price to nothing, so that it can be recast into the price_level column\n",
    "df['price'] = df['price'].fillna('').astype('str')\n",
    "df.price.value_counts()"
   ]
  },
  {
   "cell_type": "code",
   "execution_count": 64,
   "metadata": {},
   "outputs": [],
   "source": [
    "#Casting a new column, price level, using length of column\n",
    "df['price_level'] = df['price'].apply(lambda x: len(x))"
   ]
  },
  {
   "cell_type": "code",
   "execution_count": 65,
   "metadata": {},
   "outputs": [
    {
     "data": {
      "text/plain": [
       "2    2443\n",
       "4    1826\n",
       "3    1454\n",
       "1    1003\n",
       "0      54\n",
       "Name: price_level, dtype: int64"
      ]
     },
     "execution_count": 65,
     "metadata": {},
     "output_type": "execute_result"
    }
   ],
   "source": [
    "#Frequency of price levels in dataframe\n",
    "df.price_level.value_counts()"
   ]
  },
  {
   "cell_type": "code",
   "execution_count": 66,
   "metadata": {},
   "outputs": [
    {
     "data": {
      "text/plain": [
       "0    2\n",
       "Name: price_level, dtype: int64"
      ]
     },
     "execution_count": 66,
     "metadata": {},
     "output_type": "execute_result"
    }
   ],
   "source": [
    "df.price_level.mode()"
   ]
  },
  {
   "cell_type": "code",
   "execution_count": 21,
   "metadata": {},
   "outputs": [
    {
     "data": {
      "text/plain": [
       "0        Beijing, China Mainland\n",
       "1        Beijing, China Mainland\n",
       "2       Shanghai, China Mainland\n",
       "3       Shanghai, China Mainland\n",
       "4             San Francisco, USA\n",
       "                  ...           \n",
       "6775              Warsaw, Poland\n",
       "6776              Cracow, Poland\n",
       "6777              Cracow, Poland\n",
       "6778              Warsaw, Poland\n",
       "6779              Warsaw, Poland\n",
       "Name: location, Length: 6780, dtype: object"
      ]
     },
     "execution_count": 21,
     "metadata": {},
     "output_type": "execute_result"
    }
   ],
   "source": [
    "#Separate City and country columns to create two new columns\n",
    "df.location"
   ]
  },
  {
   "cell_type": "code",
   "execution_count": 23,
   "metadata": {},
   "outputs": [],
   "source": [
    "#splitting location columns into two columns\n",
    "df[['city', 'country']] = df['location'].str.split(',', 1, expand=True)"
   ]
  },
  {
   "cell_type": "code",
   "execution_count": 24,
   "metadata": {},
   "outputs": [
    {
     "data": {
      "text/html": [
       "<div>\n",
       "<style scoped>\n",
       "    .dataframe tbody tr th:only-of-type {\n",
       "        vertical-align: middle;\n",
       "    }\n",
       "\n",
       "    .dataframe tbody tr th {\n",
       "        vertical-align: top;\n",
       "    }\n",
       "\n",
       "    .dataframe thead th {\n",
       "        text-align: right;\n",
       "    }\n",
       "</style>\n",
       "<table border=\"1\" class=\"dataframe\">\n",
       "  <thead>\n",
       "    <tr style=\"text-align: right;\">\n",
       "      <th></th>\n",
       "      <th>name</th>\n",
       "      <th>address</th>\n",
       "      <th>location</th>\n",
       "      <th>price</th>\n",
       "      <th>cuisine</th>\n",
       "      <th>longitude</th>\n",
       "      <th>latitude</th>\n",
       "      <th>phone_number</th>\n",
       "      <th>url</th>\n",
       "      <th>website_url</th>\n",
       "      <th>award</th>\n",
       "      <th>facilities_and_services</th>\n",
       "      <th>data</th>\n",
       "      <th>price_level</th>\n",
       "      <th>city</th>\n",
       "      <th>country</th>\n",
       "    </tr>\n",
       "  </thead>\n",
       "  <tbody>\n",
       "    <tr>\n",
       "      <th>0</th>\n",
       "      <td>King's Joy</td>\n",
       "      <td>2 Wudaoying Hutong, Beijing, China Mainland</td>\n",
       "      <td>Beijing, China Mainland</td>\n",
       "      <td>¥¥¥</td>\n",
       "      <td>Vegetarian</td>\n",
       "      <td>116.410004</td>\n",
       "      <td>39.946681</td>\n",
       "      <td>8.610840e+11</td>\n",
       "      <td>https://guide.michelin.com/en/beijing-municipa...</td>\n",
       "      <td>NaN</td>\n",
       "      <td>3 MICHELIN Stars</td>\n",
       "      <td>Air conditioning,American Express credit card,...</td>\n",
       "      <td>Just a stone’s throw from Yonghe Temple, this ...</td>\n",
       "      <td>3</td>\n",
       "      <td>Beijing</td>\n",
       "      <td>China Mainland</td>\n",
       "    </tr>\n",
       "    <tr>\n",
       "      <th>1</th>\n",
       "      <td>Xin Rong Ji (Xinyuan South Road)</td>\n",
       "      <td>1F, East Tower, Genesis Beijing, 8 Xinyuan Sou...</td>\n",
       "      <td>Beijing, China Mainland</td>\n",
       "      <td>¥¥¥¥</td>\n",
       "      <td>Taizhou</td>\n",
       "      <td>116.450148</td>\n",
       "      <td>39.946380</td>\n",
       "      <td>8.610650e+11</td>\n",
       "      <td>https://guide.michelin.com/en/beijing-municipa...</td>\n",
       "      <td>NaN</td>\n",
       "      <td>3 MICHELIN Stars</td>\n",
       "      <td>Air conditioning,Car park,China UnionPay,Count...</td>\n",
       "      <td>This branch of the chain restaurant opened in ...</td>\n",
       "      <td>4</td>\n",
       "      <td>Beijing</td>\n",
       "      <td>China Mainland</td>\n",
       "    </tr>\n",
       "    <tr>\n",
       "      <th>2</th>\n",
       "      <td>Taian Table</td>\n",
       "      <td>101-102, Building No. 1, Garden Office, No.161...</td>\n",
       "      <td>Shanghai, China Mainland</td>\n",
       "      <td>¥¥¥¥</td>\n",
       "      <td>Innovative</td>\n",
       "      <td>121.474049</td>\n",
       "      <td>31.221807</td>\n",
       "      <td>8.617302e+12</td>\n",
       "      <td>https://guide.michelin.com/en/shanghai-municip...</td>\n",
       "      <td>https://taian-table.cn/</td>\n",
       "      <td>3 MICHELIN Stars</td>\n",
       "      <td>Air conditioning,American Express credit card,...</td>\n",
       "      <td>A fixture on the city’s dining scene since 201...</td>\n",
       "      <td>4</td>\n",
       "      <td>Shanghai</td>\n",
       "      <td>China Mainland</td>\n",
       "    </tr>\n",
       "    <tr>\n",
       "      <th>3</th>\n",
       "      <td>Ultraviolet by Paul Pairet</td>\n",
       "      <td>'somewhere in Shanghai' - meet at Mr &amp; Mrs Bun...</td>\n",
       "      <td>Shanghai, China Mainland</td>\n",
       "      <td>¥¥¥¥</td>\n",
       "      <td>Innovative</td>\n",
       "      <td>121.485090</td>\n",
       "      <td>31.240358</td>\n",
       "      <td>NaN</td>\n",
       "      <td>https://guide.michelin.com/en/shanghai-municip...</td>\n",
       "      <td>https://uvbypp.cc/</td>\n",
       "      <td>3 MICHELIN Stars</td>\n",
       "      <td>Air conditioning,American Express credit card,...</td>\n",
       "      <td>This multi-sensory experience at a secret loca...</td>\n",
       "      <td>4</td>\n",
       "      <td>Shanghai</td>\n",
       "      <td>China Mainland</td>\n",
       "    </tr>\n",
       "    <tr>\n",
       "      <th>4</th>\n",
       "      <td>Quince</td>\n",
       "      <td>470 Pacific Ave., San Francisco, 94133, USA</td>\n",
       "      <td>San Francisco, USA</td>\n",
       "      <td>$$$$</td>\n",
       "      <td>Contemporary, Californian</td>\n",
       "      <td>-122.403261</td>\n",
       "      <td>37.797505</td>\n",
       "      <td>1.415776e+10</td>\n",
       "      <td>https://guide.michelin.com/en/california/san-f...</td>\n",
       "      <td>http://www.quincerestaurant.com</td>\n",
       "      <td>3 MICHELIN Stars</td>\n",
       "      <td>Air conditioning,American Express credit card,...</td>\n",
       "      <td>An air of refinement infuses this dining room,...</td>\n",
       "      <td>4</td>\n",
       "      <td>San Francisco</td>\n",
       "      <td>USA</td>\n",
       "    </tr>\n",
       "  </tbody>\n",
       "</table>\n",
       "</div>"
      ],
      "text/plain": [
       "                               name  \\\n",
       "0                        King's Joy   \n",
       "1  Xin Rong Ji (Xinyuan South Road)   \n",
       "2                       Taian Table   \n",
       "3        Ultraviolet by Paul Pairet   \n",
       "4                            Quince   \n",
       "\n",
       "                                             address  \\\n",
       "0        2 Wudaoying Hutong, Beijing, China Mainland   \n",
       "1  1F, East Tower, Genesis Beijing, 8 Xinyuan Sou...   \n",
       "2  101-102, Building No. 1, Garden Office, No.161...   \n",
       "3  'somewhere in Shanghai' - meet at Mr & Mrs Bun...   \n",
       "4        470 Pacific Ave., San Francisco, 94133, USA   \n",
       "\n",
       "                   location price                    cuisine   longitude  \\\n",
       "0   Beijing, China Mainland   ¥¥¥                 Vegetarian  116.410004   \n",
       "1   Beijing, China Mainland  ¥¥¥¥                    Taizhou  116.450148   \n",
       "2  Shanghai, China Mainland  ¥¥¥¥                 Innovative  121.474049   \n",
       "3  Shanghai, China Mainland  ¥¥¥¥                 Innovative  121.485090   \n",
       "4        San Francisco, USA  $$$$  Contemporary, Californian -122.403261   \n",
       "\n",
       "    latitude  phone_number                                                url  \\\n",
       "0  39.946681  8.610840e+11  https://guide.michelin.com/en/beijing-municipa...   \n",
       "1  39.946380  8.610650e+11  https://guide.michelin.com/en/beijing-municipa...   \n",
       "2  31.221807  8.617302e+12  https://guide.michelin.com/en/shanghai-municip...   \n",
       "3  31.240358           NaN  https://guide.michelin.com/en/shanghai-municip...   \n",
       "4  37.797505  1.415776e+10  https://guide.michelin.com/en/california/san-f...   \n",
       "\n",
       "                       website_url             award  \\\n",
       "0                              NaN  3 MICHELIN Stars   \n",
       "1                              NaN  3 MICHELIN Stars   \n",
       "2          https://taian-table.cn/  3 MICHELIN Stars   \n",
       "3               https://uvbypp.cc/  3 MICHELIN Stars   \n",
       "4  http://www.quincerestaurant.com  3 MICHELIN Stars   \n",
       "\n",
       "                             facilities_and_services  \\\n",
       "0  Air conditioning,American Express credit card,...   \n",
       "1  Air conditioning,Car park,China UnionPay,Count...   \n",
       "2  Air conditioning,American Express credit card,...   \n",
       "3  Air conditioning,American Express credit card,...   \n",
       "4  Air conditioning,American Express credit card,...   \n",
       "\n",
       "                                                data  price_level  \\\n",
       "0  Just a stone’s throw from Yonghe Temple, this ...            3   \n",
       "1  This branch of the chain restaurant opened in ...            4   \n",
       "2  A fixture on the city’s dining scene since 201...            4   \n",
       "3  This multi-sensory experience at a secret loca...            4   \n",
       "4  An air of refinement infuses this dining room,...            4   \n",
       "\n",
       "            city          country  \n",
       "0        Beijing   China Mainland  \n",
       "1        Beijing   China Mainland  \n",
       "2       Shanghai   China Mainland  \n",
       "3       Shanghai   China Mainland  \n",
       "4  San Francisco              USA  "
      ]
     },
     "execution_count": 24,
     "metadata": {},
     "output_type": "execute_result"
    }
   ],
   "source": [
    "df.head()"
   ]
  },
  {
   "cell_type": "code",
   "execution_count": 46,
   "metadata": {},
   "outputs": [
    {
     "data": {
      "text/plain": [
       "<bound method Series.isnull of 0        ¥¥¥\n",
       "1       ¥¥¥¥\n",
       "2       ¥¥¥¥\n",
       "3       ¥¥¥¥\n",
       "4       $$$$\n",
       "        ... \n",
       "6775      €€\n",
       "6776      €€\n",
       "6777       €\n",
       "6778      €€\n",
       "6779      €€\n",
       "Name: price, Length: 6780, dtype: object>"
      ]
     },
     "execution_count": 46,
     "metadata": {},
     "output_type": "execute_result"
    }
   ],
   "source": [
    "df.price.isnull"
   ]
  },
  {
   "cell_type": "code",
   "execution_count": 29,
   "metadata": {},
   "outputs": [
    {
     "name": "stdout",
     "output_type": "stream",
     "text": [
      "<class 'pandas.core.frame.DataFrame'>\n",
      "RangeIndex: 6780 entries, 0 to 6779\n",
      "Data columns (total 15 columns):\n",
      " #   Column                   Non-Null Count  Dtype  \n",
      "---  ------                   --------------  -----  \n",
      " 0   name                     6780 non-null   object \n",
      " 1   address                  6780 non-null   object \n",
      " 2   location                 6780 non-null   object \n",
      " 3   price                    6780 non-null   object \n",
      " 4   cuisine                  6780 non-null   object \n",
      " 5   longitude                6780 non-null   float64\n",
      " 6   latitude                 6780 non-null   float64\n",
      " 7   url                      6780 non-null   object \n",
      " 8   website_url              5542 non-null   object \n",
      " 9   award                    6780 non-null   object \n",
      " 10  facilities_and_services  6732 non-null   object \n",
      " 11  data                     6780 non-null   object \n",
      " 12  price_level              6780 non-null   int64  \n",
      " 13  city                     6780 non-null   object \n",
      " 14  country                  6466 non-null   object \n",
      "dtypes: float64(2), int64(1), object(12)\n",
      "memory usage: 794.7+ KB\n"
     ]
    }
   ],
   "source": [
    "df.info()"
   ]
  },
  {
   "cell_type": "code",
   "execution_count": null,
   "metadata": {},
   "outputs": [],
   "source": [
    "df.price"
   ]
  },
  {
   "cell_type": "code",
   "execution_count": 28,
   "metadata": {},
   "outputs": [],
   "source": [
    "#Dropping phone number column\n",
    "df = df.drop(['phone_number'], axis=1)"
   ]
  },
  {
   "cell_type": "code",
   "execution_count": 30,
   "metadata": {},
   "outputs": [],
   "source": [
    "#Dropping website url column\n",
    "df = df.drop(['website_url'], axis=1)"
   ]
  },
  {
   "cell_type": "code",
   "execution_count": 33,
   "metadata": {},
   "outputs": [],
   "source": [
    "#lower case all column values if column is object/string type\n",
    "df = df.apply(lambda x: x.str.lower() if(x.dtype == 'object') else x)"
   ]
  },
  {
   "cell_type": "code",
   "execution_count": 34,
   "metadata": {},
   "outputs": [
    {
     "data": {
      "text/html": [
       "<div>\n",
       "<style scoped>\n",
       "    .dataframe tbody tr th:only-of-type {\n",
       "        vertical-align: middle;\n",
       "    }\n",
       "\n",
       "    .dataframe tbody tr th {\n",
       "        vertical-align: top;\n",
       "    }\n",
       "\n",
       "    .dataframe thead th {\n",
       "        text-align: right;\n",
       "    }\n",
       "</style>\n",
       "<table border=\"1\" class=\"dataframe\">\n",
       "  <thead>\n",
       "    <tr style=\"text-align: right;\">\n",
       "      <th></th>\n",
       "      <th>name</th>\n",
       "      <th>address</th>\n",
       "      <th>location</th>\n",
       "      <th>price</th>\n",
       "      <th>cuisine</th>\n",
       "      <th>longitude</th>\n",
       "      <th>latitude</th>\n",
       "      <th>url</th>\n",
       "      <th>award</th>\n",
       "      <th>facilities_and_services</th>\n",
       "      <th>data</th>\n",
       "      <th>price_level</th>\n",
       "      <th>city</th>\n",
       "      <th>country</th>\n",
       "    </tr>\n",
       "  </thead>\n",
       "  <tbody>\n",
       "    <tr>\n",
       "      <th>0</th>\n",
       "      <td>king's joy</td>\n",
       "      <td>2 wudaoying hutong, beijing, china mainland</td>\n",
       "      <td>beijing, china mainland</td>\n",
       "      <td>¥¥¥</td>\n",
       "      <td>vegetarian</td>\n",
       "      <td>116.410004</td>\n",
       "      <td>39.946681</td>\n",
       "      <td>https://guide.michelin.com/en/beijing-municipa...</td>\n",
       "      <td>3 michelin stars</td>\n",
       "      <td>air conditioning,american express credit card,...</td>\n",
       "      <td>just a stone’s throw from yonghe temple, this ...</td>\n",
       "      <td>3</td>\n",
       "      <td>beijing</td>\n",
       "      <td>china mainland</td>\n",
       "    </tr>\n",
       "    <tr>\n",
       "      <th>1</th>\n",
       "      <td>xin rong ji (xinyuan south road)</td>\n",
       "      <td>1f, east tower, genesis beijing, 8 xinyuan sou...</td>\n",
       "      <td>beijing, china mainland</td>\n",
       "      <td>¥¥¥¥</td>\n",
       "      <td>taizhou</td>\n",
       "      <td>116.450148</td>\n",
       "      <td>39.946380</td>\n",
       "      <td>https://guide.michelin.com/en/beijing-municipa...</td>\n",
       "      <td>3 michelin stars</td>\n",
       "      <td>air conditioning,car park,china unionpay,count...</td>\n",
       "      <td>this branch of the chain restaurant opened in ...</td>\n",
       "      <td>4</td>\n",
       "      <td>beijing</td>\n",
       "      <td>china mainland</td>\n",
       "    </tr>\n",
       "    <tr>\n",
       "      <th>2</th>\n",
       "      <td>taian table</td>\n",
       "      <td>101-102, building no. 1, garden office, no.161...</td>\n",
       "      <td>shanghai, china mainland</td>\n",
       "      <td>¥¥¥¥</td>\n",
       "      <td>innovative</td>\n",
       "      <td>121.474049</td>\n",
       "      <td>31.221807</td>\n",
       "      <td>https://guide.michelin.com/en/shanghai-municip...</td>\n",
       "      <td>3 michelin stars</td>\n",
       "      <td>air conditioning,american express credit card,...</td>\n",
       "      <td>a fixture on the city’s dining scene since 201...</td>\n",
       "      <td>4</td>\n",
       "      <td>shanghai</td>\n",
       "      <td>china mainland</td>\n",
       "    </tr>\n",
       "    <tr>\n",
       "      <th>3</th>\n",
       "      <td>ultraviolet by paul pairet</td>\n",
       "      <td>'somewhere in shanghai' - meet at mr &amp; mrs bun...</td>\n",
       "      <td>shanghai, china mainland</td>\n",
       "      <td>¥¥¥¥</td>\n",
       "      <td>innovative</td>\n",
       "      <td>121.485090</td>\n",
       "      <td>31.240358</td>\n",
       "      <td>https://guide.michelin.com/en/shanghai-municip...</td>\n",
       "      <td>3 michelin stars</td>\n",
       "      <td>air conditioning,american express credit card,...</td>\n",
       "      <td>this multi-sensory experience at a secret loca...</td>\n",
       "      <td>4</td>\n",
       "      <td>shanghai</td>\n",
       "      <td>china mainland</td>\n",
       "    </tr>\n",
       "    <tr>\n",
       "      <th>4</th>\n",
       "      <td>quince</td>\n",
       "      <td>470 pacific ave., san francisco, 94133, usa</td>\n",
       "      <td>san francisco, usa</td>\n",
       "      <td>$$$$</td>\n",
       "      <td>contemporary, californian</td>\n",
       "      <td>-122.403261</td>\n",
       "      <td>37.797505</td>\n",
       "      <td>https://guide.michelin.com/en/california/san-f...</td>\n",
       "      <td>3 michelin stars</td>\n",
       "      <td>air conditioning,american express credit card,...</td>\n",
       "      <td>an air of refinement infuses this dining room,...</td>\n",
       "      <td>4</td>\n",
       "      <td>san francisco</td>\n",
       "      <td>usa</td>\n",
       "    </tr>\n",
       "  </tbody>\n",
       "</table>\n",
       "</div>"
      ],
      "text/plain": [
       "                               name  \\\n",
       "0                        king's joy   \n",
       "1  xin rong ji (xinyuan south road)   \n",
       "2                       taian table   \n",
       "3        ultraviolet by paul pairet   \n",
       "4                            quince   \n",
       "\n",
       "                                             address  \\\n",
       "0        2 wudaoying hutong, beijing, china mainland   \n",
       "1  1f, east tower, genesis beijing, 8 xinyuan sou...   \n",
       "2  101-102, building no. 1, garden office, no.161...   \n",
       "3  'somewhere in shanghai' - meet at mr & mrs bun...   \n",
       "4        470 pacific ave., san francisco, 94133, usa   \n",
       "\n",
       "                   location price                    cuisine   longitude  \\\n",
       "0   beijing, china mainland   ¥¥¥                 vegetarian  116.410004   \n",
       "1   beijing, china mainland  ¥¥¥¥                    taizhou  116.450148   \n",
       "2  shanghai, china mainland  ¥¥¥¥                 innovative  121.474049   \n",
       "3  shanghai, china mainland  ¥¥¥¥                 innovative  121.485090   \n",
       "4        san francisco, usa  $$$$  contemporary, californian -122.403261   \n",
       "\n",
       "    latitude                                                url  \\\n",
       "0  39.946681  https://guide.michelin.com/en/beijing-municipa...   \n",
       "1  39.946380  https://guide.michelin.com/en/beijing-municipa...   \n",
       "2  31.221807  https://guide.michelin.com/en/shanghai-municip...   \n",
       "3  31.240358  https://guide.michelin.com/en/shanghai-municip...   \n",
       "4  37.797505  https://guide.michelin.com/en/california/san-f...   \n",
       "\n",
       "              award                            facilities_and_services  \\\n",
       "0  3 michelin stars  air conditioning,american express credit card,...   \n",
       "1  3 michelin stars  air conditioning,car park,china unionpay,count...   \n",
       "2  3 michelin stars  air conditioning,american express credit card,...   \n",
       "3  3 michelin stars  air conditioning,american express credit card,...   \n",
       "4  3 michelin stars  air conditioning,american express credit card,...   \n",
       "\n",
       "                                                data  price_level  \\\n",
       "0  just a stone’s throw from yonghe temple, this ...            3   \n",
       "1  this branch of the chain restaurant opened in ...            4   \n",
       "2  a fixture on the city’s dining scene since 201...            4   \n",
       "3  this multi-sensory experience at a secret loca...            4   \n",
       "4  an air of refinement infuses this dining room,...            4   \n",
       "\n",
       "            city          country  \n",
       "0        beijing   china mainland  \n",
       "1        beijing   china mainland  \n",
       "2       shanghai   china mainland  \n",
       "3       shanghai   china mainland  \n",
       "4  san francisco              usa  "
      ]
     },
     "execution_count": 34,
     "metadata": {},
     "output_type": "execute_result"
    }
   ],
   "source": [
    "df.head()"
   ]
  },
  {
   "cell_type": "code",
   "execution_count": null,
   "metadata": {},
   "outputs": [],
   "source": [
    "def process_nl(document_series: pd.Series,\n",
    "               extra_words: List[str] = [],\n",
    "               exclude_words: List[str] = []) -> pd.DataFrame:\n",
    "    '''\n",
    "    cleans, stems, and lemmatizes given series of document strings\n",
    "    ## Parameters\n",
    "    document_series: `Series` containing document strings\n",
    "    extra_words: additional stopwords to remove from document string\n",
    "    exclude_words: stopwords to keep in document string\n",
    "    ## Returns\n",
    "    `DataFrame` containing the cleaned, stemmed, and lemmatized string\n",
    "    '''\n",
    "    ret_df = pd.DataFrame()\n",
    "    ret_df['clean'] = document_series.apply(\n",
    "        squeaky_clean, exclude_words=exclude_words, extra_words=extra_words)\n",
    "    ret_df['lemmatized'] = ret_df['clean'].apply(lemmatize)\n",
    "    return ret_df"
   ]
  },
  {
   "cell_type": "code",
   "execution_count": 36,
   "metadata": {},
   "outputs": [],
   "source": [
    "ret_df = p.process_nl(df.data)"
   ]
  },
  {
   "cell_type": "code",
   "execution_count": 37,
   "metadata": {},
   "outputs": [
    {
     "data": {
      "text/html": [
       "<div>\n",
       "<style scoped>\n",
       "    .dataframe tbody tr th:only-of-type {\n",
       "        vertical-align: middle;\n",
       "    }\n",
       "\n",
       "    .dataframe tbody tr th {\n",
       "        vertical-align: top;\n",
       "    }\n",
       "\n",
       "    .dataframe thead th {\n",
       "        text-align: right;\n",
       "    }\n",
       "</style>\n",
       "<table border=\"1\" class=\"dataframe\">\n",
       "  <thead>\n",
       "    <tr style=\"text-align: right;\">\n",
       "      <th></th>\n",
       "      <th>clean</th>\n",
       "      <th>lemmatized</th>\n",
       "    </tr>\n",
       "  </thead>\n",
       "  <tbody>\n",
       "    <tr>\n",
       "      <th>0</th>\n",
       "      <td>stones throw yonghe temple serene restaurant r...</td>\n",
       "      <td>stone throw yonghe temple serene restaurant re...</td>\n",
       "    </tr>\n",
       "    <tr>\n",
       "      <th>1</th>\n",
       "      <td>branch chain restaurant opened 2019 features e...</td>\n",
       "      <td>branch chain restaurant opened 2019 feature el...</td>\n",
       "    </tr>\n",
       "    <tr>\n",
       "      <th>2</th>\n",
       "      <td>fixture citys dining scene since 2016 brainchi...</td>\n",
       "      <td>fixture city dining scene since 2016 brainchil...</td>\n",
       "    </tr>\n",
       "    <tr>\n",
       "      <th>3</th>\n",
       "      <td>multisensory experience secret location combin...</td>\n",
       "      <td>multisensory experience secret location combin...</td>\n",
       "    </tr>\n",
       "    <tr>\n",
       "      <th>4</th>\n",
       "      <td>air refinement infuses dining room thanks mura...</td>\n",
       "      <td>air refinement infuses dining room thanks mura...</td>\n",
       "    </tr>\n",
       "  </tbody>\n",
       "</table>\n",
       "</div>"
      ],
      "text/plain": [
       "                                               clean  \\\n",
       "0  stones throw yonghe temple serene restaurant r...   \n",
       "1  branch chain restaurant opened 2019 features e...   \n",
       "2  fixture citys dining scene since 2016 brainchi...   \n",
       "3  multisensory experience secret location combin...   \n",
       "4  air refinement infuses dining room thanks mura...   \n",
       "\n",
       "                                          lemmatized  \n",
       "0  stone throw yonghe temple serene restaurant re...  \n",
       "1  branch chain restaurant opened 2019 feature el...  \n",
       "2  fixture city dining scene since 2016 brainchil...  \n",
       "3  multisensory experience secret location combin...  \n",
       "4  air refinement infuses dining room thanks mura...  "
      ]
     },
     "execution_count": 37,
     "metadata": {},
     "output_type": "execute_result"
    }
   ],
   "source": [
    "ret_df.head()"
   ]
  },
  {
   "cell_type": "code",
   "execution_count": 38,
   "metadata": {},
   "outputs": [],
   "source": [
    "df = pd.concat([df, ret_df], axis=1)"
   ]
  },
  {
   "cell_type": "code",
   "execution_count": 39,
   "metadata": {},
   "outputs": [
    {
     "data": {
      "text/html": [
       "<div>\n",
       "<style scoped>\n",
       "    .dataframe tbody tr th:only-of-type {\n",
       "        vertical-align: middle;\n",
       "    }\n",
       "\n",
       "    .dataframe tbody tr th {\n",
       "        vertical-align: top;\n",
       "    }\n",
       "\n",
       "    .dataframe thead th {\n",
       "        text-align: right;\n",
       "    }\n",
       "</style>\n",
       "<table border=\"1\" class=\"dataframe\">\n",
       "  <thead>\n",
       "    <tr style=\"text-align: right;\">\n",
       "      <th></th>\n",
       "      <th>name</th>\n",
       "      <th>address</th>\n",
       "      <th>location</th>\n",
       "      <th>price</th>\n",
       "      <th>cuisine</th>\n",
       "      <th>longitude</th>\n",
       "      <th>latitude</th>\n",
       "      <th>url</th>\n",
       "      <th>award</th>\n",
       "      <th>facilities_and_services</th>\n",
       "      <th>data</th>\n",
       "      <th>price_level</th>\n",
       "      <th>city</th>\n",
       "      <th>country</th>\n",
       "      <th>clean</th>\n",
       "      <th>lemmatized</th>\n",
       "    </tr>\n",
       "  </thead>\n",
       "  <tbody>\n",
       "    <tr>\n",
       "      <th>0</th>\n",
       "      <td>king's joy</td>\n",
       "      <td>2 wudaoying hutong, beijing, china mainland</td>\n",
       "      <td>beijing, china mainland</td>\n",
       "      <td>¥¥¥</td>\n",
       "      <td>vegetarian</td>\n",
       "      <td>116.410004</td>\n",
       "      <td>39.946681</td>\n",
       "      <td>https://guide.michelin.com/en/beijing-municipa...</td>\n",
       "      <td>3 michelin stars</td>\n",
       "      <td>air conditioning,american express credit card,...</td>\n",
       "      <td>just a stone’s throw from yonghe temple, this ...</td>\n",
       "      <td>3</td>\n",
       "      <td>beijing</td>\n",
       "      <td>china mainland</td>\n",
       "      <td>stones throw yonghe temple serene restaurant r...</td>\n",
       "      <td>stone throw yonghe temple serene restaurant re...</td>\n",
       "    </tr>\n",
       "    <tr>\n",
       "      <th>1</th>\n",
       "      <td>xin rong ji (xinyuan south road)</td>\n",
       "      <td>1f, east tower, genesis beijing, 8 xinyuan sou...</td>\n",
       "      <td>beijing, china mainland</td>\n",
       "      <td>¥¥¥¥</td>\n",
       "      <td>taizhou</td>\n",
       "      <td>116.450148</td>\n",
       "      <td>39.946380</td>\n",
       "      <td>https://guide.michelin.com/en/beijing-municipa...</td>\n",
       "      <td>3 michelin stars</td>\n",
       "      <td>air conditioning,car park,china unionpay,count...</td>\n",
       "      <td>this branch of the chain restaurant opened in ...</td>\n",
       "      <td>4</td>\n",
       "      <td>beijing</td>\n",
       "      <td>china mainland</td>\n",
       "      <td>branch chain restaurant opened 2019 features e...</td>\n",
       "      <td>branch chain restaurant opened 2019 feature el...</td>\n",
       "    </tr>\n",
       "    <tr>\n",
       "      <th>2</th>\n",
       "      <td>taian table</td>\n",
       "      <td>101-102, building no. 1, garden office, no.161...</td>\n",
       "      <td>shanghai, china mainland</td>\n",
       "      <td>¥¥¥¥</td>\n",
       "      <td>innovative</td>\n",
       "      <td>121.474049</td>\n",
       "      <td>31.221807</td>\n",
       "      <td>https://guide.michelin.com/en/shanghai-municip...</td>\n",
       "      <td>3 michelin stars</td>\n",
       "      <td>air conditioning,american express credit card,...</td>\n",
       "      <td>a fixture on the city’s dining scene since 201...</td>\n",
       "      <td>4</td>\n",
       "      <td>shanghai</td>\n",
       "      <td>china mainland</td>\n",
       "      <td>fixture citys dining scene since 2016 brainchi...</td>\n",
       "      <td>fixture city dining scene since 2016 brainchil...</td>\n",
       "    </tr>\n",
       "    <tr>\n",
       "      <th>3</th>\n",
       "      <td>ultraviolet by paul pairet</td>\n",
       "      <td>'somewhere in shanghai' - meet at mr &amp; mrs bun...</td>\n",
       "      <td>shanghai, china mainland</td>\n",
       "      <td>¥¥¥¥</td>\n",
       "      <td>innovative</td>\n",
       "      <td>121.485090</td>\n",
       "      <td>31.240358</td>\n",
       "      <td>https://guide.michelin.com/en/shanghai-municip...</td>\n",
       "      <td>3 michelin stars</td>\n",
       "      <td>air conditioning,american express credit card,...</td>\n",
       "      <td>this multi-sensory experience at a secret loca...</td>\n",
       "      <td>4</td>\n",
       "      <td>shanghai</td>\n",
       "      <td>china mainland</td>\n",
       "      <td>multisensory experience secret location combin...</td>\n",
       "      <td>multisensory experience secret location combin...</td>\n",
       "    </tr>\n",
       "    <tr>\n",
       "      <th>4</th>\n",
       "      <td>quince</td>\n",
       "      <td>470 pacific ave., san francisco, 94133, usa</td>\n",
       "      <td>san francisco, usa</td>\n",
       "      <td>$$$$</td>\n",
       "      <td>contemporary, californian</td>\n",
       "      <td>-122.403261</td>\n",
       "      <td>37.797505</td>\n",
       "      <td>https://guide.michelin.com/en/california/san-f...</td>\n",
       "      <td>3 michelin stars</td>\n",
       "      <td>air conditioning,american express credit card,...</td>\n",
       "      <td>an air of refinement infuses this dining room,...</td>\n",
       "      <td>4</td>\n",
       "      <td>san francisco</td>\n",
       "      <td>usa</td>\n",
       "      <td>air refinement infuses dining room thanks mura...</td>\n",
       "      <td>air refinement infuses dining room thanks mura...</td>\n",
       "    </tr>\n",
       "  </tbody>\n",
       "</table>\n",
       "</div>"
      ],
      "text/plain": [
       "                               name  \\\n",
       "0                        king's joy   \n",
       "1  xin rong ji (xinyuan south road)   \n",
       "2                       taian table   \n",
       "3        ultraviolet by paul pairet   \n",
       "4                            quince   \n",
       "\n",
       "                                             address  \\\n",
       "0        2 wudaoying hutong, beijing, china mainland   \n",
       "1  1f, east tower, genesis beijing, 8 xinyuan sou...   \n",
       "2  101-102, building no. 1, garden office, no.161...   \n",
       "3  'somewhere in shanghai' - meet at mr & mrs bun...   \n",
       "4        470 pacific ave., san francisco, 94133, usa   \n",
       "\n",
       "                   location price                    cuisine   longitude  \\\n",
       "0   beijing, china mainland   ¥¥¥                 vegetarian  116.410004   \n",
       "1   beijing, china mainland  ¥¥¥¥                    taizhou  116.450148   \n",
       "2  shanghai, china mainland  ¥¥¥¥                 innovative  121.474049   \n",
       "3  shanghai, china mainland  ¥¥¥¥                 innovative  121.485090   \n",
       "4        san francisco, usa  $$$$  contemporary, californian -122.403261   \n",
       "\n",
       "    latitude                                                url  \\\n",
       "0  39.946681  https://guide.michelin.com/en/beijing-municipa...   \n",
       "1  39.946380  https://guide.michelin.com/en/beijing-municipa...   \n",
       "2  31.221807  https://guide.michelin.com/en/shanghai-municip...   \n",
       "3  31.240358  https://guide.michelin.com/en/shanghai-municip...   \n",
       "4  37.797505  https://guide.michelin.com/en/california/san-f...   \n",
       "\n",
       "              award                            facilities_and_services  \\\n",
       "0  3 michelin stars  air conditioning,american express credit card,...   \n",
       "1  3 michelin stars  air conditioning,car park,china unionpay,count...   \n",
       "2  3 michelin stars  air conditioning,american express credit card,...   \n",
       "3  3 michelin stars  air conditioning,american express credit card,...   \n",
       "4  3 michelin stars  air conditioning,american express credit card,...   \n",
       "\n",
       "                                                data  price_level  \\\n",
       "0  just a stone’s throw from yonghe temple, this ...            3   \n",
       "1  this branch of the chain restaurant opened in ...            4   \n",
       "2  a fixture on the city’s dining scene since 201...            4   \n",
       "3  this multi-sensory experience at a secret loca...            4   \n",
       "4  an air of refinement infuses this dining room,...            4   \n",
       "\n",
       "            city          country  \\\n",
       "0        beijing   china mainland   \n",
       "1        beijing   china mainland   \n",
       "2       shanghai   china mainland   \n",
       "3       shanghai   china mainland   \n",
       "4  san francisco              usa   \n",
       "\n",
       "                                               clean  \\\n",
       "0  stones throw yonghe temple serene restaurant r...   \n",
       "1  branch chain restaurant opened 2019 features e...   \n",
       "2  fixture citys dining scene since 2016 brainchi...   \n",
       "3  multisensory experience secret location combin...   \n",
       "4  air refinement infuses dining room thanks mura...   \n",
       "\n",
       "                                          lemmatized  \n",
       "0  stone throw yonghe temple serene restaurant re...  \n",
       "1  branch chain restaurant opened 2019 feature el...  \n",
       "2  fixture city dining scene since 2016 brainchil...  \n",
       "3  multisensory experience secret location combin...  \n",
       "4  air refinement infuses dining room thanks mura...  "
      ]
     },
     "execution_count": 39,
     "metadata": {},
     "output_type": "execute_result"
    }
   ],
   "source": [
    "df.head()"
   ]
  },
  {
   "cell_type": "code",
   "execution_count": 40,
   "metadata": {},
   "outputs": [
    {
     "data": {
      "text/plain": [
       "dtype('O')"
      ]
     },
     "execution_count": 40,
     "metadata": {},
     "output_type": "execute_result"
    }
   ],
   "source": [
    "df.award.dtype"
   ]
  },
  {
   "cell_type": "code",
   "execution_count": 41,
   "metadata": {},
   "outputs": [],
   "source": [
    "#TODO Create clean dtypes function"
   ]
  },
  {
   "cell_type": "code",
   "execution_count": 43,
   "metadata": {},
   "outputs": [
    {
     "data": {
      "text/plain": [
       "2    2443\n",
       "4    1826\n",
       "3    1508\n",
       "1    1003\n",
       "Name: price_level, dtype: int64"
      ]
     },
     "execution_count": 43,
     "metadata": {},
     "output_type": "execute_result"
    }
   ],
   "source": [
    "#impute nan with mode\n",
    "df.price_level.value_counts()"
   ]
  },
  {
   "cell_type": "code",
   "execution_count": 44,
   "metadata": {},
   "outputs": [
    {
     "name": "stdout",
     "output_type": "stream",
     "text": [
      "<class 'pandas.core.frame.DataFrame'>\n",
      "RangeIndex: 6780 entries, 0 to 6779\n",
      "Data columns (total 16 columns):\n",
      " #   Column                   Non-Null Count  Dtype  \n",
      "---  ------                   --------------  -----  \n",
      " 0   name                     6780 non-null   object \n",
      " 1   address                  6780 non-null   object \n",
      " 2   location                 6780 non-null   object \n",
      " 3   price                    6780 non-null   object \n",
      " 4   cuisine                  6780 non-null   object \n",
      " 5   longitude                6780 non-null   float64\n",
      " 6   latitude                 6780 non-null   float64\n",
      " 7   url                      6780 non-null   object \n",
      " 8   award                    6780 non-null   object \n",
      " 9   facilities_and_services  6732 non-null   object \n",
      " 10  data                     6780 non-null   object \n",
      " 11  price_level              6780 non-null   int64  \n",
      " 12  city                     6780 non-null   object \n",
      " 13  country                  6466 non-null   object \n",
      " 14  clean                    6780 non-null   object \n",
      " 15  lemmatized               6780 non-null   object \n",
      "dtypes: float64(2), int64(1), object(13)\n",
      "memory usage: 847.6+ KB\n"
     ]
    }
   ],
   "source": [
    "df.price_level."
   ]
  },
  {
   "cell_type": "code",
   "execution_count": null,
   "metadata": {},
   "outputs": [],
   "source": [
    "#drop other two columns"
   ]
  }
 ],
 "metadata": {
  "kernelspec": {
   "display_name": "base",
   "language": "python",
   "name": "python3"
  },
  "language_info": {
   "codemirror_mode": {
    "name": "ipython",
    "version": 3
   },
   "file_extension": ".py",
   "mimetype": "text/x-python",
   "name": "python",
   "nbconvert_exporter": "python",
   "pygments_lexer": "ipython3",
   "version": "3.9.15"
  },
  "orig_nbformat": 4,
  "vscode": {
   "interpreter": {
    "hash": "38cca0c38332a56087b24af0bc80247f4fced29cb4f7f437d91dc159adec9c4e"
   }
  }
 },
 "nbformat": 4,
 "nbformat_minor": 2
}
