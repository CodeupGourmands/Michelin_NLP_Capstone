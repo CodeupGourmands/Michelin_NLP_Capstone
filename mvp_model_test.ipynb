{
 "cells": [
  {
   "cell_type": "code",
   "execution_count": 1,
   "metadata": {},
   "outputs": [],
   "source": [
    "import numpy as np\n",
    "import pandas as pd\n",
    "import seaborn as sns\n",
    "import matplotlib.pyplot as plt\n",
    "from importlib import reload\n",
    "import warnings\n",
    "import acquire as a\n",
    "import prepare as p\n",
    "import model as m\n",
    "warnings.simplefilter(\"ignore\")\n",
    "%matplotlib inline\n",
    "%config InlineBackend.figure_format = 'retina'"
   ]
  },
  {
   "cell_type": "code",
   "execution_count": 2,
   "metadata": {},
   "outputs": [],
   "source": [
    "train, validate, test = p.prepare_michelin(a.get_michelin_pages())"
   ]
  },
  {
   "cell_type": "code",
   "execution_count": 3,
   "metadata": {},
   "outputs": [
    {
     "name": "stdout",
     "output_type": "stream",
     "text": [
      "Running DecisionTreeClassifier On Train\n",
      "Running DecisionTreeClassifier On Validate\n",
      "Running RandomForestClassifier On Train\n",
      "Running RandomForestClassifier On Validate\n",
      "Running LogisticRegression On Train\n",
      "Running LogisticRegression On Validate\n",
      "Running GradientBoostingClassifier On Train\n"
     ]
    }
   ],
   "source": [
    "\n",
    "m.run_train_and_validate(train, validate)"
   ]
  }
 ],
 "metadata": {
  "kernelspec": {
   "display_name": "base",
   "language": "python",
   "name": "python3"
  },
  "language_info": {
   "codemirror_mode": {
    "name": "ipython",
    "version": 3
   },
   "file_extension": ".py",
   "mimetype": "text/x-python",
   "name": "python",
   "nbconvert_exporter": "python",
   "pygments_lexer": "ipython3",
   "version": "3.9.12"
  },
  "orig_nbformat": 4,
  "vscode": {
   "interpreter": {
    "hash": "38cca0c38332a56087b24af0bc80247f4fced29cb4f7f437d91dc159adec9c4e"
   }
  }
 },
 "nbformat": 4,
 "nbformat_minor": 2
}
