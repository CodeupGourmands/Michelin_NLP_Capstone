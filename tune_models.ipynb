{
 "cells": [
  {
   "cell_type": "code",
   "execution_count": 1,
   "metadata": {},
   "outputs": [
    {
     "name": "stderr",
     "output_type": "stream",
     "text": [
      "Intel(R) Extension for Scikit-learn* enabled (https://github.com/intel/scikit-learn-intelex)\n"
     ]
    }
   ],
   "source": [
    "import numpy as np\n",
    "import pandas as pd\n",
    "import seaborn as sns\n",
    "from sklearnex import patch_sklearn\n",
    "patch_sklearn()\n",
    "from sklearn.preprocessing import MinMaxScaler\n",
    "from importlib import reload\n",
    "from sklearn.feature_extraction.text import TfidfVectorizer\n",
    "from sklearn.linear_model import LogisticRegression\n",
    "from sklearn.tree import DecisionTreeClassifier\n",
    "from sklearn.ensemble import RandomForestClassifier, GradientBoostingClassifier\n",
    "import acquire as a\n",
    "import prepare as p\n",
    "from nltk.sentiment import SentimentIntensityAnalyzer\n",
    "import model as m\n",
    "import nltk"
   ]
  },
  {
   "cell_type": "code",
   "execution_count": 2,
   "metadata": {},
   "outputs": [],
   "source": [
    "train, validate, test = p.prepare_michelin(a.get_michelin_pages())"
   ]
  },
  {
   "cell_type": "code",
   "execution_count": 3,
   "metadata": {},
   "outputs": [],
   "source": [
    "\n",
    "dt_params = {\n",
    "    'max_depth':[2,3,4,5]\n",
    "}\n",
    "rf_params = {\n",
    "    'n_estimators':[50,100,150],\n",
    "    'max_depth':[3,4,5],\n",
    "    'min_samples_leaf':[3,4],\n",
    "    'random_state':[27]\n",
    "}\n",
    "xg_params = {\n",
    "    'n_estimators':[50,100,150],\n",
    "    'max_depth':[3,4,5],\n",
    "    'min_samples_leaf':[3,4],\n",
    "    'random_state': [27]\n",
    "}\n",
    "lr_params = {\n",
    "    'solver':['liblinear'],\n",
    "    'penalty':['l1','l2'],\n",
    "    'C':[1.0,0.5,.05,.1],\n",
    "    'random_state':[27]\n",
    "}\n"
   ]
  },
  {
   "cell_type": "code",
   "execution_count": 4,
   "metadata": {},
   "outputs": [],
   "source": [
    "train_validate = pd.concat([train, validate]).sort_index()\n",
    "tfidf = TfidfVectorizer()\n",
    "scaler = MinMaxScaler()\n",
    "trainx, trainy = m.get_features_and_target(train_validate,scaler, tfidf)"
   ]
  },
  {
   "cell_type": "code",
   "execution_count": 5,
   "metadata": {},
   "outputs": [
    {
     "name": "stdout",
     "output_type": "stream",
     "text": [
      "Fitting 5 folds for each of 18 candidates, totalling 90 fits\n"
     ]
    }
   ],
   "source": [
    "model = GradientBoostingClassifier()\n",
    "m.tune_model(model,trainx,trainy,xg_params)"
   ]
  },
  {
   "cell_type": "code",
   "execution_count": null,
   "metadata": {},
   "outputs": [
    {
     "name": "stdout",
     "output_type": "stream",
     "text": [
      "Fitting 5 folds for each of 4 candidates, totalling 20 fits\n",
      "[CV] END ........................................max_depth=2; total time= 5.1min\n",
      "[CV] END ........................................max_depth=2; total time= 5.1min\n",
      "[CV] END ........................................max_depth=2; total time= 5.1min\n",
      "[CV] END ........................................max_depth=2; total time= 5.1min\n",
      "[CV] END ........................................max_depth=2; total time= 5.1min\n",
      "[CV] END ........................................max_depth=3; total time= 5.4min\n",
      "[CV] END ........................................max_depth=3; total time= 5.4min\n",
      "[CV] END ........................................max_depth=3; total time= 5.4min\n",
      "[CV] END ........................................max_depth=3; total time= 5.4min\n",
      "[CV] END ........................................max_depth=3; total time= 5.4min\n",
      "[CV] END ........................................max_depth=4; total time= 6.4min\n",
      "[CV] END ........................................max_depth=4; total time= 6.5min\n",
      "[CV] END ........................................max_depth=4; total time= 6.5min\n",
      "[CV] END ........................................max_depth=4; total time= 6.5min\n",
      "[CV] END ........................................max_depth=4; total time= 6.5min\n",
      "[CV] END ........................................max_depth=5; total time= 7.2min\n",
      "[CV] END ........................................max_depth=5; total time= 7.1min\n",
      "[CV] END ........................................max_depth=5; total time= 7.1min\n",
      "[CV] END ........................................max_depth=5; total time= 7.1min\n",
      "[CV] END ........................................max_depth=5; total time= 7.1min\n"
     ]
    },
    {
     "data": {
      "text/plain": [
       "{'max_depth': 2}"
      ]
     },
     "execution_count": 7,
     "metadata": {},
     "output_type": "execute_result"
    }
   ],
   "source": [
    "model = DecisionTreeClassifier()\n",
    "m.tune_model(model,trainx,trainy, validate,dt_params)"
   ]
  },
  {
   "cell_type": "code",
   "execution_count": null,
   "metadata": {},
   "outputs": [],
   "source": [
    "model = RandomForestClassifier()\n",
    "m.tune_model(model,trainx,trainy,rf_params)"
   ]
  },
  {
   "cell_type": "code",
   "execution_count": null,
   "metadata": {},
   "outputs": [],
   "source": [
    "model = LogisticRegression()\n",
    "m.tune_model(model,trainx,trainy,lr_params)"
   ]
  }
 ],
 "metadata": {
  "kernelspec": {
   "display_name": "base",
   "language": "python",
   "name": "python3"
  },
  "language_info": {
   "codemirror_mode": {
    "name": "ipython",
    "version": 3
   },
   "file_extension": ".py",
   "mimetype": "text/x-python",
   "name": "python",
   "nbconvert_exporter": "python",
   "pygments_lexer": "ipython3",
   "version": "3.9.13"
  },
  "orig_nbformat": 4,
  "vscode": {
   "interpreter": {
    "hash": "3067ead486e059ec00ffe7555bdb889e6e264a24dc711bf108106cc7baee8d5d"
   }
  }
 },
 "nbformat": 4,
 "nbformat_minor": 2
}
