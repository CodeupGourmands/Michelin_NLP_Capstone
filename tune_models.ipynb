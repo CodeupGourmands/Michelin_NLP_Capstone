{
 "cells": [
  {
   "cell_type": "code",
   "execution_count": 1,
   "metadata": {},
   "outputs": [],
   "source": [
    "import numpy as np\n",
    "import pandas as pd\n",
    "import seaborn as sns\n",
    "\n",
    "from sklearn.preprocessing import MinMaxScaler\n",
    "from importlib import reload\n",
    "from sklearn.feature_extraction.text import TfidfVectorizer\n",
    "from sklearn.linear_model import LogisticRegression\n",
    "from sklearn.tree import DecisionTreeClassifier\n",
    "from sklearn.ensemble import RandomForestClassifier, GradientBoostingClassifier\n",
    "import acquire as a\n",
    "import prepare as p\n",
    "from sklearn.cluster import KMeans,DBSCAN\n",
    "from nltk.sentiment import SentimentIntensityAnalyzer\n",
    "import model as m\n",
    "import nltk"
   ]
  },
  {
   "cell_type": "code",
   "execution_count": 2,
   "metadata": {},
   "outputs": [],
   "source": [
    "train, validate, test = p.prepare_michelin(a.get_michelin_pages())"
   ]
  },
  {
   "cell_type": "code",
   "execution_count": 3,
   "metadata": {},
   "outputs": [],
   "source": [
    "\n",
    "dt_params = {\n",
    "    'max_depth':[2,3,4,5]\n",
    "}\n",
    "rf_params = {\n",
    "    'n_estimators':[50,100,150],\n",
    "    'max_depth':[3,4,5],\n",
    "    'min_samples_leaf':[3,4],\n",
    "    'random_state':[27]\n",
    "}\n",
    "xg_params = {\n",
    "    'n_estimators':[50,100,150],\n",
    "    'max_depth':[3,4,5],\n",
    "    'min_samples_leaf':[3,4],\n",
    "    'random_state': [27]\n",
    "}\n",
    "lr_params = {\n",
    "    'solver':['liblinear'],\n",
    "    'penalty':['l1','l2'],\n",
    "    'C':[1.0,0.5,.05,.1],\n",
    "    'random_state':[27]\n",
    "}\n"
   ]
  },
  {
   "cell_type": "code",
   "execution_count": 4,
   "metadata": {},
   "outputs": [],
   "source": [
    "train_validate = pd.concat([train, validate]).sort_index()\n",
    "tfidf = TfidfVectorizer()\n",
    "scaler = MinMaxScaler()\n",
    "cluster = KMeans(3)\n",
    "trainx, trainy = m.get_features_and_target(train_validate,scaler,tfidf,cluster)"
   ]
  },
  {
   "cell_type": "code",
   "execution_count": 5,
   "metadata": {},
   "outputs": [
    {
     "name": "stdout",
     "output_type": "stream",
     "text": [
      "Fitting 5 folds for each of 18 candidates, totalling 90 fits\n",
      "[CV] END max_depth=3, min_samples_leaf=3, n_estimators=50, random_state=27; total time= 4.2min\n",
      "[CV] END max_depth=3, min_samples_leaf=3, n_estimators=50, random_state=27; total time= 4.3min\n",
      "[CV] END max_depth=3, min_samples_leaf=3, n_estimators=50, random_state=27; total time= 4.4min\n",
      "[CV] END max_depth=3, min_samples_leaf=3, n_estimators=50, random_state=27; total time= 4.4min\n",
      "[CV] END max_depth=3, min_samples_leaf=3, n_estimators=50, random_state=27; total time= 4.4min\n",
      "[CV] END max_depth=3, min_samples_leaf=3, n_estimators=100, random_state=27; total time= 8.2min\n",
      "[CV] END max_depth=3, min_samples_leaf=3, n_estimators=100, random_state=27; total time= 8.4min\n",
      "[CV] END max_depth=3, min_samples_leaf=3, n_estimators=100, random_state=27; total time= 8.4min\n",
      "[CV] END max_depth=3, min_samples_leaf=3, n_estimators=100, random_state=27; total time= 8.5min\n",
      "[CV] END max_depth=3, min_samples_leaf=3, n_estimators=100, random_state=27; total time= 8.6min\n",
      "[CV] END max_depth=3, min_samples_leaf=3, n_estimators=150, random_state=27; total time=13.4min\n",
      "[CV] END max_depth=3, min_samples_leaf=3, n_estimators=150, random_state=27; total time=13.7min\n",
      "[CV] END max_depth=3, min_samples_leaf=3, n_estimators=150, random_state=27; total time=13.9min\n",
      "[CV] END max_depth=3, min_samples_leaf=3, n_estimators=150, random_state=27; total time=14.0min\n",
      "[CV] END max_depth=3, min_samples_leaf=3, n_estimators=150, random_state=27; total time=14.0min\n",
      "[CV] END max_depth=3, min_samples_leaf=4, n_estimators=50, random_state=27; total time= 4.6min\n",
      "[CV] END max_depth=3, min_samples_leaf=4, n_estimators=50, random_state=27; total time= 4.8min\n",
      "[CV] END max_depth=3, min_samples_leaf=4, n_estimators=50, random_state=27; total time= 4.7min\n",
      "[CV] END max_depth=3, min_samples_leaf=4, n_estimators=50, random_state=27; total time= 4.8min\n",
      "[CV] END max_depth=3, min_samples_leaf=4, n_estimators=50, random_state=27; total time= 4.7min\n",
      "[CV] END max_depth=3, min_samples_leaf=4, n_estimators=100, random_state=27; total time= 9.1min\n",
      "[CV] END max_depth=3, min_samples_leaf=4, n_estimators=100, random_state=27; total time= 9.1min\n",
      "[CV] END max_depth=3, min_samples_leaf=4, n_estimators=100, random_state=27; total time= 9.3min\n",
      "[CV] END max_depth=3, min_samples_leaf=4, n_estimators=100, random_state=27; total time= 9.3min\n",
      "[CV] END max_depth=3, min_samples_leaf=4, n_estimators=100, random_state=27; total time= 9.3min\n",
      "[CV] END max_depth=3, min_samples_leaf=4, n_estimators=150, random_state=27; total time=12.0min\n",
      "[CV] END max_depth=3, min_samples_leaf=4, n_estimators=150, random_state=27; total time=12.1min\n",
      "[CV] END max_depth=3, min_samples_leaf=4, n_estimators=150, random_state=27; total time=12.4min\n",
      "[CV] END max_depth=3, min_samples_leaf=4, n_estimators=150, random_state=27; total time=12.5min\n",
      "[CV] END max_depth=3, min_samples_leaf=4, n_estimators=150, random_state=27; total time=12.5min\n",
      "[CV] END max_depth=4, min_samples_leaf=3, n_estimators=50, random_state=27; total time= 6.9min\n",
      "[CV] END max_depth=4, min_samples_leaf=3, n_estimators=50, random_state=27; total time= 8.5min\n",
      "[CV] END max_depth=4, min_samples_leaf=3, n_estimators=50, random_state=27; total time= 8.4min\n",
      "[CV] END max_depth=4, min_samples_leaf=3, n_estimators=50, random_state=27; total time= 8.5min\n",
      "[CV] END max_depth=4, min_samples_leaf=3, n_estimators=50, random_state=27; total time= 9.1min\n",
      "[CV] END max_depth=4, min_samples_leaf=3, n_estimators=100, random_state=27; total time=20.2min\n",
      "[CV] END max_depth=4, min_samples_leaf=3, n_estimators=100, random_state=27; total time=20.8min\n",
      "[CV] END max_depth=4, min_samples_leaf=3, n_estimators=100, random_state=27; total time=21.3min\n",
      "[CV] END max_depth=4, min_samples_leaf=3, n_estimators=100, random_state=27; total time=21.2min\n",
      "[CV] END max_depth=4, min_samples_leaf=3, n_estimators=100, random_state=27; total time=21.4min\n",
      "[CV] END max_depth=4, min_samples_leaf=3, n_estimators=150, random_state=27; total time=76.7min\n",
      "[CV] END max_depth=4, min_samples_leaf=3, n_estimators=150, random_state=27; total time=74.8min\n",
      "[CV] END max_depth=4, min_samples_leaf=3, n_estimators=150, random_state=27; total time=75.3min\n",
      "[CV] END max_depth=4, min_samples_leaf=3, n_estimators=150, random_state=27; total time=75.1min\n",
      "[CV] END max_depth=4, min_samples_leaf=3, n_estimators=150, random_state=27; total time=74.5min\n",
      "[CV] END max_depth=4, min_samples_leaf=4, n_estimators=50, random_state=27; total time= 4.7min\n",
      "[CV] END max_depth=4, min_samples_leaf=4, n_estimators=50, random_state=27; total time= 5.2min\n",
      "[CV] END max_depth=4, min_samples_leaf=4, n_estimators=50, random_state=27; total time= 5.1min\n",
      "[CV] END max_depth=4, min_samples_leaf=4, n_estimators=50, random_state=27; total time= 5.2min\n",
      "[CV] END max_depth=4, min_samples_leaf=4, n_estimators=50, random_state=27; total time= 5.3min\n",
      "[CV] END max_depth=4, min_samples_leaf=4, n_estimators=100, random_state=27; total time=10.5min\n",
      "[CV] END max_depth=4, min_samples_leaf=4, n_estimators=100, random_state=27; total time=10.7min\n",
      "[CV] END max_depth=4, min_samples_leaf=4, n_estimators=100, random_state=27; total time=11.0min\n",
      "[CV] END max_depth=4, min_samples_leaf=4, n_estimators=100, random_state=27; total time=10.9min\n",
      "[CV] END max_depth=4, min_samples_leaf=4, n_estimators=100, random_state=27; total time=10.9min\n",
      "[CV] END max_depth=4, min_samples_leaf=4, n_estimators=150, random_state=27; total time=14.9min\n",
      "[CV] END max_depth=4, min_samples_leaf=4, n_estimators=150, random_state=27; total time=14.8min\n",
      "[CV] END max_depth=4, min_samples_leaf=4, n_estimators=150, random_state=27; total time=15.1min\n",
      "[CV] END max_depth=4, min_samples_leaf=4, n_estimators=150, random_state=27; total time=15.2min\n",
      "[CV] END max_depth=4, min_samples_leaf=4, n_estimators=150, random_state=27; total time=15.1min\n",
      "[CV] END max_depth=5, min_samples_leaf=3, n_estimators=50, random_state=27; total time= 5.6min\n",
      "[CV] END max_depth=5, min_samples_leaf=3, n_estimators=50, random_state=27; total time= 6.0min\n",
      "[CV] END max_depth=5, min_samples_leaf=3, n_estimators=50, random_state=27; total time= 5.8min\n",
      "[CV] END max_depth=5, min_samples_leaf=3, n_estimators=50, random_state=27; total time= 5.9min\n",
      "[CV] END max_depth=5, min_samples_leaf=3, n_estimators=50, random_state=27; total time= 6.0min\n",
      "[CV] END max_depth=5, min_samples_leaf=3, n_estimators=100, random_state=27; total time=11.6min\n",
      "[CV] END max_depth=5, min_samples_leaf=3, n_estimators=100, random_state=27; total time=11.9min\n",
      "[CV] END max_depth=5, min_samples_leaf=3, n_estimators=100, random_state=27; total time=12.3min\n",
      "[CV] END max_depth=5, min_samples_leaf=3, n_estimators=100, random_state=27; total time=12.1min\n",
      "[CV] END max_depth=5, min_samples_leaf=3, n_estimators=100, random_state=27; total time=12.8min\n",
      "[CV] END max_depth=5, min_samples_leaf=3, n_estimators=150, random_state=27; total time=19.2min\n",
      "[CV] END max_depth=5, min_samples_leaf=3, n_estimators=150, random_state=27; total time=19.6min\n",
      "[CV] END max_depth=5, min_samples_leaf=3, n_estimators=150, random_state=27; total time=20.0min\n",
      "[CV] END max_depth=5, min_samples_leaf=3, n_estimators=150, random_state=27; total time=20.2min\n",
      "[CV] END max_depth=5, min_samples_leaf=4, n_estimators=50, random_state=27; total time= 6.1min\n",
      "[CV] END max_depth=5, min_samples_leaf=3, n_estimators=150, random_state=27; total time=20.3min\n",
      "[CV] END max_depth=5, min_samples_leaf=4, n_estimators=50, random_state=27; total time=10.4min\n",
      "[CV] END max_depth=5, min_samples_leaf=4, n_estimators=50, random_state=27; total time=10.4min\n",
      "[CV] END max_depth=5, min_samples_leaf=4, n_estimators=50, random_state=27; total time=10.6min\n",
      "[CV] END max_depth=5, min_samples_leaf=4, n_estimators=50, random_state=27; total time=11.4min\n",
      "[CV] END max_depth=5, min_samples_leaf=4, n_estimators=100, random_state=27; total time=22.9min\n",
      "[CV] END max_depth=5, min_samples_leaf=4, n_estimators=100, random_state=27; total time=23.4min\n",
      "[CV] END max_depth=5, min_samples_leaf=4, n_estimators=100, random_state=27; total time=24.0min\n",
      "[CV] END max_depth=5, min_samples_leaf=4, n_estimators=100, random_state=27; total time=23.8min\n",
      "[CV] END max_depth=5, min_samples_leaf=4, n_estimators=100, random_state=27; total time=24.1min\n",
      "[CV] END max_depth=5, min_samples_leaf=4, n_estimators=150, random_state=27; total time=26.4min\n",
      "[CV] END max_depth=5, min_samples_leaf=4, n_estimators=150, random_state=27; total time=21.8min\n",
      "[CV] END max_depth=5, min_samples_leaf=4, n_estimators=150, random_state=27; total time=22.2min\n",
      "[CV] END max_depth=5, min_samples_leaf=4, n_estimators=150, random_state=27; total time=22.4min\n",
      "[CV] END max_depth=5, min_samples_leaf=4, n_estimators=150, random_state=27; total time=20.7min\n"
     ]
    },
    {
     "data": {
      "text/plain": [
       "{'max_depth': 3, 'min_samples_leaf': 4, 'n_estimators': 50, 'random_state': 27}"
      ]
     },
     "execution_count": 5,
     "metadata": {},
     "output_type": "execute_result"
    }
   ],
   "source": [
    "model = GradientBoostingClassifier()\n",
    "m.tune_model(model,trainx,trainy,xg_params)"
   ]
  },
  {
   "cell_type": "code",
   "execution_count": 6,
   "metadata": {},
   "outputs": [
    {
     "name": "stdout",
     "output_type": "stream",
     "text": [
      "Fitting 5 folds for each of 4 candidates, totalling 20 fits\n",
      "[CV] END ........................................max_depth=2; total time=   3.9s\n",
      "[CV] END ........................................max_depth=3; total time=  12.2s\n",
      "[CV] END ........................................max_depth=2; total time=  12.1s\n",
      "[CV] END ........................................max_depth=2; total time=  12.1s\n",
      "[CV] END ........................................max_depth=2; total time=  12.1s\n",
      "[CV] END ........................................max_depth=2; total time=  12.1s\n",
      "[CV] END ........................................max_depth=3; total time=   7.7s\n",
      "[CV] END ........................................max_depth=3; total time=   8.1s\n",
      "[CV] END ........................................max_depth=3; total time=   8.1s\n",
      "[CV] END ........................................max_depth=3; total time=   8.1s\n",
      "[CV] END ........................................max_depth=4; total time=   8.4s\n",
      "[CV] END ........................................max_depth=4; total time=   6.7s\n",
      "[CV] END ........................................max_depth=4; total time=  12.3s\n",
      "[CV] END ........................................max_depth=4; total time=  12.3s\n",
      "[CV] END ........................................max_depth=4; total time=  12.4s\n",
      "[CV] END ........................................max_depth=5; total time=  12.9s\n",
      "[CV] END ........................................max_depth=5; total time=  10.8s\n",
      "[CV] END ........................................max_depth=5; total time=  11.2s\n",
      "[CV] END ........................................max_depth=5; total time=  11.4s\n",
      "[CV] END ........................................max_depth=5; total time=  11.4s\n"
     ]
    },
    {
     "data": {
      "text/plain": [
       "{'max_depth': 2}"
      ]
     },
     "execution_count": 6,
     "metadata": {},
     "output_type": "execute_result"
    }
   ],
   "source": [
    "model = DecisionTreeClassifier()\n",
    "m.tune_model(model,trainx,trainy,dt_params)\n",
    "#already run. max_depth of 2 performs best"
   ]
  },
  {
   "cell_type": "code",
   "execution_count": 7,
   "metadata": {},
   "outputs": [
    {
     "name": "stdout",
     "output_type": "stream",
     "text": [
      "Fitting 5 folds for each of 18 candidates, totalling 90 fits\n",
      "[CV] END max_depth=3, min_samples_leaf=3, n_estimators=50, random_state=27; total time=  22.3s\n",
      "[CV] END max_depth=3, min_samples_leaf=3, n_estimators=50, random_state=27; total time=  22.3s\n",
      "[CV] END max_depth=3, min_samples_leaf=3, n_estimators=50, random_state=27; total time=  22.3s\n",
      "[CV] END max_depth=3, min_samples_leaf=3, n_estimators=50, random_state=27; total time=  22.3s\n",
      "[CV] END max_depth=3, min_samples_leaf=3, n_estimators=50, random_state=27; total time=  22.4s\n",
      "[CV] END max_depth=3, min_samples_leaf=3, n_estimators=100, random_state=27; total time=  13.8s\n",
      "[CV] END max_depth=3, min_samples_leaf=3, n_estimators=100, random_state=27; total time=  13.9s\n",
      "[CV] END max_depth=3, min_samples_leaf=3, n_estimators=100, random_state=27; total time=  14.0s\n",
      "[CV] END max_depth=3, min_samples_leaf=3, n_estimators=100, random_state=27; total time=  14.0s\n",
      "[CV] END max_depth=3, min_samples_leaf=3, n_estimators=100, random_state=27; total time=  14.0s\n",
      "[CV] END max_depth=3, min_samples_leaf=3, n_estimators=150, random_state=27; total time=  16.0s\n",
      "[CV] END max_depth=3, min_samples_leaf=3, n_estimators=150, random_state=27; total time=  16.1s\n",
      "[CV] END max_depth=3, min_samples_leaf=3, n_estimators=150, random_state=27; total time=  16.2s\n",
      "[CV] END max_depth=3, min_samples_leaf=3, n_estimators=150, random_state=27; total time=  16.2s\n",
      "[CV] END max_depth=3, min_samples_leaf=3, n_estimators=150, random_state=27; total time=  16.2s\n",
      "[CV] END max_depth=3, min_samples_leaf=4, n_estimators=50, random_state=27; total time=  15.2s\n",
      "[CV] END max_depth=3, min_samples_leaf=4, n_estimators=50, random_state=27; total time=  15.4s\n",
      "[CV] END max_depth=3, min_samples_leaf=4, n_estimators=50, random_state=27; total time=  15.4s\n",
      "[CV] END max_depth=3, min_samples_leaf=4, n_estimators=50, random_state=27; total time=  15.4s\n",
      "[CV] END max_depth=3, min_samples_leaf=4, n_estimators=50, random_state=27; total time=  15.5s\n",
      "[CV] END max_depth=3, min_samples_leaf=4, n_estimators=100, random_state=27; total time=  17.7s\n",
      "[CV] END max_depth=3, min_samples_leaf=4, n_estimators=100, random_state=27; total time=  17.8s\n",
      "[CV] END max_depth=3, min_samples_leaf=4, n_estimators=100, random_state=27; total time=  17.9s\n",
      "[CV] END max_depth=3, min_samples_leaf=4, n_estimators=100, random_state=27; total time=  17.8s\n",
      "[CV] END max_depth=3, min_samples_leaf=4, n_estimators=100, random_state=27; total time=  17.8s\n",
      "[CV] END max_depth=3, min_samples_leaf=4, n_estimators=150, random_state=27; total time=  17.9s\n",
      "[CV] END max_depth=3, min_samples_leaf=4, n_estimators=150, random_state=27; total time=  17.9s\n",
      "[CV] END max_depth=3, min_samples_leaf=4, n_estimators=150, random_state=27; total time=  18.0s\n",
      "[CV] END max_depth=3, min_samples_leaf=4, n_estimators=150, random_state=27; total time=  18.0s\n",
      "[CV] END max_depth=3, min_samples_leaf=4, n_estimators=150, random_state=27; total time=  18.0s\n",
      "[CV] END max_depth=4, min_samples_leaf=3, n_estimators=50, random_state=27; total time=  16.3s\n",
      "[CV] END max_depth=4, min_samples_leaf=3, n_estimators=50, random_state=27; total time=  16.5s\n",
      "[CV] END max_depth=4, min_samples_leaf=3, n_estimators=50, random_state=27; total time=  16.5s\n",
      "[CV] END max_depth=4, min_samples_leaf=3, n_estimators=50, random_state=27; total time=  16.5s\n",
      "[CV] END max_depth=4, min_samples_leaf=3, n_estimators=50, random_state=27; total time=  16.5s\n",
      "[CV] END max_depth=4, min_samples_leaf=3, n_estimators=100, random_state=27; total time=  17.4s\n",
      "[CV] END max_depth=4, min_samples_leaf=3, n_estimators=100, random_state=27; total time=  17.6s\n",
      "[CV] END max_depth=4, min_samples_leaf=3, n_estimators=100, random_state=27; total time=  17.7s\n",
      "[CV] END max_depth=4, min_samples_leaf=3, n_estimators=100, random_state=27; total time=  17.6s\n",
      "[CV] END max_depth=4, min_samples_leaf=3, n_estimators=100, random_state=27; total time=  17.6s\n",
      "[CV] END max_depth=4, min_samples_leaf=3, n_estimators=150, random_state=27; total time=  16.9s\n",
      "[CV] END max_depth=4, min_samples_leaf=3, n_estimators=150, random_state=27; total time=  17.0s\n",
      "[CV] END max_depth=4, min_samples_leaf=3, n_estimators=150, random_state=27; total time=  17.0s\n",
      "[CV] END max_depth=4, min_samples_leaf=3, n_estimators=150, random_state=27; total time=  17.0s\n",
      "[CV] END max_depth=4, min_samples_leaf=3, n_estimators=150, random_state=27; total time=  17.0s\n",
      "[CV] END max_depth=4, min_samples_leaf=4, n_estimators=50, random_state=27; total time=  15.6s\n",
      "[CV] END max_depth=4, min_samples_leaf=4, n_estimators=50, random_state=27; total time=  16.0s\n",
      "[CV] END max_depth=4, min_samples_leaf=4, n_estimators=50, random_state=27; total time=  16.1s\n",
      "[CV] END max_depth=4, min_samples_leaf=4, n_estimators=50, random_state=27; total time=  16.0s\n",
      "[CV] END max_depth=4, min_samples_leaf=4, n_estimators=50, random_state=27; total time=  16.0s\n",
      "[CV] END max_depth=4, min_samples_leaf=4, n_estimators=100, random_state=27; total time=  15.6s\n",
      "[CV] END max_depth=4, min_samples_leaf=4, n_estimators=100, random_state=27; total time=  16.8s\n",
      "[CV] END max_depth=4, min_samples_leaf=4, n_estimators=100, random_state=27; total time=  16.7s\n",
      "[CV] END max_depth=4, min_samples_leaf=4, n_estimators=100, random_state=27; total time=  16.8s\n",
      "[CV] END max_depth=4, min_samples_leaf=4, n_estimators=100, random_state=27; total time=  16.8s\n",
      "[CV] END max_depth=4, min_samples_leaf=4, n_estimators=150, random_state=27; total time=  10.6s\n",
      "[CV] END max_depth=4, min_samples_leaf=4, n_estimators=150, random_state=27; total time=  16.5s\n",
      "[CV] END max_depth=4, min_samples_leaf=4, n_estimators=150, random_state=27; total time=  16.5s\n",
      "[CV] END max_depth=4, min_samples_leaf=4, n_estimators=150, random_state=27; total time=  16.6s\n",
      "[CV] END max_depth=4, min_samples_leaf=4, n_estimators=150, random_state=27; total time=  16.6s\n",
      "[CV] END max_depth=5, min_samples_leaf=3, n_estimators=50, random_state=27; total time=   9.5s\n",
      "[CV] END max_depth=5, min_samples_leaf=3, n_estimators=50, random_state=27; total time=  14.7s\n",
      "[CV] END max_depth=5, min_samples_leaf=3, n_estimators=50, random_state=27; total time=  14.8s\n",
      "[CV] END max_depth=5, min_samples_leaf=3, n_estimators=50, random_state=27; total time=  14.9s\n",
      "[CV] END max_depth=5, min_samples_leaf=3, n_estimators=50, random_state=27; total time=  14.9s\n",
      "[CV] END max_depth=5, min_samples_leaf=3, n_estimators=100, random_state=27; total time=  15.4s\n",
      "[CV] END max_depth=5, min_samples_leaf=3, n_estimators=100, random_state=27; total time=  16.5s\n",
      "[CV] END max_depth=5, min_samples_leaf=3, n_estimators=100, random_state=27; total time=  16.5s\n",
      "[CV] END max_depth=5, min_samples_leaf=3, n_estimators=100, random_state=27; total time=  16.6s\n",
      "[CV] END max_depth=5, min_samples_leaf=3, n_estimators=100, random_state=27; total time=  16.6s\n",
      "[CV] END max_depth=5, min_samples_leaf=3, n_estimators=150, random_state=27; total time=  17.3s\n",
      "[CV] END max_depth=5, min_samples_leaf=4, n_estimators=50, random_state=27; total time=  13.8s\n",
      "[CV] END max_depth=5, min_samples_leaf=3, n_estimators=150, random_state=27; total time=  17.0s\n",
      "[CV] END max_depth=5, min_samples_leaf=3, n_estimators=150, random_state=27; total time=  17.2s\n",
      "[CV] END max_depth=5, min_samples_leaf=3, n_estimators=150, random_state=27; total time=  17.2s\n",
      "[CV] END max_depth=5, min_samples_leaf=3, n_estimators=150, random_state=27; total time=  17.3s\n",
      "[CV] END max_depth=5, min_samples_leaf=4, n_estimators=50, random_state=27; total time=  14.1s\n",
      "[CV] END max_depth=5, min_samples_leaf=4, n_estimators=50, random_state=27; total time=  15.9s\n",
      "[CV] END max_depth=5, min_samples_leaf=4, n_estimators=50, random_state=27; total time=  15.8s\n",
      "[CV] END max_depth=5, min_samples_leaf=4, n_estimators=50, random_state=27; total time=  15.7s\n",
      "[CV] END max_depth=5, min_samples_leaf=4, n_estimators=100, random_state=27; total time=  16.9s\n",
      "[CV] END max_depth=5, min_samples_leaf=4, n_estimators=100, random_state=27; total time=  10.0s\n",
      "[CV] END max_depth=5, min_samples_leaf=4, n_estimators=100, random_state=27; total time=  15.5s\n",
      "[CV] END max_depth=5, min_samples_leaf=4, n_estimators=100, random_state=27; total time=  15.5s\n",
      "[CV] END max_depth=5, min_samples_leaf=4, n_estimators=100, random_state=27; total time=  15.6s\n",
      "[CV] END max_depth=5, min_samples_leaf=4, n_estimators=150, random_state=27; total time=  16.4s\n",
      "[CV] END max_depth=5, min_samples_leaf=4, n_estimators=150, random_state=27; total time=  12.1s\n",
      "[CV] END max_depth=5, min_samples_leaf=4, n_estimators=150, random_state=27; total time=  10.5s\n",
      "[CV] END max_depth=5, min_samples_leaf=4, n_estimators=150, random_state=27; total time=  10.5s\n",
      "[CV] END max_depth=5, min_samples_leaf=4, n_estimators=150, random_state=27; total time=  10.6s\n"
     ]
    },
    {
     "data": {
      "text/plain": [
       "{'max_depth': 5, 'min_samples_leaf': 3, 'n_estimators': 50, 'random_state': 27}"
      ]
     },
     "execution_count": 7,
     "metadata": {},
     "output_type": "execute_result"
    }
   ],
   "source": [
    "model = RandomForestClassifier()\n",
    "m.tune_model(model,trainx,trainy,rf_params)"
   ]
  },
  {
   "cell_type": "code",
   "execution_count": 8,
   "metadata": {},
   "outputs": [
    {
     "name": "stdout",
     "output_type": "stream",
     "text": [
      "Fitting 5 folds for each of 8 candidates, totalling 40 fits\n",
      "[CV] END C=1.0, penalty=l1, random_state=27, solver=liblinear; total time=  28.8s\n",
      "[CV] END C=1.0, penalty=l1, random_state=27, solver=liblinear; total time=  29.7s\n",
      "[CV] END C=1.0, penalty=l1, random_state=27, solver=liblinear; total time=  29.8s\n",
      "[CV] END C=1.0, penalty=l1, random_state=27, solver=liblinear; total time=  29.9s\n",
      "[CV] END C=1.0, penalty=l1, random_state=27, solver=liblinear; total time=  29.9s\n",
      "[CV] END C=1.0, penalty=l2, random_state=27, solver=liblinear; total time=  24.7s\n",
      "[CV] END C=1.0, penalty=l2, random_state=27, solver=liblinear; total time=  23.7s\n",
      "[CV] END C=1.0, penalty=l2, random_state=27, solver=liblinear; total time=  24.7s\n",
      "[CV] END C=1.0, penalty=l2, random_state=27, solver=liblinear; total time=  24.8s\n",
      "[CV] END C=1.0, penalty=l2, random_state=27, solver=liblinear; total time=  24.8s\n",
      "[CV] END C=0.5, penalty=l1, random_state=27, solver=liblinear; total time=  23.2s\n",
      "[CV] END C=0.5, penalty=l1, random_state=27, solver=liblinear; total time=  24.8s\n",
      "[CV] END C=0.5, penalty=l1, random_state=27, solver=liblinear; total time=  24.8s\n",
      "[CV] END C=0.5, penalty=l1, random_state=27, solver=liblinear; total time=  24.4s\n",
      "[CV] END C=0.5, penalty=l1, random_state=27, solver=liblinear; total time=  24.4s\n",
      "[CV] END C=0.5, penalty=l2, random_state=27, solver=liblinear; total time=  24.9s\n",
      "[CV] END C=0.5, penalty=l2, random_state=27, solver=liblinear; total time=  24.5s\n",
      "[CV] END C=0.5, penalty=l2, random_state=27, solver=liblinear; total time=  25.5s\n",
      "[CV] END C=0.5, penalty=l2, random_state=27, solver=liblinear; total time=  25.6s\n",
      "[CV] END C=0.5, penalty=l2, random_state=27, solver=liblinear; total time=  25.5s\n",
      "[CV] END C=0.05, penalty=l1, random_state=27, solver=liblinear; total time=  23.6s\n",
      "[CV] END C=0.05, penalty=l1, random_state=27, solver=liblinear; total time=  23.1s\n",
      "[CV] END C=0.05, penalty=l1, random_state=27, solver=liblinear; total time=  24.7s\n",
      "[CV] END C=0.05, penalty=l1, random_state=27, solver=liblinear; total time=  24.4s\n",
      "[CV] END C=0.05, penalty=l1, random_state=27, solver=liblinear; total time=  24.5s\n",
      "[CV] END C=0.05, penalty=l2, random_state=27, solver=liblinear; total time=  23.2s\n",
      "[CV] END C=0.05, penalty=l2, random_state=27, solver=liblinear; total time=  24.6s\n",
      "[CV] END C=0.05, penalty=l2, random_state=27, solver=liblinear; total time=  24.7s\n",
      "[CV] END C=0.05, penalty=l2, random_state=27, solver=liblinear; total time=  26.0s\n",
      "[CV] END C=0.05, penalty=l2, random_state=27, solver=liblinear; total time=  26.3s\n",
      "[CV] END C=0.1, penalty=l1, random_state=27, solver=liblinear; total time=  24.7s\n",
      "[CV] END C=0.1, penalty=l1, random_state=27, solver=liblinear; total time=  26.9s\n",
      "[CV] END C=0.1, penalty=l1, random_state=27, solver=liblinear; total time=  26.6s\n",
      "[CV] END C=0.1, penalty=l1, random_state=27, solver=liblinear; total time=  25.7s\n",
      "[CV] END C=0.1, penalty=l1, random_state=27, solver=liblinear; total time=  26.4s\n",
      "[CV] END C=0.1, penalty=l2, random_state=27, solver=liblinear; total time=  13.5s\n",
      "[CV] END C=0.1, penalty=l2, random_state=27, solver=liblinear; total time=  20.2s\n",
      "[CV] END C=0.1, penalty=l2, random_state=27, solver=liblinear; total time=  20.4s\n",
      "[CV] END C=0.1, penalty=l2, random_state=27, solver=liblinear; total time=  20.2s\n",
      "[CV] END C=0.1, penalty=l2, random_state=27, solver=liblinear; total time=  19.6s\n"
     ]
    },
    {
     "data": {
      "text/plain": [
       "{'C': 0.05, 'penalty': 'l1', 'random_state': 27, 'solver': 'liblinear'}"
      ]
     },
     "execution_count": 8,
     "metadata": {},
     "output_type": "execute_result"
    }
   ],
   "source": [
    "model = LogisticRegression()\n",
    "m.tune_model(model,trainx,trainy,lr_params)"
   ]
  }
 ],
 "metadata": {
  "kernelspec": {
   "display_name": "base",
   "language": "python",
   "name": "python3"
  },
  "language_info": {
   "codemirror_mode": {
    "name": "ipython",
    "version": 3
   },
   "file_extension": ".py",
   "mimetype": "text/x-python",
   "name": "python",
   "nbconvert_exporter": "python",
   "pygments_lexer": "ipython3",
   "version": "3.9.13"
  },
  "orig_nbformat": 4,
  "vscode": {
   "interpreter": {
    "hash": "3067ead486e059ec00ffe7555bdb889e6e264a24dc711bf108106cc7baee8d5d"
   }
  }
 },
 "nbformat": 4,
 "nbformat_minor": 2
}
