{
 "cells": [
  {
   "cell_type": "code",
   "execution_count": 1,
   "metadata": {},
   "outputs": [
    {
     "name": "stderr",
     "output_type": "stream",
     "text": [
      "Intel(R) Extension for Scikit-learn* enabled (https://github.com/intel/scikit-learn-intelex)\n"
     ]
    }
   ],
   "source": [
    "import numpy as np\n",
    "import pandas as pd\n",
    "import seaborn as sns\n",
    "from sklearnex import patch_sklearn\n",
    "patch_sklearn()\n",
    "from sklearn.preprocessing import MinMaxScaler\n",
    "from importlib import reload\n",
    "from sklearn.feature_extraction.text import TfidfVectorizer\n",
    "from sklearn.linear_model import LogisticRegression\n",
    "from sklearn.tree import DecisionTreeClassifier\n",
    "from sklearn.ensemble import RandomForestClassifier, GradientBoostingClassifier\n",
    "import acquire as a\n",
    "import prepare as p\n",
    "from nltk.sentiment import SentimentIntensityAnalyzer\n",
    "import model as m\n",
    "import nltk"
   ]
  },
  {
   "cell_type": "code",
   "execution_count": 2,
   "metadata": {},
   "outputs": [],
   "source": [
    "train, validate, test = p.prepare_michelin(a.get_michelin_pages())"
   ]
  },
  {
   "cell_type": "code",
   "execution_count": 3,
   "metadata": {},
   "outputs": [],
   "source": [
    "\n",
    "dt_params = {\n",
    "    'max_depth':[2,3,4,5]\n",
    "}\n",
    "rf_params = {\n",
    "    'n_estimators':[50,100,150],\n",
    "    'max_depth':[3,4,5],\n",
    "    'min_samples_leaf':[3,4],\n",
    "    'random_state':[27]\n",
    "}\n",
    "xg_params = {\n",
    "    'n_estimators':[50,100,150],\n",
    "    'max_depth':[3,4,5],\n",
    "    'min_samples_leaf':[3,4],\n",
    "    'random_state': [27]\n",
    "}\n",
    "lr_params = {\n",
    "    'solver':['liblinear'],\n",
    "    'penalty':['l1','l2'],\n",
    "    'C':[1.0,0.5,.05,.1],\n",
    "    'random_state':[27]\n",
    "}\n"
   ]
  },
  {
   "cell_type": "code",
   "execution_count": 4,
   "metadata": {},
   "outputs": [],
   "source": [
    "train_validate = pd.concat([train, validate]).sort_index()\n",
    "tfidf = TfidfVectorizer()\n",
    "scaler = MinMaxScaler()\n",
    "trainx, trainy = m.get_features_and_target(train_validate,scaler, tfidf)"
   ]
  },
  {
   "cell_type": "code",
   "execution_count": 5,
   "metadata": {},
   "outputs": [
    {
     "name": "stdout",
     "output_type": "stream",
     "text": [
      "Fitting 5 folds for each of 18 candidates, totalling 90 fits\n",
      "[CV] END max_depth=3, min_samples_leaf=3, n_estimators=50, random_state=27; total time= 4.6min\n",
      "[CV] END max_depth=3, min_samples_leaf=3, n_estimators=50, random_state=27; total time= 4.7min\n",
      "[CV] END max_depth=3, min_samples_leaf=3, n_estimators=50, random_state=27; total time= 4.8min\n",
      "[CV] END max_depth=3, min_samples_leaf=3, n_estimators=50, random_state=27; total time= 4.8min\n",
      "[CV] END max_depth=3, min_samples_leaf=3, n_estimators=50, random_state=27; total time= 4.8min\n",
      "[CV] END max_depth=3, min_samples_leaf=3, n_estimators=100, random_state=27; total time=10.6min\n",
      "[CV] END max_depth=3, min_samples_leaf=3, n_estimators=100, random_state=27; total time=10.8min\n",
      "[CV] END max_depth=3, min_samples_leaf=3, n_estimators=100, random_state=27; total time=11.1min\n",
      "[CV] END max_depth=3, min_samples_leaf=3, n_estimators=100, random_state=27; total time=11.0min\n",
      "[CV] END max_depth=3, min_samples_leaf=3, n_estimators=100, random_state=27; total time=11.1min\n",
      "[CV] END max_depth=3, min_samples_leaf=3, n_estimators=150, random_state=27; total time=16.6min\n",
      "[CV] END max_depth=3, min_samples_leaf=3, n_estimators=150, random_state=27; total time=16.9min\n",
      "[CV] END max_depth=3, min_samples_leaf=3, n_estimators=150, random_state=27; total time=17.3min\n",
      "[CV] END max_depth=3, min_samples_leaf=3, n_estimators=150, random_state=27; total time=17.2min\n",
      "[CV] END max_depth=3, min_samples_leaf=3, n_estimators=150, random_state=27; total time=17.3min\n",
      "[CV] END max_depth=3, min_samples_leaf=4, n_estimators=50, random_state=27; total time= 5.4min\n",
      "[CV] END max_depth=3, min_samples_leaf=4, n_estimators=50, random_state=27; total time= 5.7min\n",
      "[CV] END max_depth=3, min_samples_leaf=4, n_estimators=50, random_state=27; total time= 5.5min\n",
      "[CV] END max_depth=3, min_samples_leaf=4, n_estimators=50, random_state=27; total time= 5.6min\n",
      "[CV] END max_depth=3, min_samples_leaf=4, n_estimators=50, random_state=27; total time= 5.7min\n",
      "[CV] END max_depth=3, min_samples_leaf=4, n_estimators=100, random_state=27; total time=10.9min\n",
      "[CV] END max_depth=3, min_samples_leaf=4, n_estimators=100, random_state=27; total time=11.0min\n",
      "[CV] END max_depth=3, min_samples_leaf=4, n_estimators=100, random_state=27; total time=11.3min\n",
      "[CV] END max_depth=3, min_samples_leaf=4, n_estimators=100, random_state=27; total time=11.2min\n",
      "[CV] END max_depth=3, min_samples_leaf=4, n_estimators=100, random_state=27; total time=11.3min\n",
      "[CV] END max_depth=3, min_samples_leaf=4, n_estimators=150, random_state=27; total time=20.4min\n",
      "[CV] END max_depth=3, min_samples_leaf=4, n_estimators=150, random_state=27; total time=21.7min\n",
      "[CV] END max_depth=3, min_samples_leaf=4, n_estimators=150, random_state=27; total time=22.1min\n",
      "[CV] END max_depth=3, min_samples_leaf=4, n_estimators=150, random_state=27; total time=22.2min\n",
      "[CV] END max_depth=3, min_samples_leaf=4, n_estimators=150, random_state=27; total time=22.5min\n",
      "[CV] END max_depth=4, min_samples_leaf=3, n_estimators=50, random_state=27; total time=10.8min\n",
      "[CV] END max_depth=4, min_samples_leaf=3, n_estimators=50, random_state=27; total time=11.5min\n",
      "[CV] END max_depth=4, min_samples_leaf=3, n_estimators=50, random_state=27; total time=11.2min\n",
      "[CV] END max_depth=4, min_samples_leaf=3, n_estimators=50, random_state=27; total time=11.4min\n",
      "[CV] END max_depth=4, min_samples_leaf=3, n_estimators=50, random_state=27; total time=11.5min\n",
      "[CV] END max_depth=4, min_samples_leaf=3, n_estimators=100, random_state=27; total time=18.4min\n",
      "[CV] END max_depth=4, min_samples_leaf=3, n_estimators=100, random_state=27; total time=17.3min\n",
      "[CV] END max_depth=4, min_samples_leaf=3, n_estimators=100, random_state=27; total time=17.7min\n",
      "[CV] END max_depth=4, min_samples_leaf=3, n_estimators=100, random_state=27; total time=17.8min\n",
      "[CV] END max_depth=4, min_samples_leaf=3, n_estimators=100, random_state=27; total time=17.3min\n",
      "[CV] END max_depth=4, min_samples_leaf=3, n_estimators=150, random_state=27; total time=28.5min\n",
      "[CV] END max_depth=4, min_samples_leaf=3, n_estimators=150, random_state=27; total time=30.8min\n",
      "[CV] END max_depth=4, min_samples_leaf=3, n_estimators=150, random_state=27; total time=31.6min\n",
      "[CV] END max_depth=4, min_samples_leaf=3, n_estimators=150, random_state=27; total time=31.4min\n",
      "[CV] END max_depth=4, min_samples_leaf=3, n_estimators=150, random_state=27; total time=32.4min\n",
      "[CV] END max_depth=4, min_samples_leaf=4, n_estimators=50, random_state=27; total time=11.6min\n",
      "[CV] END max_depth=4, min_samples_leaf=4, n_estimators=50, random_state=27; total time=12.2min\n",
      "[CV] END max_depth=4, min_samples_leaf=4, n_estimators=50, random_state=27; total time=11.9min\n",
      "[CV] END max_depth=4, min_samples_leaf=4, n_estimators=50, random_state=27; total time=12.1min\n",
      "[CV] END max_depth=4, min_samples_leaf=4, n_estimators=50, random_state=27; total time=11.1min\n",
      "[CV] END max_depth=4, min_samples_leaf=4, n_estimators=100, random_state=27; total time=14.5min\n",
      "[CV] END max_depth=4, min_samples_leaf=4, n_estimators=100, random_state=27; total time=11.2min\n",
      "[CV] END max_depth=4, min_samples_leaf=4, n_estimators=100, random_state=27; total time=11.7min\n",
      "[CV] END max_depth=4, min_samples_leaf=4, n_estimators=100, random_state=27; total time=11.5min\n",
      "[CV] END max_depth=4, min_samples_leaf=4, n_estimators=100, random_state=27; total time=11.4min\n",
      "[CV] END max_depth=4, min_samples_leaf=4, n_estimators=150, random_state=27; total time=15.2min\n",
      "[CV] END max_depth=4, min_samples_leaf=4, n_estimators=150, random_state=27; total time=16.7min\n",
      "[CV] END max_depth=4, min_samples_leaf=4, n_estimators=150, random_state=27; total time=17.2min\n",
      "[CV] END max_depth=4, min_samples_leaf=4, n_estimators=150, random_state=27; total time=17.4min\n",
      "[CV] END max_depth=4, min_samples_leaf=4, n_estimators=150, random_state=27; total time=18.4min\n",
      "[CV] END max_depth=5, min_samples_leaf=3, n_estimators=50, random_state=27; total time= 9.8min\n",
      "[CV] END max_depth=5, min_samples_leaf=3, n_estimators=50, random_state=27; total time=12.0min\n",
      "[CV] END max_depth=5, min_samples_leaf=3, n_estimators=50, random_state=27; total time=11.7min\n",
      "[CV] END max_depth=5, min_samples_leaf=3, n_estimators=50, random_state=27; total time=11.9min\n",
      "[CV] END max_depth=5, min_samples_leaf=3, n_estimators=50, random_state=27; total time=11.9min\n",
      "[CV] END max_depth=5, min_samples_leaf=3, n_estimators=100, random_state=27; total time=23.6min\n",
      "[CV] END max_depth=5, min_samples_leaf=3, n_estimators=100, random_state=27; total time=24.4min\n",
      "[CV] END max_depth=5, min_samples_leaf=3, n_estimators=100, random_state=27; total time=25.1min\n",
      "[CV] END max_depth=5, min_samples_leaf=3, n_estimators=100, random_state=27; total time=24.9min\n",
      "[CV] END max_depth=5, min_samples_leaf=3, n_estimators=100, random_state=27; total time=24.5min\n",
      "[CV] END max_depth=5, min_samples_leaf=3, n_estimators=150, random_state=27; total time=30.1min\n",
      "[CV] END max_depth=5, min_samples_leaf=3, n_estimators=150, random_state=27; total time=26.3min\n",
      "[CV] END max_depth=5, min_samples_leaf=3, n_estimators=150, random_state=27; total time=27.0min\n",
      "[CV] END max_depth=5, min_samples_leaf=3, n_estimators=150, random_state=27; total time=26.7min\n",
      "[CV] END max_depth=5, min_samples_leaf=4, n_estimators=50, random_state=27; total time= 5.8min\n",
      "[CV] END max_depth=5, min_samples_leaf=3, n_estimators=150, random_state=27; total time=26.2min\n",
      "[CV] END max_depth=5, min_samples_leaf=4, n_estimators=50, random_state=27; total time= 8.8min\n",
      "[CV] END max_depth=5, min_samples_leaf=4, n_estimators=50, random_state=27; total time= 8.9min\n",
      "[CV] END max_depth=5, min_samples_leaf=4, n_estimators=50, random_state=27; total time= 9.1min\n",
      "[CV] END max_depth=5, min_samples_leaf=4, n_estimators=50, random_state=27; total time=10.2min\n",
      "[CV] END max_depth=5, min_samples_leaf=4, n_estimators=100, random_state=27; total time=22.2min\n",
      "[CV] END max_depth=5, min_samples_leaf=4, n_estimators=100, random_state=27; total time=23.6min\n",
      "[CV] END max_depth=5, min_samples_leaf=4, n_estimators=100, random_state=27; total time=24.3min\n",
      "[CV] END max_depth=5, min_samples_leaf=4, n_estimators=100, random_state=27; total time=24.1min\n",
      "[CV] END max_depth=5, min_samples_leaf=4, n_estimators=100, random_state=27; total time=24.3min\n",
      "[CV] END max_depth=5, min_samples_leaf=4, n_estimators=150, random_state=27; total time=104.5min\n",
      "[CV] END max_depth=5, min_samples_leaf=4, n_estimators=150, random_state=27; total time=132.8min\n",
      "[CV] END max_depth=5, min_samples_leaf=4, n_estimators=150, random_state=27; total time=133.2min\n",
      "[CV] END max_depth=5, min_samples_leaf=4, n_estimators=150, random_state=27; total time=133.4min\n",
      "[CV] END max_depth=5, min_samples_leaf=4, n_estimators=150, random_state=27; total time=131.7min\n"
     ]
    },
    {
     "data": {
      "text/plain": [
       "{'max_depth': 4, 'min_samples_leaf': 4, 'n_estimators': 50, 'random_state': 27}"
      ]
     },
     "execution_count": 5,
     "metadata": {},
     "output_type": "execute_result"
    }
   ],
   "source": [
    "model = GradientBoostingClassifier()\n",
    "m.tune_model(model,trainx,trainy,xg_params)"
   ]
  },
  {
   "cell_type": "code",
   "execution_count": 11,
   "metadata": {},
   "outputs": [
    {
     "name": "stdout",
     "output_type": "stream",
     "text": [
      "Fitting 5 folds for each of 4 candidates, totalling 20 fits\n",
      "[CV] END ........................................max_depth=2; total time=  19.3s\n",
      "[CV] END ........................................max_depth=2; total time=  19.4s\n",
      "[CV] END ........................................max_depth=3; total time=  16.1s\n",
      "[CV] END ........................................max_depth=3; total time=  16.1s\n",
      "[CV] END ........................................max_depth=2; total time=  37.6s\n",
      "[CV] END ........................................max_depth=2; total time=  37.6s\n",
      "[CV] END ........................................max_depth=2; total time=  37.5s\n",
      "[CV] END ........................................max_depth=3; total time=  15.4s\n",
      "[CV] END ........................................max_depth=3; total time=  15.6s\n",
      "[CV] END ........................................max_depth=4; total time=  15.8s\n",
      "[CV] END ........................................max_depth=4; total time=  16.0s\n",
      "[CV] END ........................................max_depth=3; total time=  31.6s\n",
      "[CV] END ........................................max_depth=4; total time=  32.3s\n",
      "[CV] END ........................................max_depth=4; total time=  32.6s\n",
      "[CV] END ........................................max_depth=4; total time=  15.8s\n",
      "[CV] END ........................................max_depth=5; total time=  16.4s\n",
      "[CV] END ........................................max_depth=5; total time=  26.9s\n",
      "[CV] END ........................................max_depth=5; total time=  26.2s\n",
      "[CV] END ........................................max_depth=5; total time=  26.3s\n",
      "[CV] END ........................................max_depth=5; total time=  13.6s\n"
     ]
    },
    {
     "data": {
      "text/plain": [
       "{'max_depth': 2}"
      ]
     },
     "execution_count": 11,
     "metadata": {},
     "output_type": "execute_result"
    }
   ],
   "source": [
    "model = DecisionTreeClassifier()\n",
    "m.tune_model(model,trainx,trainy,dt_params)\n",
    "#already run. max_depth of 2 performs best"
   ]
  },
  {
   "cell_type": "code",
   "execution_count": 9,
   "metadata": {},
   "outputs": [
    {
     "name": "stdout",
     "output_type": "stream",
     "text": [
      "Fitting 5 folds for each of 18 candidates, totalling 90 fits\n",
      "[CV] END max_depth=3, min_samples_leaf=3, n_estimators=50, random_state=27; total time= 1.7min\n",
      "[CV] END max_depth=3, min_samples_leaf=3, n_estimators=50, random_state=27; total time= 1.7min\n",
      "[CV] END max_depth=3, min_samples_leaf=3, n_estimators=50, random_state=27; total time= 1.7min\n",
      "[CV] END max_depth=3, min_samples_leaf=3, n_estimators=50, random_state=27; total time= 1.7min\n",
      "[CV] END max_depth=3, min_samples_leaf=3, n_estimators=50, random_state=27; total time= 1.7min\n",
      "[CV] END max_depth=3, min_samples_leaf=3, n_estimators=100, random_state=27; total time= 2.9min\n",
      "[CV] END max_depth=3, min_samples_leaf=3, n_estimators=100, random_state=27; total time= 2.9min\n",
      "[CV] END max_depth=3, min_samples_leaf=3, n_estimators=100, random_state=27; total time= 2.9min\n",
      "[CV] END max_depth=3, min_samples_leaf=3, n_estimators=100, random_state=27; total time= 2.9min\n",
      "[CV] END max_depth=3, min_samples_leaf=3, n_estimators=100, random_state=27; total time= 3.0min\n",
      "[CV] END max_depth=3, min_samples_leaf=3, n_estimators=150, random_state=27; total time= 4.1min\n",
      "[CV] END max_depth=3, min_samples_leaf=3, n_estimators=150, random_state=27; total time= 4.1min\n",
      "[CV] END max_depth=3, min_samples_leaf=3, n_estimators=150, random_state=27; total time= 4.1min\n",
      "[CV] END max_depth=3, min_samples_leaf=3, n_estimators=150, random_state=27; total time= 4.1min\n",
      "[CV] END max_depth=3, min_samples_leaf=3, n_estimators=150, random_state=27; total time= 4.2min\n",
      "[CV] END max_depth=3, min_samples_leaf=4, n_estimators=50, random_state=27; total time= 1.5min\n",
      "[CV] END max_depth=3, min_samples_leaf=4, n_estimators=50, random_state=27; total time= 1.6min\n",
      "[CV] END max_depth=3, min_samples_leaf=4, n_estimators=50, random_state=27; total time= 1.7min\n",
      "[CV] END max_depth=3, min_samples_leaf=4, n_estimators=50, random_state=27; total time= 1.7min\n",
      "[CV] END max_depth=3, min_samples_leaf=4, n_estimators=50, random_state=27; total time= 1.7min\n",
      "[CV] END max_depth=3, min_samples_leaf=4, n_estimators=100, random_state=27; total time= 2.6min\n",
      "[CV] END max_depth=3, min_samples_leaf=4, n_estimators=100, random_state=27; total time= 2.7min\n",
      "[CV] END max_depth=3, min_samples_leaf=4, n_estimators=100, random_state=27; total time= 2.7min\n",
      "[CV] END max_depth=3, min_samples_leaf=4, n_estimators=100, random_state=27; total time= 2.8min\n",
      "[CV] END max_depth=3, min_samples_leaf=4, n_estimators=100, random_state=27; total time= 2.8min\n",
      "[CV] END max_depth=3, min_samples_leaf=4, n_estimators=150, random_state=27; total time= 3.9min\n",
      "[CV] END max_depth=3, min_samples_leaf=4, n_estimators=150, random_state=27; total time= 4.0min\n",
      "[CV] END max_depth=3, min_samples_leaf=4, n_estimators=150, random_state=27; total time= 4.0min\n",
      "[CV] END max_depth=3, min_samples_leaf=4, n_estimators=150, random_state=27; total time= 4.1min\n",
      "[CV] END max_depth=3, min_samples_leaf=4, n_estimators=150, random_state=27; total time= 4.2min\n",
      "[CV] END max_depth=4, min_samples_leaf=3, n_estimators=50, random_state=27; total time= 2.6min\n",
      "[CV] END max_depth=4, min_samples_leaf=3, n_estimators=50, random_state=27; total time= 2.5min\n",
      "[CV] END max_depth=4, min_samples_leaf=3, n_estimators=50, random_state=27; total time= 2.5min\n",
      "[CV] END max_depth=4, min_samples_leaf=3, n_estimators=50, random_state=27; total time= 2.5min\n",
      "[CV] END max_depth=4, min_samples_leaf=3, n_estimators=50, random_state=27; total time= 2.5min\n",
      "[CV] END max_depth=4, min_samples_leaf=3, n_estimators=100, random_state=27; total time= 3.6min\n",
      "[CV] END max_depth=4, min_samples_leaf=3, n_estimators=100, random_state=27; total time= 3.6min\n",
      "[CV] END max_depth=4, min_samples_leaf=3, n_estimators=100, random_state=27; total time= 3.7min\n",
      "[CV] END max_depth=4, min_samples_leaf=3, n_estimators=100, random_state=27; total time= 3.7min\n",
      "[CV] END max_depth=4, min_samples_leaf=3, n_estimators=100, random_state=27; total time= 3.8min\n",
      "[CV] END max_depth=4, min_samples_leaf=3, n_estimators=150, random_state=27; total time= 5.6min\n",
      "[CV] END max_depth=4, min_samples_leaf=3, n_estimators=150, random_state=27; total time=36.0min\n",
      "[CV] END max_depth=4, min_samples_leaf=3, n_estimators=150, random_state=27; total time=53.1min\n",
      "[CV] END max_depth=4, min_samples_leaf=3, n_estimators=150, random_state=27; total time=70.6min\n",
      "[CV] END max_depth=4, min_samples_leaf=3, n_estimators=150, random_state=27; total time=70.8min\n",
      "[CV] END max_depth=4, min_samples_leaf=4, n_estimators=50, random_state=27; total time=101.1min\n",
      "[CV] END max_depth=4, min_samples_leaf=4, n_estimators=50, random_state=27; total time=71.0min\n",
      "[CV] END max_depth=4, min_samples_leaf=4, n_estimators=50, random_state=27; total time=64.3min\n",
      "[CV] END max_depth=4, min_samples_leaf=4, n_estimators=50, random_state=27; total time=80.5min\n",
      "[CV] END max_depth=4, min_samples_leaf=4, n_estimators=50, random_state=27; total time=80.6min\n",
      "[CV] END max_depth=4, min_samples_leaf=4, n_estimators=100, random_state=27; total time=104.0min\n",
      "[CV] END max_depth=4, min_samples_leaf=4, n_estimators=100, random_state=27; total time=103.8min\n",
      "[CV] END max_depth=4, min_samples_leaf=4, n_estimators=100, random_state=27; total time=111.4min\n",
      "[CV] END max_depth=4, min_samples_leaf=4, n_estimators=100, random_state=27; total time=110.0min\n",
      "[CV] END max_depth=4, min_samples_leaf=4, n_estimators=100, random_state=27; total time=109.8min\n",
      "[CV] END max_depth=4, min_samples_leaf=4, n_estimators=150, random_state=27; total time=112.3min\n",
      "[CV] END max_depth=4, min_samples_leaf=4, n_estimators=150, random_state=27; total time=112.2min\n",
      "[CV] END max_depth=4, min_samples_leaf=4, n_estimators=150, random_state=27; total time=95.1min\n",
      "[CV] END max_depth=4, min_samples_leaf=4, n_estimators=150, random_state=27; total time=64.3min\n",
      "[CV] END max_depth=4, min_samples_leaf=4, n_estimators=150, random_state=27; total time=64.6min\n",
      "[CV] END max_depth=5, min_samples_leaf=3, n_estimators=50, random_state=27; total time= 8.1min\n",
      "[CV] END max_depth=5, min_samples_leaf=3, n_estimators=50, random_state=27; total time= 8.3min\n",
      "[CV] END max_depth=5, min_samples_leaf=3, n_estimators=50, random_state=27; total time= 8.4min\n",
      "[CV] END max_depth=5, min_samples_leaf=3, n_estimators=50, random_state=27; total time= 8.3min\n",
      "[CV] END max_depth=5, min_samples_leaf=3, n_estimators=50, random_state=27; total time= 8.4min\n",
      "[CV] END max_depth=5, min_samples_leaf=3, n_estimators=100, random_state=27; total time=15.6min\n",
      "[CV] END max_depth=5, min_samples_leaf=3, n_estimators=100, random_state=27; total time=16.0min\n",
      "[CV] END max_depth=5, min_samples_leaf=3, n_estimators=100, random_state=27; total time=15.6min\n",
      "[CV] END max_depth=5, min_samples_leaf=3, n_estimators=100, random_state=27; total time=16.0min\n",
      "[CV] END max_depth=5, min_samples_leaf=3, n_estimators=100, random_state=27; total time=16.7min\n",
      "[CV] END max_depth=5, min_samples_leaf=3, n_estimators=150, random_state=27; total time=23.1min\n",
      "[CV] END max_depth=5, min_samples_leaf=3, n_estimators=150, random_state=27; total time=23.2min\n",
      "[CV] END max_depth=5, min_samples_leaf=3, n_estimators=150, random_state=27; total time=22.6min\n",
      "[CV] END max_depth=5, min_samples_leaf=3, n_estimators=150, random_state=27; total time=23.7min\n",
      "[CV] END max_depth=5, min_samples_leaf=3, n_estimators=150, random_state=27; total time=23.8min\n",
      "[CV] END max_depth=5, min_samples_leaf=4, n_estimators=50, random_state=27; total time= 8.1min\n",
      "[CV] END max_depth=5, min_samples_leaf=4, n_estimators=50, random_state=27; total time= 7.9min\n",
      "[CV] END max_depth=5, min_samples_leaf=4, n_estimators=50, random_state=27; total time= 8.3min\n",
      "[CV] END max_depth=5, min_samples_leaf=4, n_estimators=50, random_state=27; total time= 7.9min\n",
      "[CV] END max_depth=5, min_samples_leaf=4, n_estimators=50, random_state=27; total time= 8.1min\n",
      "[CV] END max_depth=5, min_samples_leaf=4, n_estimators=100, random_state=27; total time=15.1min\n",
      "[CV] END max_depth=5, min_samples_leaf=4, n_estimators=100, random_state=27; total time=15.1min\n",
      "[CV] END max_depth=5, min_samples_leaf=4, n_estimators=100, random_state=27; total time=15.2min\n",
      "[CV] END max_depth=5, min_samples_leaf=4, n_estimators=100, random_state=27; total time=15.5min\n",
      "[CV] END max_depth=5, min_samples_leaf=4, n_estimators=100, random_state=27; total time=15.3min\n",
      "[CV] END max_depth=5, min_samples_leaf=4, n_estimators=150, random_state=27; total time=22.4min\n",
      "[CV] END max_depth=5, min_samples_leaf=4, n_estimators=150, random_state=27; total time=22.2min\n",
      "[CV] END max_depth=5, min_samples_leaf=4, n_estimators=150, random_state=27; total time=22.3min\n",
      "[CV] END max_depth=5, min_samples_leaf=4, n_estimators=150, random_state=27; total time=20.2min\n",
      "[CV] END max_depth=5, min_samples_leaf=4, n_estimators=150, random_state=27; total time=20.0min\n"
     ]
    },
    {
     "data": {
      "text/plain": [
       "{'max_depth': 5, 'min_samples_leaf': 3, 'n_estimators': 50, 'random_state': 27}"
      ]
     },
     "execution_count": 9,
     "metadata": {},
     "output_type": "execute_result"
    }
   ],
   "source": [
    "model = RandomForestClassifier()\n",
    "m.tune_model(model,trainx,trainy,rf_params)"
   ]
  },
  {
   "cell_type": "code",
   "execution_count": 10,
   "metadata": {},
   "outputs": [
    {
     "name": "stdout",
     "output_type": "stream",
     "text": [
      "Fitting 5 folds for each of 8 candidates, totalling 40 fits\n"
     ]
    },
    {
     "name": "stderr",
     "output_type": "stream",
     "text": [
      "/usr/local/anaconda3/lib/python3.9/site-packages/joblib/externals/loky/process_executor.py:702: UserWarning: A worker stopped while some jobs were given to the executor. This can be caused by a too short worker timeout or by a memory leak.\n",
      "  warnings.warn(\n"
     ]
    },
    {
     "name": "stdout",
     "output_type": "stream",
     "text": [
      "[CV] END C=1.0, penalty=l1, random_state=27, solver=liblinear; total time=  30.2s\n",
      "[CV] END C=1.0, penalty=l1, random_state=27, solver=liblinear; total time=  30.4s\n",
      "[CV] END C=1.0, penalty=l2, random_state=27, solver=liblinear; total time=  26.9s\n",
      "[CV] END C=1.0, penalty=l2, random_state=27, solver=liblinear; total time=  27.0s\n",
      "[CV] END C=1.0, penalty=l2, random_state=27, solver=liblinear; total time=  24.8s\n",
      "[CV] END C=1.0, penalty=l2, random_state=27, solver=liblinear; total time=  24.8s\n",
      "[CV] END C=1.0, penalty=l1, random_state=27, solver=liblinear; total time=  56.4s\n",
      "[CV] END C=1.0, penalty=l1, random_state=27, solver=liblinear; total time=  57.8s\n",
      "[CV] END C=1.0, penalty=l1, random_state=27, solver=liblinear; total time=  58.0s\n",
      "[CV] END C=1.0, penalty=l2, random_state=27, solver=liblinear; total time=  23.2s\n",
      "[CV] END C=0.5, penalty=l1, random_state=27, solver=liblinear; total time=  24.0s\n",
      "[CV] END C=0.5, penalty=l2, random_state=27, solver=liblinear; total time=  23.6s\n",
      "[CV] END C=0.5, penalty=l1, random_state=27, solver=liblinear; total time=  25.0s\n",
      "[CV] END C=0.5, penalty=l1, random_state=27, solver=liblinear; total time=  49.2s\n",
      "[CV] END C=0.5, penalty=l1, random_state=27, solver=liblinear; total time=  48.3s\n",
      "[CV] END C=0.5, penalty=l1, random_state=27, solver=liblinear; total time=  48.0s\n",
      "[CV] END C=0.5, penalty=l2, random_state=27, solver=liblinear; total time=  24.0s\n",
      "[CV] END C=0.5, penalty=l2, random_state=27, solver=liblinear; total time=  23.6s\n",
      "[CV] END C=0.05, penalty=l1, random_state=27, solver=liblinear; total time=  26.5s\n",
      "[CV] END C=0.05, penalty=l1, random_state=27, solver=liblinear; total time=  26.6s\n",
      "[CV] END C=0.5, penalty=l2, random_state=27, solver=liblinear; total time=  48.0s\n",
      "[CV] END C=0.5, penalty=l2, random_state=27, solver=liblinear; total time=  49.3s\n",
      "[CV] END C=0.05, penalty=l1, random_state=27, solver=liblinear; total time=  49.7s\n",
      "[CV] END C=0.05, penalty=l1, random_state=27, solver=liblinear; total time=  26.6s\n",
      "[CV] END C=0.05, penalty=l1, random_state=27, solver=liblinear; total time=  27.1s\n",
      "[CV] END C=0.05, penalty=l2, random_state=27, solver=liblinear; total time=  25.3s\n",
      "[CV] END C=0.05, penalty=l2, random_state=27, solver=liblinear; total time=  25.4s\n",
      "[CV] END C=0.05, penalty=l2, random_state=27, solver=liblinear; total time=  52.5s\n",
      "[CV] END C=0.05, penalty=l2, random_state=27, solver=liblinear; total time=  51.5s\n",
      "[CV] END C=0.05, penalty=l2, random_state=27, solver=liblinear; total time=  51.2s\n",
      "[CV] END C=0.1, penalty=l1, random_state=27, solver=liblinear; total time=  24.8s\n",
      "[CV] END C=0.1, penalty=l1, random_state=27, solver=liblinear; total time=  24.6s\n",
      "[CV] END C=0.1, penalty=l2, random_state=27, solver=liblinear; total time=  24.0s\n",
      "[CV] END C=0.1, penalty=l2, random_state=27, solver=liblinear; total time=  24.1s\n",
      "[CV] END C=0.1, penalty=l1, random_state=27, solver=liblinear; total time=  49.3s\n",
      "[CV] END C=0.1, penalty=l1, random_state=27, solver=liblinear; total time=  49.9s\n",
      "[CV] END C=0.1, penalty=l1, random_state=27, solver=liblinear; total time=  50.1s\n",
      "[CV] END C=0.1, penalty=l2, random_state=27, solver=liblinear; total time=  22.7s\n",
      "[CV] END C=0.1, penalty=l2, random_state=27, solver=liblinear; total time=  22.8s\n",
      "[CV] END C=0.1, penalty=l2, random_state=27, solver=liblinear; total time=  27.0s\n"
     ]
    },
    {
     "data": {
      "text/plain": [
       "{'C': 0.05, 'penalty': 'l1', 'random_state': 27, 'solver': 'liblinear'}"
      ]
     },
     "execution_count": 10,
     "metadata": {},
     "output_type": "execute_result"
    }
   ],
   "source": [
    "model = LogisticRegression()\n",
    "m.tune_model(model,trainx,trainy,lr_params)"
   ]
  }
 ],
 "metadata": {
  "kernelspec": {
   "display_name": "base",
   "language": "python",
   "name": "python3"
  },
  "language_info": {
   "codemirror_mode": {
    "name": "ipython",
    "version": 3
   },
   "file_extension": ".py",
   "mimetype": "text/x-python",
   "name": "python",
   "nbconvert_exporter": "python",
   "pygments_lexer": "ipython3",
   "version": "3.9.13 (main, Aug 25 2022, 18:29:29) \n[Clang 12.0.0 ]"
  },
  "orig_nbformat": 4,
  "vscode": {
   "interpreter": {
    "hash": "3067ead486e059ec00ffe7555bdb889e6e264a24dc711bf108106cc7baee8d5d"
   }
  }
 },
 "nbformat": 4,
 "nbformat_minor": 2
}
