{
 "cells": [
  {
   "cell_type": "code",
   "execution_count": 1,
   "metadata": {},
   "outputs": [],
   "source": [
    "# ---------------- #\n",
    "# Common Libraries #\n",
    "# ---------------- #\n",
    "      \n",
    "# Standard Imports\n",
    "import os\n",
    "import re\n",
    "import nltk\n",
    "import requests\n",
    "import unicodedata\n",
    "import numpy as np\n",
    "import pandas as pd\n",
    "import seaborn as sns\n",
    "import matplotlib.pyplot as plt\n",
    "from nltk.corpus import stopwords\n",
    "\n",
    "## setting basic style parameters for matplotlib\n",
    "plt.rc('figure', figsize=(13, 7))\n",
    "plt.style.use('seaborn-darkgrid')\n",
    "\n",
    "# ------------- #\n",
    "# LOCAL IMPORTS #\n",
    "# ------------- #\n",
    "\n",
    "# importing sys\n",
    "import sys\n",
    "# adding 00_helper_files to the system path\n",
    "sys.path.insert(0, '/Users/qmcbt/codeup-data-science/00_helper_files')\n",
    "# env containing sensitive access credentials\n",
    "import env\n",
    "from env import user, password, host\n",
    "from env import get_db_url\n",
    "\n",
    "# Import Local Helper Modules\n",
    "import QMCBT_00_quicktips as qt\n",
    "import QMCBT_01_acquire as acq\n",
    "import QMCBT_02_prepare as prep\n",
    "import QMCBT_03_explore as exp\n",
    "import QMCBT_04_visualize as viz\n",
    "import QMCBT_05_model as mod\n",
    "import QMCBT_wrangle as w\n",
    "\n",
    "# Import py modules\n",
    "import prepare as p"
   ]
  },
  {
   "cell_type": "code",
   "execution_count": 2,
   "metadata": {},
   "outputs": [],
   "source": [
    "# Read-in data from compressed file\n",
    "df = pd.read_pickle('michelin_df.pickle')"
   ]
  },
  {
   "cell_type": "code",
   "execution_count": 3,
   "metadata": {},
   "outputs": [
    {
     "data": {
      "text/plain": [
       "name                                                              King's Joy\n",
       "address                          2 Wudaoying Hutong, Beijing, China Mainland\n",
       "location                                             Beijing, China Mainland\n",
       "price                                                                    ¥¥¥\n",
       "cuisine                                                           Vegetarian\n",
       "longitude                                                         116.410004\n",
       "latitude                                                           39.946681\n",
       "phone_number                                                  861084049191.0\n",
       "url                        https://guide.michelin.com/en/beijing-municipa...\n",
       "website_url                                                              NaN\n",
       "award                                                       3 MICHELIN Stars\n",
       "facilities_and_services    Air conditioning,American Express credit card,...\n",
       "data                       Just a stone’s throw from Yonghe Temple, this ...\n",
       "Name: 0, dtype: object"
      ]
     },
     "execution_count": 3,
     "metadata": {},
     "output_type": "execute_result"
    }
   ],
   "source": [
    "# Display DataFrame\n",
    "df.T.head(13)[0]"
   ]
  },
  {
   "cell_type": "code",
   "execution_count": 4,
   "metadata": {},
   "outputs": [],
   "source": [
    "df = p.create_features(df)"
   ]
  },
  {
   "cell_type": "code",
   "execution_count": 5,
   "metadata": {},
   "outputs": [
    {
     "data": {
      "text/plain": [
       "name                                                              king's joy\n",
       "address                          2 wudaoying hutong, beijing, china mainland\n",
       "location                                             beijing, china mainland\n",
       "price                                                                    ¥¥¥\n",
       "cuisine                                                           vegetarian\n",
       "longitude                                                         116.410004\n",
       "latitude                                                           39.946681\n",
       "url                        https://guide.michelin.com/en/beijing-municipa...\n",
       "award                                                       3 michelin stars\n",
       "facilities_and_services    air conditioning,american express credit card,...\n",
       "data                       just a stone’s throw from yonghe temple, this ...\n",
       "price_level                                                                3\n",
       "city                                                                 beijing\n",
       "country                                                       china mainland\n",
       "Name: 0, dtype: object"
      ]
     },
     "execution_count": 5,
     "metadata": {},
     "output_type": "execute_result"
    }
   ],
   "source": [
    "df.T.head(20)[0]"
   ]
  },
  {
   "cell_type": "code",
   "execution_count": null,
   "metadata": {},
   "outputs": [],
   "source": [
    "# Display DataFrame information\n",
    "df.info()"
   ]
  },
  {
   "cell_type": "code",
   "execution_count": null,
   "metadata": {},
   "outputs": [],
   "source": [
    "df = p.change_dtype_str(df)"
   ]
  },
  {
   "cell_type": "code",
   "execution_count": null,
   "metadata": {},
   "outputs": [],
   "source": [
    "df.T.head(16)[0]"
   ]
  },
  {
   "cell_type": "code",
   "execution_count": null,
   "metadata": {},
   "outputs": [],
   "source": [
    "# Display DataFrame information\n",
    "df.info()"
   ]
  },
  {
   "cell_type": "code",
   "execution_count": null,
   "metadata": {},
   "outputs": [],
   "source": [
    "df = p.create_features(df)"
   ]
  },
  {
   "cell_type": "code",
   "execution_count": null,
   "metadata": {},
   "outputs": [],
   "source": [
    "df.T.head()[0]"
   ]
  },
  {
   "attachments": {},
   "cell_type": "markdown",
   "metadata": {},
   "source": [
    "<div class=\"alert alert-info\">\n",
    "\n",
    "# Observations\n",
    "* Dropping all nulls would remove 1336 documents (~135 documents have >1 Null)  \n",
    "\n",
    "                          price:   54 Nulls\n",
    "                   phone_number:  131 Nulls\n",
    "                    website_url: 1238 Nulls\n",
    "        facilities_and_services:   48 Nulls\n",
    "\n",
    "* facilities_and_services nunique is 1571 \n",
    "\n",
    "        * there are only 120 documents that share values with 10 or more other documents\n",
    "        * there are 540 documents that share values with 2-9 other documents\n",
    "        * there are 910 documents that are entirely unique\n",
    "\n",
    "* There are only 16 locations that have more than 50 documents (awardees) and only half of those contain more than 100 documents  \n",
    "\n",
    "        * Tokyo, Japan                    422\n",
    "        * Kyoto, Japan                    196\n",
    "        * Osaka, Japan                    193\n",
    "        * New York, USA                   177\n",
    "        * Paris, France                   164\n",
    "        * Hong Kong                       135\n",
    "        * Singapore                       119\n",
    "        * London, United Kingdom          104\n",
    "        * Bangkok, Thailand               103\n",
    "\n",
    "* There are 863 unique cuisine values; 26 cuisine types that have more than 50 documents and only 9 that have more than 100 documents; 445 unique cuisine type combinations have only one document.  \n",
    "        \n",
    "        * Modern Cuisine              994\n",
    "        * Creative                    416\n",
    "        * Japanese                    287\n",
    "        * Traditional Cuisine         218\n",
    "        * French                      184\n",
    "        * Street Food                 157\n",
    "        * Italian                     130\n",
    "        * Contemporary                114\n",
    "        * Cantonese                   112\n",
    "\n",
    "* There are four different award types  \n",
    "\n",
    "        * Bib Gourmand        3411\n",
    "        * 1 MICHELIN Star     2744\n",
    "        * 2 MICHELIN Stars     483\n",
    "        * 3 MICHELIN Stars     142\n",
    "\n",
    "# Clean\n",
    "### DTYPE & IMPUTE\n",
    "* Cast facilities_and_services astype('string') and fillna('NONE')\n",
    "* Cast data astype('string')\n",
    "\n",
    "# Feature Engineer\n",
    "* NON-MVP Option - Create buckets and encode locations and cuisine\n",
    "* Encode award \n",
    "* Use facilities_and_services as a feature\n",
    "* IMPUTE prce with len and encode\n"
   ]
  },
  {
   "cell_type": "code",
   "execution_count": null,
   "metadata": {},
   "outputs": [],
   "source": [
    "#TODO Replace price with len count and IMPUTE NaN with MODE\n",
    "#TODO Separate City and Country for wordcloud clustering and exploration"
   ]
  },
  {
   "cell_type": "code",
   "execution_count": null,
   "metadata": {},
   "outputs": [],
   "source": [
    "# show DataFrame without Nulls\n",
    "df.shape, df.dropna().shape"
   ]
  },
  {
   "cell_type": "code",
   "execution_count": null,
   "metadata": {},
   "outputs": [],
   "source": [
    "# show records where facilities_and_services is null\n",
    "df[df.facilities_and_services.isnull()]"
   ]
  },
  {
   "cell_type": "code",
   "execution_count": null,
   "metadata": {},
   "outputs": [],
   "source": [
    "# Display count of unique entries\n",
    "df.facilities_and_services.nunique()"
   ]
  },
  {
   "cell_type": "code",
   "execution_count": null,
   "metadata": {},
   "outputs": [],
   "source": [
    "# Show aggregated value counts\n",
    "df.facilities_and_services.value_counts().head(662)"
   ]
  },
  {
   "cell_type": "code",
   "execution_count": null,
   "metadata": {},
   "outputs": [],
   "source": [
    "df.award.value_counts()"
   ]
  },
  {
   "cell_type": "code",
   "execution_count": null,
   "metadata": {},
   "outputs": [],
   "source": [
    "# Unique of locations\n",
    "df.location.nunique()"
   ]
  },
  {
   "cell_type": "code",
   "execution_count": null,
   "metadata": {},
   "outputs": [],
   "source": [
    "# location counts > 50\n",
    "df.location.value_counts().head(17)"
   ]
  },
  {
   "cell_type": "code",
   "execution_count": null,
   "metadata": {},
   "outputs": [],
   "source": [
    "df.cuisine.nunique()"
   ]
  },
  {
   "cell_type": "code",
   "execution_count": null,
   "metadata": {},
   "outputs": [],
   "source": [
    "# cuisine counts > 50\n",
    "df.cuisine.value_counts().tail(445)"
   ]
  },
  {
   "attachments": {},
   "cell_type": "markdown",
   "metadata": {},
   "source": [
    "# CLEAN"
   ]
  },
  {
   "cell_type": "code",
   "execution_count": null,
   "metadata": {},
   "outputs": [],
   "source": [
    "# basic cleaning function:\n",
    "# add_stopwords = ['r', 'u', '2', 'ltgt']\n",
    "\n",
    "def clean(text, stem_or_lem=None, add_stopwords=[]):\n",
    "    \"\"\"\n",
    "    Description:\n",
    "    Simplified text cleaning function\n",
    "    \n",
    "    Required Imports:\n",
    "    import re\n",
    "    import nltk\n",
    "    import unicodedata\n",
    "    import pandas as pd\n",
    "    from nltk.corpus import stopwords\n",
    "\n",
    "    Arguments:\n",
    "             text = The text you want to clean\n",
    "      stem_or_lem = Default is None; stem will perform stemming on your text; lem will lemmatize it.\n",
    "    add_stopwords = [] This is an empty list by default; just add words that you want to include as stopwords.\n",
    "    \n",
    "    Returns:\n",
    "    returns list of cleaned words.\n",
    "    \"\"\"\n",
    "    # 1. lowercase everything\n",
    "    text = text.lower()\n",
    "    # 2. Remove accented and ASCII characters\n",
    "    text = unicodedata.normalize('NFKD', text).encode('ascii', 'ignore').decode('utf-8', 'ignore')\n",
    "    # 3. Remove special characters\n",
    "    words = re.sub(r\"[^a-z0-9\\s]\", '', text).split()\n",
    "    # 4. Tokenize\n",
    "    tokenize = nltk.tokenize.ToktokTokenizer()\n",
    "    tokenize.tokenize(text, return_str=False)\n",
    "    # 5. Stemming or Lemmatizing\n",
    "    if stem_or_lem == \"stem\":\n",
    "        ps = nltk.porter.PorterStemmer()\n",
    "        text = [ps.stem(word) for word in text.split()]\n",
    "        ' '.join(text)\n",
    "        print('Stemming Performed')\n",
    "    elif stem_or_lem == \"lem\":\n",
    "        wnl = nltk.stem.WordNetLemmatizer()\n",
    "        text = [wnl.lemmatize(word) for word in text.split()]\n",
    "        ' '.join(text)\n",
    "        print('Lemmatizing Performed')\n",
    "    else:\n",
    "        print('No Stemming or Lemmatizing Performed')\n",
    "    # 6. Remove StopWords\n",
    "    stopwords = nltk.corpus.stopwords.words('english') + add_stopwords\n",
    "    \n",
    "    return [word for word in words if word not in stopwords]"
   ]
  },
  {
   "cell_type": "code",
   "execution_count": null,
   "metadata": {},
   "outputs": [],
   "source": [
    "df.info()"
   ]
  },
  {
   "cell_type": "code",
   "execution_count": null,
   "metadata": {},
   "outputs": [],
   "source": [
    "# Change DTYPE\n",
    "def change_dtype_str(df):\n",
    "    '''\n",
    "    ## Description:\n",
    "    This is a custom Function to change dtype to string as appropraiate for this project\n",
    "    ## Arguments:\n",
    "    df = DataFrame\n",
    "    ## Returns:\n",
    "    df - DataFrame\n",
    "    '''\n",
    "    df.name = df.name.fillna('').astype('string')\n",
    "    df.address = df.address.fillna('').astype('string')\n",
    "    df.location = df.location.fillna('').astype('string')\n",
    "    df.cuisine = df.cuisine.fillna('').astype('string')\n",
    "    df.facilities_and_services = df.facilities_and_services.fillna('NONE').astype('string')\n",
    "    df.award = df.award.fillna('').astype('string')\n",
    "    df.data = df.data.fillna('').astype('string')\n",
    "    return df"
   ]
  },
  {
   "cell_type": "code",
   "execution_count": null,
   "metadata": {},
   "outputs": [],
   "source": [
    "change_dtype_str(df)"
   ]
  },
  {
   "cell_type": "code",
   "execution_count": null,
   "metadata": {},
   "outputs": [],
   "source": [
    "df.facilities_and_services[df.facilities_and_services == 'NONE']"
   ]
  },
  {
   "cell_type": "code",
   "execution_count": null,
   "metadata": {},
   "outputs": [],
   "source": [
    "df.info()"
   ]
  },
  {
   "attachments": {},
   "cell_type": "markdown",
   "metadata": {},
   "source": [
    "### Reviews"
   ]
  },
  {
   "cell_type": "code",
   "execution_count": null,
   "metadata": {},
   "outputs": [],
   "source": [
    "# Assign all, 1_star, 2_star, 3_star and bib_gourmand lists by passing the clean function with a join\n",
    "all_reviews = clean(' '.join(df['data']),'lem')\n",
    "one_star_reviews = clean(' '.join(df[df.award == '1 MICHELIN Star']['data']),'lem')\n",
    "two_star_reviews = clean(' '.join(df[df.award == '2 MICHELIN Stars']['data']),'lem')\n",
    "three_star_reviews = clean(' '.join(df[df.award == '3 MICHELIN Stars']['data']),'lem')\n",
    "bib_gourmand_reviews = clean(' '.join(df[df.award == 'Bib Gourmand']['data']),'lem')\n"
   ]
  },
  {
   "cell_type": "code",
   "execution_count": null,
   "metadata": {},
   "outputs": [],
   "source": [
    "#TODO Create Mean Word Count"
   ]
  },
  {
   "cell_type": "code",
   "execution_count": null,
   "metadata": {},
   "outputs": [],
   "source": [
    "# show word count\n",
    "print('Reviews Word Counts')\n",
    "print(f'all_reviews: {len(all_reviews)}')\n",
    "print(f'one_star_reviews: {len(one_star_reviews)}')\n",
    "print(f'two_star_reviews: {len(two_star_reviews)}')\n",
    "print(f'three_star_reviews: {len(three_star_reviews)}')\n",
    "print(f'bib_gourmand_reviews: {len(bib_gourmand_reviews)}')"
   ]
  },
  {
   "cell_type": "code",
   "execution_count": null,
   "metadata": {},
   "outputs": [],
   "source": [
    "# Assign word counts to Frequency Variables\n",
    "freq_one_star_reviews = pd.Series(one_star_reviews).value_counts()\n",
    "freq_two_star_reviews = pd.Series(two_star_reviews).value_counts()\n",
    "freq_three_star_reviews = pd.Series(three_star_reviews).value_counts()\n",
    "freq_bib_gourmand_reviews = pd.Series(bib_gourmand_reviews).value_counts()\n",
    "freq_all_reviews = pd.Series(all_reviews).value_counts()"
   ]
  },
  {
   "cell_type": "code",
   "execution_count": null,
   "metadata": {},
   "outputs": [],
   "source": [
    "# Test it\n",
    "freq_all_reviews"
   ]
  },
  {
   "attachments": {},
   "cell_type": "markdown",
   "metadata": {},
   "source": [
    "### Facilities"
   ]
  },
  {
   "cell_type": "code",
   "execution_count": null,
   "metadata": {},
   "outputs": [],
   "source": [
    "# Assign all, 1_star, 2_star, 3_star and bib_gourmand lists by passing the clean function with a join\n",
    "all_facilities = clean(' '.join(df['facilities_and_services']),'lem')\n",
    "one_star_facilities = clean(' '.join(df[df.award == '1 MICHELIN Star']['facilities_and_services']),'lem')\n",
    "two_star_facilities = clean(' '.join(df[df.award == '2 MICHELIN Stars']['facilities_and_services']),'lem')\n",
    "three_star_facilities = clean(' '.join(df[df.award == '3 MICHELIN Stars']['facilities_and_services']),'lem')\n",
    "bib_gourmand_facilities = clean(' '.join(df[df.award == 'Bib Gourmand']['facilities_and_services']),'lem')\n"
   ]
  },
  {
   "cell_type": "code",
   "execution_count": null,
   "metadata": {},
   "outputs": [],
   "source": [
    "# show word count\n",
    "print('Facility Word Counts')\n",
    "print(f'all_facilities: {len(all_facilities)}')\n",
    "print(f'one_star_facilities: {len(one_star_facilities)}')\n",
    "print(f'two_star_facilities: {len(two_star_facilities)}')\n",
    "print(f'three_star_facilities: {len(three_star_facilities)}')\n",
    "print(f'bib_gourmand_facilities: {len(bib_gourmand_facilities)}')"
   ]
  },
  {
   "cell_type": "code",
   "execution_count": null,
   "metadata": {},
   "outputs": [],
   "source": [
    "# Assign word counts to Frequency Variables\n",
    "freq_one_star_facilities = pd.Series(one_star_facilities).value_counts()\n",
    "freq_two_star_facilities = pd.Series(two_star_facilities).value_counts()\n",
    "freq_three_star_facilities = pd.Series(three_star_facilities).value_counts()\n",
    "freq_bib_gourmand_facilities = pd.Series(bib_gourmand_facilities).value_counts()\n",
    "freq_all_facilities = pd.Series(all_facilities).value_counts()"
   ]
  },
  {
   "cell_type": "code",
   "execution_count": null,
   "metadata": {},
   "outputs": [],
   "source": [
    "# Test it\n",
    "freq_all_facilities"
   ]
  },
  {
   "cell_type": "code",
   "execution_count": null,
   "metadata": {},
   "outputs": [],
   "source": [
    "# Create Frequency DataFrame\n",
    "word_counts = pd.concat([freq_all_facilities,\n",
    "                         freq_one_star_facilities, \n",
    "                         freq_two_star_facilities,\n",
    "                         freq_three_star_facilities,\n",
    "                         freq_bib_gourmand_facilities,\n",
    "                         freq_all_reviews,\n",
    "                         freq_one_star_reviews,\n",
    "                         freq_two_star_reviews,\n",
    "                         freq_three_star_reviews,\n",
    "                         freq_bib_gourmand_reviews], axis=1\n",
    "         ).fillna(0).astype(int)\n",
    "word_counts.columns = ['all_facilities',\n",
    "                         '1_star_facilities', \n",
    "                         '2_star_facilities',\n",
    "                         '3_star_facilities',\n",
    "                         'bib_gourmand_facilities',\n",
    "                         'all_reviews',\n",
    "                         '1_star_reviews',\n",
    "                         '2_star_reviews',\n",
    "                         '3_star_reviews',\n",
    "                         'bib_gourmand_reviews']\n",
    "word_counts"
   ]
  },
  {
   "cell_type": "code",
   "execution_count": null,
   "metadata": {},
   "outputs": [],
   "source": []
  }
 ],
 "metadata": {
  "kernelspec": {
   "display_name": "base",
   "language": "python",
   "name": "python3"
  },
  "language_info": {
   "codemirror_mode": {
    "name": "ipython",
    "version": 3
   },
   "file_extension": ".py",
   "mimetype": "text/x-python",
   "name": "python",
   "nbconvert_exporter": "python",
   "pygments_lexer": "ipython3",
   "version": "3.9.12"
  },
  "orig_nbformat": 4,
  "vscode": {
   "interpreter": {
    "hash": "38cca0c38332a56087b24af0bc80247f4fced29cb4f7f437d91dc159adec9c4e"
   }
  }
 },
 "nbformat": 4,
 "nbformat_minor": 2
}
