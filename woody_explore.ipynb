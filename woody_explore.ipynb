{
 "cells": [
  {
   "cell_type": "code",
   "execution_count": 1,
   "metadata": {},
   "outputs": [],
   "source": [
    "import numpy as np\n",
    "import pandas as pd\n",
    "import seaborn as sns\n",
    "import matplotlib.pyplot as plt\n",
    "from importlib import reload\n",
    "import warnings\n",
    "import acquire as a\n",
    "import prepare as p\n",
    "warnings.simplefilter(\"ignore\")\n",
    "%matplotlib inline\n",
    "%config InlineBackend.figure_format = 'retina'"
   ]
  },
  {
   "cell_type": "code",
   "execution_count": null,
   "metadata": {},
   "outputs": [],
   "source": [
    "reload(p)\n",
    "df = a.get_michelin_pages()\n",
    "df = p.prepare_michelin(df)"
   ]
  },
  {
   "cell_type": "code",
   "execution_count": 3,
   "metadata": {},
   "outputs": [
    {
     "data": {
      "text/plain": [
       "dish          3390\n",
       "ingredient    2130\n",
       "also          1779\n",
       "flavour       1748\n",
       "wine          1696\n",
       "dtype: int64"
      ]
     },
     "execution_count": 3,
     "metadata": {},
     "output_type": "execute_result"
    }
   ],
   "source": [
    "word_list = []\n",
    "word_ser = df.lemmatized.str.split()\n",
    "for w in word_ser:\n",
    "    word_list += w\n",
    "word_list = pd.Series(word_list)\n",
    "word_list.value_counts()[:5]\n"
   ]
  },
  {
   "cell_type": "code",
   "execution_count": 4,
   "metadata": {},
   "outputs": [
    {
     "data": {
      "text/plain": [
       "0             2 Wudaoying Hutong, Beijing, China Mainland\n",
       "1       1F, East Tower, Genesis Beijing, 8 Xinyuan Sou...\n",
       "2       101-102, Building No. 1, Garden Office, No.161...\n",
       "3       'somewhere in Shanghai' - meet at Mr & Mrs Bun...\n",
       "4             470 Pacific Ave., San Francisco, 94133, USA\n",
       "                              ...                        \n",
       "6775    Plac Powstańców Warszawy 9, Warsaw, 00 039, Po...\n",
       "6776               ul. Grodzka 63, Cracow, 31 044, Poland\n",
       "6777                ul. Józefa 34, Cracow, 32 056, Poland\n",
       "6778               ul. Żurawia 22, Warsaw, 00 515, Poland\n",
       "6779            ul. Mokotowska 48, Warsaw, 00 543, Poland\n",
       "Name: address, Length: 6780, dtype: string"
      ]
     },
     "execution_count": 4,
     "metadata": {},
     "output_type": "execute_result"
    }
   ],
   "source": []
  }
 ],
 "metadata": {
  "kernelspec": {
   "display_name": "base",
   "language": "python",
   "name": "python3"
  },
  "language_info": {
   "codemirror_mode": {
    "name": "ipython",
    "version": 3
   },
   "file_extension": ".py",
   "mimetype": "text/x-python",
   "name": "python",
   "nbconvert_exporter": "python",
   "pygments_lexer": "ipython3",
   "version": "3.9.13"
  },
  "orig_nbformat": 4,
  "vscode": {
   "interpreter": {
    "hash": "3067ead486e059ec00ffe7555bdb889e6e264a24dc711bf108106cc7baee8d5d"
   }
  }
 },
 "nbformat": 4,
 "nbformat_minor": 2
}
