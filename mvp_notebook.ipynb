{
 "cells": [
  {
   "attachments": {},
   "cell_type": "markdown",
   "metadata": {},
   "source": [
    "# Michelin NLP Capstone Project \n",
    "### Presented by: Yuvia Cardenas, Justin Evans, Cristina Lucin, and Woody Sims"
   ]
  },
  {
   "attachments": {},
   "cell_type": "markdown",
   "metadata": {},
   "source": [
    "## Project Overview\n",
    "\n",
    "This project focuses on building a prediction model for accurately predicting the coding language of a project using examination of GitHub repo Readme files. Our goal is to develop a predictive model utilizing Python and Python libraries and select the most effective model for production. Initially, we are utilizing BeautifulSoup to acquire our data, selecting 1000 repositories tagged with 'Minecraft' from GitHub, taking in all Readme text and repo language information from each repo. After gathering the data, we explore the data through questions and visualizations before developing a model that can tell us: \"What language is this repository most likely to be written in?\"\n",
    "\n",
    "## Goals\n",
    "\n",
    "### Create deliverables:\n",
    "- READ ME\n",
    "- Final Report (Jupyter Notebook)\n",
    "- Functional acquire.py, explore.py, and model.py files\n",
    "- Acquire data from Michelin Website utilizing Beautiful Soup to scrape restaurant review text\n",
    "- Prepare and split the data\n",
    "- Explore the data and produce visualizations encapsulating exploration\n",
    "- Establish and document baseline\n",
    "- Fit and train a classification model to predict the programming language of the Repo\n",
    "- Evaluate the model by comparing its performance on train utilizing accuracy as a measure\n",
    "- Evaluate the selected model on test data\n",
    "- Develop and document findings, takeaways, recommendations, and next steps"
   ]
  },
  {
   "cell_type": "code",
   "execution_count": 2,
   "metadata": {},
   "outputs": [],
   "source": [
    "# Imports\n",
    "\n",
    "import pandas as pd\n",
    "import numpy as np\n",
    "import re\n",
    "import os\n",
    "\n",
    "# Webscraping/NLP\n",
    "import requests\n",
    "from requests import get\n",
    "from bs4 import BeautifulSoup\n",
    "import time\n",
    "import nltk\n",
    "import requests\n",
    "import unicodedata\n",
    "from nltk.corpus import stopwords\n",
    "\n",
    "# Visualizations\n",
    "import seaborn as sns\n",
    "import matplotlib.pyplot as plt\n",
    "\n",
    "# Stats\n",
    "import scipy.stats as stats\n",
    "from scipy.stats import ttest_ind, levene, f_oneway\n",
    "\n",
    "# Team Imports\n",
    "\n",
    "import prepare as p\n",
    "import acquire as a\n",
    "import explore as e\n",
    "import model as m\n",
    "from importlib import reload\n"
   ]
  },
  {
   "attachments": {},
   "cell_type": "markdown",
   "metadata": {},
   "source": [
    "# Acquire\n",
    "- 6,780 Michelin website page URLs were acquired from a Michelin Kaggle Dataset of the current, quarterly Michelin Restaurants in the world (Kaggle Data Acquired 1/18/2023)\n",
    "- These website pages were scraped utilizing BeautifulSoup utilizing a function called \"get_michelin_pages\"\n",
    "- The text from the restaurant review was appended to the original Michelin Dataframe as a column titled \"data\"\n",
    "- This dataframe included 6,780 rows before cleaning\n",
    "- Each row represents a unique restaurant awarded and currently possessing a Michelin guide award designation\n",
    "- Each column represents a feature of the restaurant, such as name, location, cuisine type, and price level\n",
    "\n",
    "# Prepare\n",
    "### Prepare Actions:\n",
    "- Removed columns not necessary for project goals\n",
    "- Dropped rows \"restaurants\" who no longer appear on the Michelin Guide Website (No longer a current Michelin Awardee)\n",
    "- Recasted columns into different data types as appropriate\n",
    "- Checked for null values in the data, imputed null values where applicable\n",
    "- Utilized Regex and string methods and functions to clean restaurant review text\n",
    "- "
   ]
  },
  {
   "cell_type": "markdown",
   "metadata": {},
   "source": []
  }
 ],
 "metadata": {
  "kernelspec": {
   "display_name": "base",
   "language": "python",
   "name": "python3"
  },
  "language_info": {
   "codemirror_mode": {
    "name": "ipython",
    "version": 3
   },
   "file_extension": ".py",
   "mimetype": "text/x-python",
   "name": "python",
   "nbconvert_exporter": "python",
   "pygments_lexer": "ipython3",
   "version": "3.9.15"
  },
  "orig_nbformat": 4,
  "vscode": {
   "interpreter": {
    "hash": "38cca0c38332a56087b24af0bc80247f4fced29cb4f7f437d91dc159adec9c4e"
   }
  }
 },
 "nbformat": 4,
 "nbformat_minor": 2
}
