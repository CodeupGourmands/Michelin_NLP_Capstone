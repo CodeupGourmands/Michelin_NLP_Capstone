{
 "cells": [
  {
   "attachments": {},
   "cell_type": "markdown",
   "metadata": {},
   "source": [
    "# Michelin NLP Capstone Project \n",
    "### Presented by: Yuvia Cardenas, Justin Evans, Cristina Lucin, and Woody Sims"
   ]
  },
  {
   "attachments": {},
   "cell_type": "markdown",
   "metadata": {},
   "source": [
    "## Project Overview\n",
    "\n",
    "This project focuses on building a prediction model for accurately predicting the coding language of a project using examination of GitHub repo Readme files. Our goal is to develop a predictive model utilizing Python and Python libraries and select the most effective model for production. Initially, we are utilizing BeautifulSoup to acquire our data, selecting 1000 repositories tagged with 'Minecraft' from GitHub, taking in all Readme text and repo language information from each repo. After gathering the data, we explore the data through questions and visualizations before developing a model that can tell us: \"What language is this repository most likely to be written in?\"\n",
    "\n",
    "## Goals\n",
    "\n",
    "### Create deliverables:\n",
    "- READ ME\n",
    "- Final Report (Jupyter Notebook)\n",
    "- Functional acquire.py, explore.py, and model.py files\n",
    "- Acquire data from Michelin Website utilizing Beautiful Soup to scrape restaurant review text\n",
    "- Prepare and split the data\n",
    "- Explore the data and produce visualizations encapsulating exploration\n",
    "- Establish and document baseline\n",
    "- Fit and train a classification model to predict the programming language of the Repo\n",
    "- Evaluate the model by comparing its performance on train utilizing accuracy as a measure\n",
    "- Evaluate the selected model on test data\n",
    "- Develop and document findings, takeaways, recommendations, and next steps"
   ]
  },
  {
   "cell_type": "code",
   "execution_count": 1,
   "metadata": {},
   "outputs": [],
   "source": [
    "# Imports\n",
    "\n",
    "import pandas as pd\n",
    "import numpy as np\n",
    "import re\n",
    "import os\n",
    "\n",
    "# Webscraping/NLP\n",
    "import requests\n",
    "from requests import get\n",
    "from bs4 import BeautifulSoup\n",
    "import time\n",
    "import nltk\n",
    "import requests\n",
    "import unicodedata\n",
    "from nltk.corpus import stopwords\n",
    "\n",
    "# Visualizations\n",
    "import seaborn as sns\n",
    "import matplotlib.pyplot as plt\n",
    "\n",
    "## setting basic style parameters for matplotlib\n",
    "plt.rc('figure', figsize=(20, 10))\n",
    "plt.style.use('seaborn-darkgrid')\n",
    "\n",
    "\n",
    "# Stats\n",
    "import scipy.stats as stats\n",
    "from scipy.stats import ttest_ind, levene, f_oneway\n",
    "\n",
    "# Team Imports\n",
    "\n",
    "import prepare as p\n",
    "import acquire as a\n",
    "import explore as e\n",
    "import model as m\n",
    "from importlib import reload\n",
    "import warnings\n",
    "warnings.simplefilter(\"ignore\")\n"
   ]
  },
  {
   "attachments": {},
   "cell_type": "markdown",
   "metadata": {},
   "source": [
    "# Acquire\n",
    "- 6,780 Michelin website page URLs were acquired from a Michelin Kaggle Dataset of the current, quarterly Michelin Restaurants in the world (Kaggle Data Acquired 1/18/2023)\n",
    "- These website pages were scraped utilizing BeautifulSoup utilizing a function called \"get_michelin_pages\"\n",
    "- The text from the restaurant review was appended to the original Michelin Dataframe as a column titled \"data\"\n",
    "- This dataframe included 6,780 rows before cleaning\n",
    "- Each row represents a unique restaurant awarded and currently possessing a Michelin guide award designation\n",
    "- Each column represents a feature of the restaurant, such as name, location, cuisine type, and price level\n",
    "\n",
    "# Prepare\n",
    "### Prepare Actions:\n",
    "- Removed columns not necessary for project goals\n",
    "- Dropped rows \"restaurants\" who no longer appear on the Michelin Guide Website (No longer a current Michelin Awardee)\n",
    "- Recasted columns into different data types as appropriate\n",
    "- Checked for null values in the data, imputed null values where applicable\n",
    "- Utilized Regex and string methods and functions to clean restaurant review text\n",
    "- Renamed columns and applied lowercase text to columns and data to improve readability/usability\n",
    "- Tokenized review text, removed stopwords, and lemmatized text for exploration and modeling"
   ]
  },
  {
   "cell_type": "code",
   "execution_count": 2,
   "metadata": {},
   "outputs": [
    {
     "data": {
      "text/html": [
       "<div>\n",
       "<style scoped>\n",
       "    .dataframe tbody tr th:only-of-type {\n",
       "        vertical-align: middle;\n",
       "    }\n",
       "\n",
       "    .dataframe tbody tr th {\n",
       "        vertical-align: top;\n",
       "    }\n",
       "\n",
       "    .dataframe thead th {\n",
       "        text-align: right;\n",
       "    }\n",
       "</style>\n",
       "<table border=\"1\" class=\"dataframe\">\n",
       "  <thead>\n",
       "    <tr style=\"text-align: right;\">\n",
       "      <th></th>\n",
       "      <th>name</th>\n",
       "      <th>address</th>\n",
       "      <th>location</th>\n",
       "      <th>price</th>\n",
       "      <th>cuisine</th>\n",
       "      <th>longitude</th>\n",
       "      <th>latitude</th>\n",
       "      <th>phone_number</th>\n",
       "      <th>url</th>\n",
       "      <th>website_url</th>\n",
       "      <th>award</th>\n",
       "      <th>facilities_and_services</th>\n",
       "      <th>data</th>\n",
       "    </tr>\n",
       "  </thead>\n",
       "  <tbody>\n",
       "    <tr>\n",
       "      <th>0</th>\n",
       "      <td>King's Joy</td>\n",
       "      <td>2 Wudaoying Hutong, Beijing, China Mainland</td>\n",
       "      <td>Beijing, China Mainland</td>\n",
       "      <td>¥¥¥</td>\n",
       "      <td>Vegetarian</td>\n",
       "      <td>116.410004</td>\n",
       "      <td>39.946681</td>\n",
       "      <td>8.610840e+11</td>\n",
       "      <td>https://guide.michelin.com/en/beijing-municipa...</td>\n",
       "      <td>NaN</td>\n",
       "      <td>3 MICHELIN Stars</td>\n",
       "      <td>Air conditioning,American Express credit card,...</td>\n",
       "      <td>Just a stone’s throw from Yonghe Temple, this ...</td>\n",
       "    </tr>\n",
       "    <tr>\n",
       "      <th>1</th>\n",
       "      <td>Xin Rong Ji (Xinyuan South Road)</td>\n",
       "      <td>1F, East Tower, Genesis Beijing, 8 Xinyuan Sou...</td>\n",
       "      <td>Beijing, China Mainland</td>\n",
       "      <td>¥¥¥¥</td>\n",
       "      <td>Taizhou</td>\n",
       "      <td>116.450148</td>\n",
       "      <td>39.946380</td>\n",
       "      <td>8.610650e+11</td>\n",
       "      <td>https://guide.michelin.com/en/beijing-municipa...</td>\n",
       "      <td>NaN</td>\n",
       "      <td>3 MICHELIN Stars</td>\n",
       "      <td>Air conditioning,Car park,China UnionPay,Count...</td>\n",
       "      <td>This branch of the chain restaurant opened in ...</td>\n",
       "    </tr>\n",
       "    <tr>\n",
       "      <th>2</th>\n",
       "      <td>Taian Table</td>\n",
       "      <td>101-102, Building No. 1, Garden Office, No.161...</td>\n",
       "      <td>Shanghai, China Mainland</td>\n",
       "      <td>¥¥¥¥</td>\n",
       "      <td>Innovative</td>\n",
       "      <td>121.474049</td>\n",
       "      <td>31.221807</td>\n",
       "      <td>8.617302e+12</td>\n",
       "      <td>https://guide.michelin.com/en/shanghai-municip...</td>\n",
       "      <td>https://taian-table.cn/</td>\n",
       "      <td>3 MICHELIN Stars</td>\n",
       "      <td>Air conditioning,American Express credit card,...</td>\n",
       "      <td>A fixture on the city’s dining scene since 201...</td>\n",
       "    </tr>\n",
       "    <tr>\n",
       "      <th>3</th>\n",
       "      <td>Ultraviolet by Paul Pairet</td>\n",
       "      <td>'somewhere in Shanghai' - meet at Mr &amp; Mrs Bun...</td>\n",
       "      <td>Shanghai, China Mainland</td>\n",
       "      <td>¥¥¥¥</td>\n",
       "      <td>Innovative</td>\n",
       "      <td>121.485090</td>\n",
       "      <td>31.240358</td>\n",
       "      <td>NaN</td>\n",
       "      <td>https://guide.michelin.com/en/shanghai-municip...</td>\n",
       "      <td>https://uvbypp.cc/</td>\n",
       "      <td>3 MICHELIN Stars</td>\n",
       "      <td>Air conditioning,American Express credit card,...</td>\n",
       "      <td>This multi-sensory experience at a secret loca...</td>\n",
       "    </tr>\n",
       "    <tr>\n",
       "      <th>4</th>\n",
       "      <td>Quince</td>\n",
       "      <td>470 Pacific Ave., San Francisco, 94133, USA</td>\n",
       "      <td>San Francisco, USA</td>\n",
       "      <td>$$$$</td>\n",
       "      <td>Contemporary, Californian</td>\n",
       "      <td>-122.403261</td>\n",
       "      <td>37.797505</td>\n",
       "      <td>1.415776e+10</td>\n",
       "      <td>https://guide.michelin.com/en/california/san-f...</td>\n",
       "      <td>http://www.quincerestaurant.com</td>\n",
       "      <td>3 MICHELIN Stars</td>\n",
       "      <td>Air conditioning,American Express credit card,...</td>\n",
       "      <td>An air of refinement infuses this dining room,...</td>\n",
       "    </tr>\n",
       "  </tbody>\n",
       "</table>\n",
       "</div>"
      ],
      "text/plain": [
       "                               name  \\\n",
       "0                        King's Joy   \n",
       "1  Xin Rong Ji (Xinyuan South Road)   \n",
       "2                       Taian Table   \n",
       "3        Ultraviolet by Paul Pairet   \n",
       "4                            Quince   \n",
       "\n",
       "                                             address  \\\n",
       "0        2 Wudaoying Hutong, Beijing, China Mainland   \n",
       "1  1F, East Tower, Genesis Beijing, 8 Xinyuan Sou...   \n",
       "2  101-102, Building No. 1, Garden Office, No.161...   \n",
       "3  'somewhere in Shanghai' - meet at Mr & Mrs Bun...   \n",
       "4        470 Pacific Ave., San Francisco, 94133, USA   \n",
       "\n",
       "                   location price                    cuisine   longitude  \\\n",
       "0   Beijing, China Mainland   ¥¥¥                 Vegetarian  116.410004   \n",
       "1   Beijing, China Mainland  ¥¥¥¥                    Taizhou  116.450148   \n",
       "2  Shanghai, China Mainland  ¥¥¥¥                 Innovative  121.474049   \n",
       "3  Shanghai, China Mainland  ¥¥¥¥                 Innovative  121.485090   \n",
       "4        San Francisco, USA  $$$$  Contemporary, Californian -122.403261   \n",
       "\n",
       "    latitude  phone_number                                                url  \\\n",
       "0  39.946681  8.610840e+11  https://guide.michelin.com/en/beijing-municipa...   \n",
       "1  39.946380  8.610650e+11  https://guide.michelin.com/en/beijing-municipa...   \n",
       "2  31.221807  8.617302e+12  https://guide.michelin.com/en/shanghai-municip...   \n",
       "3  31.240358           NaN  https://guide.michelin.com/en/shanghai-municip...   \n",
       "4  37.797505  1.415776e+10  https://guide.michelin.com/en/california/san-f...   \n",
       "\n",
       "                       website_url             award  \\\n",
       "0                              NaN  3 MICHELIN Stars   \n",
       "1                              NaN  3 MICHELIN Stars   \n",
       "2          https://taian-table.cn/  3 MICHELIN Stars   \n",
       "3               https://uvbypp.cc/  3 MICHELIN Stars   \n",
       "4  http://www.quincerestaurant.com  3 MICHELIN Stars   \n",
       "\n",
       "                             facilities_and_services  \\\n",
       "0  Air conditioning,American Express credit card,...   \n",
       "1  Air conditioning,Car park,China UnionPay,Count...   \n",
       "2  Air conditioning,American Express credit card,...   \n",
       "3  Air conditioning,American Express credit card,...   \n",
       "4  Air conditioning,American Express credit card,...   \n",
       "\n",
       "                                                data  \n",
       "0  Just a stone’s throw from Yonghe Temple, this ...  \n",
       "1  This branch of the chain restaurant opened in ...  \n",
       "2  A fixture on the city’s dining scene since 201...  \n",
       "3  This multi-sensory experience at a secret loca...  \n",
       "4  An air of refinement infuses this dining room,...  "
      ]
     },
     "execution_count": 2,
     "metadata": {},
     "output_type": "execute_result"
    }
   ],
   "source": [
    "# Get the data, take a peek\n",
    "df = a.get_michelin_pages()\n",
    "df.head()"
   ]
  },
  {
   "cell_type": "code",
   "execution_count": 3,
   "metadata": {},
   "outputs": [
    {
     "name": "stdout",
     "output_type": "stream",
     "text": [
      "Kings Joy (Beijing, China) review text: Just a stone’s throw from Yonghe Temple, this serene restaurant is remodelled from a courtyard house and features a glass-roofed dining room. The chef honed his skills at his grandparents’ restaurant of the same name. Only set menus are available; try the classic menu to sample their specialities all at once. Regulars may opt for the solar-term menu that changes every 15 days. Live harp performance befits the restaurant’s classy elegance.\n"
     ]
    }
   ],
   "source": [
    "# Take a look at some restaurant reviews from our dataframe:\n",
    "print(f'Kings Joy (Beijing, China) review text: {df.data[0]}')"
   ]
  },
  {
   "cell_type": "code",
   "execution_count": 4,
   "metadata": {},
   "outputs": [
    {
     "name": "stdout",
     "output_type": "stream",
     "text": [
      "La Palme dOr (Cannes, France) review text: Some places you fall in love with at first sight and La Palme d'Or is one of them. In the fabulous Art Deco setting of the Hotel Martinez, diners look down on the famous promenade of La Croisette and the Bay of Cannes, while savouring the luxury and refinement so beautifully brought together here. Of course, all this would be worth nothing without high-calibre cuisine. No worries on that score: chef Christian Sinicropi, a local man, has matters entirely in hand. At each stage of the \"Mouvements\" set menu, he homes in on one ingredient, supporting it with elements from its own ecosystem. The result is coherent and sophisticated, right down to the remarkably precise desserts by Julien Ochando. Definitely worthy of a Golden Palm award.\n"
     ]
    }
   ],
   "source": [
    "# Take a look at some restaurant reviews from our dataframe:\n",
    "print(f'La Palme dOr (Cannes, France) review text: {df.data[500]}')"
   ]
  },
  {
   "attachments": {},
   "cell_type": "markdown",
   "metadata": {},
   "source": [
    "_________________________________"
   ]
  },
  {
   "attachments": {},
   "cell_type": "markdown",
   "metadata": {},
   "source": [
    "# Exploration"
   ]
  },
  {
   "cell_type": "code",
   "execution_count": 6,
   "metadata": {},
   "outputs": [
    {
     "data": {
      "text/html": [
       "<div>\n",
       "<style scoped>\n",
       "    .dataframe tbody tr th:only-of-type {\n",
       "        vertical-align: middle;\n",
       "    }\n",
       "\n",
       "    .dataframe tbody tr th {\n",
       "        vertical-align: top;\n",
       "    }\n",
       "\n",
       "    .dataframe thead th {\n",
       "        text-align: right;\n",
       "    }\n",
       "</style>\n",
       "<table border=\"1\" class=\"dataframe\">\n",
       "  <thead>\n",
       "    <tr style=\"text-align: right;\">\n",
       "      <th></th>\n",
       "      <th>name</th>\n",
       "      <th>address</th>\n",
       "      <th>location</th>\n",
       "      <th>price</th>\n",
       "      <th>cuisine</th>\n",
       "      <th>longitude</th>\n",
       "      <th>latitude</th>\n",
       "      <th>url</th>\n",
       "      <th>award</th>\n",
       "      <th>facilities_and_services</th>\n",
       "      <th>data</th>\n",
       "      <th>price_level</th>\n",
       "      <th>city</th>\n",
       "      <th>country</th>\n",
       "      <th>clean</th>\n",
       "      <th>lemmatized</th>\n",
       "      <th>sentiment</th>\n",
       "      <th>word_count</th>\n",
       "    </tr>\n",
       "  </thead>\n",
       "  <tbody>\n",
       "    <tr>\n",
       "      <th>6345</th>\n",
       "      <td>gasthaus ödenturm</td>\n",
       "      <td>am ödenturm 11, cham, 93413, germany</td>\n",
       "      <td>cham, germany</td>\n",
       "      <td>€</td>\n",
       "      <td>country cooking, mediterranean cuisine</td>\n",
       "      <td>12.703851</td>\n",
       "      <td>49.210919</td>\n",
       "      <td>https://guide.michelin.com/en/bayern/cham/rest...</td>\n",
       "      <td>bib gourmand</td>\n",
       "      <td>car park,credit card / debit card accepted,gre...</td>\n",
       "      <td>as if straight out of a picture book, this bea...</td>\n",
       "      <td>1</td>\n",
       "      <td>cham</td>\n",
       "      <td>germany</td>\n",
       "      <td>straight picture book beautiful inn stands edg...</td>\n",
       "      <td>straight picture book beautiful inn stand edge...</td>\n",
       "      <td>0.9648</td>\n",
       "      <td>36</td>\n",
       "    </tr>\n",
       "    <tr>\n",
       "      <th>6427</th>\n",
       "      <td>weinhaus anker</td>\n",
       "      <td>obertorstraße 13, marktheidenfeld, 97828, germany</td>\n",
       "      <td>marktheidenfeld, germany</td>\n",
       "      <td>€</td>\n",
       "      <td>french, country cooking</td>\n",
       "      <td>9.600301</td>\n",
       "      <td>49.845621</td>\n",
       "      <td>https://guide.michelin.com/en/bayern/marktheid...</td>\n",
       "      <td>bib gourmand</td>\n",
       "      <td>american express credit card,car park,credit c...</td>\n",
       "      <td>a restaurant that is steeped in tradition and ...</td>\n",
       "      <td>1</td>\n",
       "      <td>marktheidenfeld</td>\n",
       "      <td>germany</td>\n",
       "      <td>steeped tradition run great commitment lovely ...</td>\n",
       "      <td>steeped tradition run great commitment lovely ...</td>\n",
       "      <td>0.9618</td>\n",
       "      <td>32</td>\n",
       "    </tr>\n",
       "  </tbody>\n",
       "</table>\n",
       "</div>"
      ],
      "text/plain": [
       "                   name                                            address  \\\n",
       "6345  gasthaus ödenturm               am ödenturm 11, cham, 93413, germany   \n",
       "6427     weinhaus anker  obertorstraße 13, marktheidenfeld, 97828, germany   \n",
       "\n",
       "                      location price                                 cuisine  \\\n",
       "6345             cham, germany     €  country cooking, mediterranean cuisine   \n",
       "6427  marktheidenfeld, germany     €                 french, country cooking   \n",
       "\n",
       "      longitude   latitude                                                url  \\\n",
       "6345  12.703851  49.210919  https://guide.michelin.com/en/bayern/cham/rest...   \n",
       "6427   9.600301  49.845621  https://guide.michelin.com/en/bayern/marktheid...   \n",
       "\n",
       "             award                            facilities_and_services  \\\n",
       "6345  bib gourmand  car park,credit card / debit card accepted,gre...   \n",
       "6427  bib gourmand  american express credit card,car park,credit c...   \n",
       "\n",
       "                                                   data  price_level  \\\n",
       "6345  as if straight out of a picture book, this bea...            1   \n",
       "6427  a restaurant that is steeped in tradition and ...            1   \n",
       "\n",
       "                 city  country  \\\n",
       "6345             cham  germany   \n",
       "6427  marktheidenfeld  germany   \n",
       "\n",
       "                                                  clean  \\\n",
       "6345  straight picture book beautiful inn stands edg...   \n",
       "6427  steeped tradition run great commitment lovely ...   \n",
       "\n",
       "                                             lemmatized  sentiment  word_count  \n",
       "6345  straight picture book beautiful inn stand edge...     0.9648          36  \n",
       "6427  steeped tradition run great commitment lovely ...     0.9618          32  "
      ]
     },
     "execution_count": 6,
     "metadata": {},
     "output_type": "execute_result"
    }
   ],
   "source": [
    "# Splitting our data (56% Train, 24% Validate, 20% Test)\n",
    "train, validate, test = p.prepare_michelin(df)\n",
    "\n",
    "# Run Facilities split\n",
    "# f_train, f_validate, f_test = e.prepare_facilities(df)\n",
    "\n",
    "train.head(2)"
   ]
  },
  {
   "attachments": {},
   "cell_type": "markdown",
   "metadata": {},
   "source": [
    "## Question 1: What is the distribution of our target variable (award type)?"
   ]
  },
  {
   "cell_type": "code",
   "execution_count": 7,
   "metadata": {},
   "outputs": [
    {
     "data": {
      "image/png": "[encoded data removed]",
      "text/plain": [
       "<Figure size 648x432 with 1 Axes>"
      ]
     },
     "metadata": {},
     "output_type": "display_data"
    }
   ],
   "source": [
    "# Generate visuazliation of distribution of target variable\n",
    "e.get_award_freq(train)"
   ]
  },
  {
   "cell_type": "code",
   "execution_count": 8,
   "metadata": {},
   "outputs": [
    {
     "data": {
      "text/plain": [
       "0.5030319008700237"
      ]
     },
     "execution_count": 8,
     "metadata": {},
     "output_type": "execute_result"
    }
   ],
   "source": [
    "# Establishing Baseline for modeling, with the Mode being 'bib gourmand'\n",
    "len(train[train.award == 'bib gourmand']) / len(train.award)"
   ]
  },
  {
   "attachments": {},
   "cell_type": "markdown",
   "metadata": {},
   "source": [
    "## Question 2: What Countries have the most Michelin Restaurants?"
   ]
  },
  {
   "cell_type": "code",
   "execution_count": 9,
   "metadata": {},
   "outputs": [
    {
     "data": {
      "image/png": "[encoded data removed]",
      "text/plain": [
       "<Figure size 648x432 with 1 Axes>"
      ]
     },
     "metadata": {},
     "output_type": "display_data"
    }
   ],
   "source": [
    "# Generate visualizaion of count of Michelin awardees by country\n",
    "e.top_10_country_viz(train)"
   ]
  },
  {
   "attachments": {},
   "cell_type": "markdown",
   "metadata": {},
   "source": [
    "## Question 3: What is the average wordcount of restaurant reviews, by award type?"
   ]
  },
  {
   "cell_type": "code",
   "execution_count": 10,
   "metadata": {},
   "outputs": [
    {
     "data": {
      "image/png": "[encoded data removed]",
      "text/plain": [
       "<Figure size 648x432 with 1 Axes>"
      ]
     },
     "metadata": {},
     "output_type": "display_data"
    }
   ],
   "source": [
    "# Generate Visualization of average wordcount by Michelin award category\n",
    "e.get_wordcount_bar(train)"
   ]
  },
  {
   "attachments": {},
   "cell_type": "markdown",
   "metadata": {},
   "source": [
    "### We conducted an ANOVA (Analysis of Variance) test to determine if there is a significant difference in review wordcount:"
   ]
  },
  {
   "cell_type": "code",
   "execution_count": 11,
   "metadata": {},
   "outputs": [
    {
     "name": "stdout",
     "output_type": "stream",
     "text": [
      "We reject the null hypothesis. There is sufficient\n",
      "evidence to conclude that the word count is significantly\n",
      "different between award categories.\n",
      "Test Statistic: 303.0297031546263, P Statistic: 2.484073504071232e-176\n"
     ]
    }
   ],
   "source": [
    "# Generate visualization of wordcount by award category\n",
    "e.get_anova_wordcount(train)"
   ]
  },
  {
   "attachments": {},
   "cell_type": "markdown",
   "metadata": {},
   "source": [
    "## Question 4: Do three star Michelin restaurants have the highest sentiment score?"
   ]
  },
  {
   "cell_type": "code",
   "execution_count": 12,
   "metadata": {},
   "outputs": [
    {
     "data": {
      "image/png": "[encoded data removed]",
      "text/plain": [
       "<Figure size 1440x720 with 1 Axes>"
      ]
     },
     "metadata": {},
     "output_type": "display_data"
    }
   ],
   "source": [
    "# Generate visualization for sentiment score\n",
    "e.sentiment_scores_bar(train)"
   ]
  },
  {
   "attachments": {},
   "cell_type": "markdown",
   "metadata": {},
   "source": [
    "- Sentiment scores for all categories are generally favorable\n",
    "- Restaurants awarded three (3) Michelin stars had the highest sentiment score"
   ]
  },
  {
   "attachments": {},
   "cell_type": "markdown",
   "metadata": {},
   "source": [
    "## Question 5: What are the most frequent words used in Michelin Restaurant reviews?"
   ]
  },
  {
   "cell_type": "code",
   "execution_count": 13,
   "metadata": {},
   "outputs": [
    {
     "data": {
      "text/plain": [
       "modern     831\n",
       "room       778\n",
       "kitchen    713\n",
       "one        662\n",
       "local      655\n",
       "dtype: int64"
      ]
     },
     "execution_count": 13,
     "metadata": {},
     "output_type": "execute_result"
    }
   ],
   "source": [
    "# Most frequent single words\n",
    "e.get_ngram_frequency(train.lemmatized, n=1).head(5)"
   ]
  },
  {
   "cell_type": "code",
   "execution_count": null,
   "metadata": {},
   "outputs": [],
   "source": [
    "# Plot Top-20 Review Words and compare by Awards\n",
    "features_list = ['one_star_reviews','two_star_reviews','three_star_reviews','bib_gourmand_reviews']\n",
    "\n",
    "fontsize = 20\n",
    "plt.rc('font', size=20)\n",
    "plt.figure(figsize=(10, 5), dpi=80)\n",
    "\n",
    "word_counts.sort_values('all_reviews', ascending=False)[features_list].head(5).plot.barh()\n",
    "\n",
    "plt.gca().invert_yaxis()\n",
    "plt.title('Top-5 Review words by Award', fontdict={'fontsize': fontsize})\n",
    "\n",
    "plt.show()"
   ]
  },
  {
   "cell_type": "code",
   "execution_count": null,
   "metadata": {},
   "outputs": [],
   "source": [
    "# Most frequent bigrams\n",
    "e.get_ngram_frequency(train.lemmatized, n=2).head(5)"
   ]
  },
  {
   "cell_type": "code",
   "execution_count": null,
   "metadata": {},
   "outputs": [],
   "source": [
    "# Display top Bigrams for All Review words\n",
    "\n",
    "# Set the plot attributes\n",
    "fontsize = 20\n",
    "plt.figure(figsize=(10, 5), dpi=80)\n",
    "\n",
    "# Plot\n",
    "pd.Series(nltk.bigrams(all_reviews_words)\n",
    "         ).value_counts().head(5).plot.barh()\n",
    "plt.gca().invert_yaxis()\n",
    "\n",
    "plt.title('Top-5 Bigrams for All Review words', fontdict={'fontsize': fontsize})\n",
    "\n",
    "plt.show()"
   ]
  },
  {
   "cell_type": "code",
   "execution_count": null,
   "metadata": {},
   "outputs": [],
   "source": [
    "# Most frequent trigrams\n",
    "e.get_ngram_frequency(train.lemmatized, n=3).head(5)"
   ]
  },
  {
   "cell_type": "code",
   "execution_count": null,
   "metadata": {},
   "outputs": [],
   "source": [
    "# Display top Trigrams for All Review words\n",
    "\n",
    "fontsize = 20\n",
    "plt.figure(figsize=(10, 5), dpi=80)\n",
    "\n",
    "pd.Series(nltk.ngrams(all_reviews_words, 3)\n",
    "         ).value_counts().head(5).plot.barh()\n",
    "plt.gca().invert_yaxis()\n",
    "plt.title('Top-5 Trigrams for All Review words', fontdict={'fontsize': fontsize})\n",
    "\n",
    "plt.show()"
   ]
  },
  {
   "cell_type": "code",
   "execution_count": null,
   "metadata": {},
   "outputs": [],
   "source": []
  },
  {
   "attachments": {},
   "cell_type": "markdown",
   "metadata": {},
   "source": [
    "<div class=\"alert alert-warning\">\n",
    "\n",
    "## Question 6: Is there a relationship between Reviews and Facilities?"
   ]
  },
  {
   "attachments": {},
   "cell_type": "markdown",
   "metadata": {},
   "source": [
    "### Hypothesis"
   ]
  },
  {
   "attachments": {},
   "cell_type": "markdown",
   "metadata": {},
   "source": [
    "two_tail, two_sample  \n",
    "\n",
    "* Continuous or Discreat?  \n",
    "    * Continuous (reviews_wc_by_award) vs Discreat (facilities_wc_by_award) = **Pearson’s-R**\n",
    "        * T-Test = ```Discreat``` vs ```Continuous```  \n",
    "        * Pearson’s = ```Continuous``` vs ```Continuous``` (linear)  \n",
    "        * $Chi^2$ = ```Discreat``` vs ```Discreat``` \n",
    "        * ANOVA = ```Continuous``` vs 1_or_More nominal or ordinal (Discreat) (analysis of variance) \n",
    "<br>\n",
    "<br>\n",
    "* 𝐻_0: The opposite of what I am trying to prove  \n",
    "    * H_{0}: reviews **does NOT have** a ```significant relationship``` with facilities  \n",
    "    * ```reviews_wc_by_award``` != ```facilities_wc_by_award``` \n",
    "<br>\n",
    "<br>\n",
    "* 𝐻_𝑎: What am I trying to prove  \n",
    "    * H_{a}: reviews **has** a ```significant relationship``` with facilities  \n",
    "    * ```reviews_wc_by_award``` == ```facilities_wc_by_award``` "
   ]
  },
  {
   "attachments": {},
   "cell_type": "markdown",
   "metadata": {},
   "source": [
    "### Visualization"
   ]
  },
  {
   "cell_type": "code",
   "execution_count": 14,
   "metadata": {},
   "outputs": [
    {
     "data": {
      "image/png": "[encoded data removed]",
      "text/plain": [
       "<Figure size 1440x720 with 2 Axes>"
      ]
     },
     "metadata": {},
     "output_type": "display_data"
    }
   ],
   "source": [
    "e.QMCBT_viz_1()"
   ]
  },
  {
   "attachments": {},
   "cell_type": "markdown",
   "metadata": {},
   "source": [
    "**Verify Assumptions**\n",
    "* How big is sample size?\n",
    "* If sample size is significantly > 30, we don't have to worry about normality (CLT!!)"
   ]
  },
  {
   "cell_type": "code",
   "execution_count": null,
   "metadata": {},
   "outputs": [],
   "source": [
    "# Levene\n",
    "\n",
    "from scipy import stats\n",
    "\n",
    "t_stat, p_val = stats.levene(reviews_wc_by_award, facilities_wc_by_award)\n",
    "\n",
    "# Set Alpha α\n",
    "α = Alpha = alpha = 0.05\n",
    "\n",
    "if p_val < α:\n",
    "    print('equal_var = False (we cannot assume equal variance)')\n",
    "    \n",
    "else:\n",
    "    print('equal_var = True (we will assume equal variance)')\n",
    "    \n",
    "print('_______________________________________________________________')  \n",
    "print(f't-stat: {t_stat}')\n",
    "print(f'p-value: {p_val}')"
   ]
  },
  {
   "attachments": {},
   "cell_type": "markdown",
   "metadata": {},
   "source": [
    "### Test Hypothosis"
   ]
  },
  {
   "cell_type": "code",
   "execution_count": null,
   "metadata": {},
   "outputs": [],
   "source": [
    "# Pearson's-R\n",
    "\n",
    "alpha = 0.05\n",
    "r, p_val = stats.pearsonr(reviews_wc_by_award, facilities_wc_by_award)\n",
    "    \n",
    "if p_val < alpha:\n",
    "    print('Reject the null hypothesis')\n",
    "else:\n",
    "    print('Fail to reject the null hypothesis')\n",
    "r= r.round(4)\n",
    "p_val = p_val.round(4)\n",
    "print('_____________________')  \n",
    "print(f'correlation {r}')\n",
    "print(f'p-value {p_val}')"
   ]
  },
  {
   "attachments": {},
   "cell_type": "markdown",
   "metadata": {},
   "source": [
    "<div class=\"alert alert-info\">\n",
    "\n",
    "### Takeaways:\n",
    "\n",
    "### Q6. Is there a relationship between Reviews and Facilities?\n",
    "\n",
    "### YES reviews **has** a ```significant relationship``` with facilities as verified by Pearson's-R test"
   ]
  },
  {
   "cell_type": "code",
   "execution_count": null,
   "metadata": {},
   "outputs": [],
   "source": []
  },
  {
   "attachments": {},
   "cell_type": "markdown",
   "metadata": {},
   "source": [
    "<div class=\"alert alert-warning\">\n",
    "\n",
    "## Question 7: Is there a relationship between<br> Tri-Gram [two, tasting, menu] or<br> Tri-Gram [three, tasting, menu] and award?"
   ]
  },
  {
   "attachments": {},
   "cell_type": "markdown",
   "metadata": {},
   "source": [
    "### Hypothesis"
   ]
  },
  {
   "attachments": {},
   "cell_type": "markdown",
   "metadata": {},
   "source": [
    "two_tail, three_sample  \n",
    "\n",
    "* Continuous or Discreat?  \n",
    "    * Continuous (award.value_count) vs Discreat (trigram_1, trigram_2) = **ANOVA**\n",
    "        * T-Test = ```Discreat``` vs ```Continuous```  \n",
    "        * Pearson’s = ```Continuous``` vs ```Continuous``` (linear)  \n",
    "        * $Chi^2$ = ```Discreat``` vs ```Discreat``` \n",
    "        * ANOVA = ```Continuous``` vs 1_or_More nominal or ordinal (Discreat) (analysis of variance) \n",
    "<br>\n",
    "<br>\n",
    "* $𝐻_0$: The opposite of what I am trying to prove  \n",
    "    * $H_{0}$: award **is NOT** ```dependent``` on Tri_gram_1 or Tri_gram_2  \n",
    "    * ```award``` != ```trigram_1``` != ```trigram_2``` \n",
    "<br>\n",
    "<br>\n",
    "* $𝐻_𝑎$: What am I trying to prove  \n",
    "    * $H_{a}$: award **is** ```dependent``` on Tri_gram_1 or Tri_gram_2  \n",
    "    * ```award``` == ```trigram_1``` == ```trigram_2``` "
   ]
  },
  {
   "attachments": {},
   "cell_type": "markdown",
   "metadata": {},
   "source": [
    "### Visualization"
   ]
  },
  {
   "cell_type": "code",
   "execution_count": null,
   "metadata": {},
   "outputs": [],
   "source": [
    "# subsetting the data:\n",
    "award = train[train.lemmatized.str.contains('two tasting menu')].award.value_counts()\n",
    "trigram_1 = train[train.lemmatized.str.contains('two tasting menu')].award.value_counts()\n",
    "trigram_2 = train[train.lemmatized.str.contains('three tasting menu')].award.value_counts()\n",
    "\n",
    "trigram_1_df = train[train.data.str.contains('two tasting menu')]\n",
    "trigram_2_df = train[train.data.str.contains('three tasting menu')]"
   ]
  },
  {
   "cell_type": "code",
   "execution_count": null,
   "metadata": {},
   "outputs": [],
   "source": [
    "\n",
    "\n",
    "# REVIEWS\n",
    "viz_two_taste_trigram = trigram_1_df['award'].value_counts(sort=True)\n",
    "Hex_Codes_Earthy = ['#854d27', '#dd7230', '#f4c95d', '#e7e393', '#04030f']\n",
    "\n",
    "#create a bar plot\n",
    "plt.subplot(1,2,1)\n",
    "viz_two_taste_trigram.plot(kind='bar', title='Word Count of Trigram\\n [two, taste, menu] by Award', ylabel='Word Count',\n",
    "         xlabel='',fontsize =20, color=Hex_Codes_Earthy)\n",
    "plt.xticks(rotation=45, ha='right')\n",
    "\n",
    "# FACILITIES\n",
    "viz_three_taste_trigram = trigram_2_df['award'].value_counts(sort=True)\n",
    "Hex_Codes_Earthy = ['#854d27', '#dd7230', '#f4c95d', '#e7e393', '#04030f']\n",
    "\n",
    "#create a bar plot\n",
    "plt.subplot(1,2,2)\n",
    "viz_three_taste_trigram.plot(kind='bar', title='Word Count of Trigram\\n [three, taste, menu] by Award', ylabel='Word Count',\n",
    "         xlabel='',fontsize =20, color=Hex_Codes_Earthy)\n",
    "plt.xticks(rotation=45, ha='right')\n",
    "\n",
    "plt.show()"
   ]
  },
  {
   "attachments": {},
   "cell_type": "markdown",
   "metadata": {},
   "source": [
    "**Verify Assumptions**\n",
    "* How big is sample size?\n",
    "* If sample size is significantly > 30, we don't have to worry about normality (CLT!!)"
   ]
  },
  {
   "cell_type": "code",
   "execution_count": null,
   "metadata": {},
   "outputs": [],
   "source": [
    "# Levene\n",
    "\n",
    "from scipy import stats\n",
    "\n",
    "t_stat, p_val = stats.levene(award, trigram_1, trigram_2)\n",
    "\n",
    "# Set Alpha α\n",
    "α = Alpha = alpha = 0.05\n",
    "\n",
    "if p_val < α:\n",
    "    print('equal_var = False (we cannot assume equal variance)')\n",
    "    \n",
    "else:\n",
    "    print('equal_var = True (we will assume equal variance)')\n",
    "    \n",
    "print('_______________________________________________________________')  \n",
    "print(f't-stat: {t_stat}')\n",
    "print(f'p-value: {p_val}')"
   ]
  },
  {
   "cell_type": "code",
   "execution_count": null,
   "metadata": {},
   "outputs": [],
   "source": [
    "# Bartlett's\n",
    "\n",
    "from scipy.stats import bartlett\n",
    "\n",
    "# Bartlett's test in Python with SciPy:\n",
    "stat, p_val = bartlett(award, trigram_1, trigram_2)\n",
    "\n",
    "# Set Alpha α\n",
    "α = Alpha = alpha = 0.05\n",
    "\n",
    "if p_val < α:\n",
    "    print('equal_var = False (we cannot assume equal variance)')\n",
    "    \n",
    "else:\n",
    "    print('equal_var = True (we will assume equal variance)')\n",
    "    \n",
    "print('_______________________________________________________________')  \n",
    "print(f'stat: {stat}')\n",
    "print(f'p-value: {p_val}')"
   ]
  },
  {
   "attachments": {},
   "cell_type": "markdown",
   "metadata": {},
   "source": [
    "### Test Hypothosis"
   ]
  },
  {
   "cell_type": "code",
   "execution_count": null,
   "metadata": {},
   "outputs": [],
   "source": [
    "# Anova Test\n",
    "import scipy.stats as stats\n",
    "\n",
    "\"\"\"The dependent variable must be a continuous (interval or ratio) level of measurement. \n",
    "The independent variables in ANOVA must be categorical (nominal or ordinal) variables. \n",
    "Like the t-test, ANOVA is also a parametric test and has some assumptions. \n",
    "ANOVA assumes that the data is normally distributed.\"\"\"\n",
    "\n",
    "# stats f_oneway functions takes the groups as input and returns ANOVA F and p value\n",
    "f_val, p_val = stats.f_oneway(award, trigram_1, trigram_2)\n",
    "\n",
    "# Set Alpha α\n",
    "α = Alpha = alpha = 0.05\n",
    "\n",
    "if p_val < α:\n",
    "    print('Reject the null hypothesis')\n",
    "else:\n",
    "    print('Fail to reject the null hypothesis')\n",
    "\n",
    "print('-----------------------------------')\n",
    "print(f'f_val: {f_val}')\n",
    "print(f'p_val: {p_val}')"
   ]
  },
  {
   "attachments": {},
   "cell_type": "markdown",
   "metadata": {},
   "source": [
    "<div class=\"alert alert-info\">\n",
    "\n",
    "### Takeaways:\n",
    "\n",
    "#### **Question 7:** Is there a relationship between<br> Tri-Gram [two, tasting, menu] or<br> Tri-Gram [three, tasting, menu] and award?\n",
    "\n",
    "### NO there are no significant relationships or dependancies as verified by ANOVA test"
   ]
  },
  {
   "cell_type": "code",
   "execution_count": null,
   "metadata": {},
   "outputs": [],
   "source": []
  },
  {
   "cell_type": "code",
   "execution_count": null,
   "metadata": {},
   "outputs": [],
   "source": [
    "e.generate_word_cloud(train.lemmatized)"
   ]
  },
  {
   "attachments": {},
   "cell_type": "markdown",
   "metadata": {},
   "source": [
    "## Exploration Summary\n",
    "\n",
    "- \"Bib Gourmand\" Award Level is the most common award category (baseline is 50.3%)\n",
    "- France has the most Michelin awarded restaurants, followed by Japan, Italy, U.S.A and Germany)\n",
    "- Restaurants awarded three (3) Michelin stars had reviews with the most words, and Bib Gourmand Restaurants had the fewest word count\n",
    "- Restaurants awarded three (3) Michelin stars had the highest sentiment score, and Bib Gourmand restaurants had the lowest sentiment score\n",
    "- \"Dish\", \"Ingredient\", \"Flavour\" are the most common words\n",
    "- \"Wine List\", \"La Carte\", \"Tasting Menu\" are the most common two-word combinations (bi-grams)\n",
    "- \"Two tasting menu\" and \"Take Pride Place\" ar ethe most common three-word combinations (tri-grams)"
   ]
  },
  {
   "attachments": {},
   "cell_type": "markdown",
   "metadata": {},
   "source": [
    "________________________________________________________________________________________________________"
   ]
  },
  {
   "attachments": {},
   "cell_type": "markdown",
   "metadata": {},
   "source": [
    "# Modeling"
   ]
  },
  {
   "attachments": {},
   "cell_type": "markdown",
   "metadata": {},
   "source": [
    "- We utilized accuracy as the evaluation metric\n",
    "- We developed three different models using different model types: (Decision Tree, Random Forest, Logistic Regression, eXtreme Gradient Boosting (XGBoost))\n",
    "- The best application (via Hyperparameter tuning) was selected for evaluation of test data\n",
    "- We utilized the mode of 'Bib Gourmand' as the baseline (50.3%)\n",
    "\n",
    "We explored several methods of NLP modeling. We elected to utilize as much useful text as possible. Because this is a multilabel classification project we decided that the large string of text would be more useful for finding differences between reviews by award category rating\n",
    "\n",
    "We trained several models on our training set without hyperparameter tuning to produce models that were 'Good Enough'."
   ]
  },
  {
   "cell_type": "code",
   "execution_count": null,
   "metadata": {},
   "outputs": [],
   "source": [
    "# Get Baseline\n",
    "m.get_baseline(train)"
   ]
  },
  {
   "attachments": {},
   "cell_type": "markdown",
   "metadata": {},
   "source": [
    "### Initial Model Training"
   ]
  },
  {
   "cell_type": "code",
   "execution_count": null,
   "metadata": {},
   "outputs": [],
   "source": [
    "# Run modeling function\n",
    "m.run_train_and_validate(train, validate)"
   ]
  },
  {
   "attachments": {},
   "cell_type": "markdown",
   "metadata": {},
   "source": [
    "### Testing selected model on unseen data (Test)"
   ]
  },
  {
   "cell_type": "code",
   "execution_count": null,
   "metadata": {},
   "outputs": [],
   "source": [
    "#Place final model test here"
   ]
  },
  {
   "attachments": {},
   "cell_type": "markdown",
   "metadata": {},
   "source": [
    "## Modeling Summary"
   ]
  },
  {
   "attachments": {},
   "cell_type": "markdown",
   "metadata": {},
   "source": [
    "## Takeaways/Conclusions"
   ]
  },
  {
   "attachments": {},
   "cell_type": "markdown",
   "metadata": {},
   "source": [
    "- Restaurants with higher Michelin award levels have, on average, longer reviews\n",
    "- Three (3) Star Michelin Restaurant reviews have the highest sentiment levels, but there is a negligible difference between one (1) and two (2) star restaurants"
   ]
  },
  {
   "attachments": {},
   "cell_type": "markdown",
   "metadata": {},
   "source": [
    "## Recommendations"
   ]
  },
  {
   "attachments": {},
   "cell_type": "markdown",
   "metadata": {},
   "source": [
    "## Next Steps"
   ]
  },
  {
   "attachments": {},
   "cell_type": "markdown",
   "metadata": {},
   "source": [
    "- Refining stopwords, removing common words from the model\n",
    "- Fine-tuning hyperparameters"
   ]
  },
  {
   "cell_type": "markdown",
   "metadata": {},
   "source": []
  }
 ],
 "metadata": {
  "kernelspec": {
   "display_name": "base",
   "language": "python",
   "name": "python3"
  },
  "language_info": {
   "codemirror_mode": {
    "name": "ipython",
    "version": 3
   },
   "file_extension": ".py",
   "mimetype": "text/x-python",
   "name": "python",
   "nbconvert_exporter": "python",
   "pygments_lexer": "ipython3",
   "version": "3.9.12"
  },
  "orig_nbformat": 4,
  "vscode": {
   "interpreter": {
    "hash": "38cca0c38332a56087b24af0bc80247f4fced29cb4f7f437d91dc159adec9c4e"
   }
  }
 },
 "nbformat": 4,
 "nbformat_minor": 2
}
