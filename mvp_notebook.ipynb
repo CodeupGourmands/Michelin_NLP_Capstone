{
 "cells": [
  {
   "attachments": {},
   "cell_type": "markdown",
   "metadata": {},
   "source": [
    "# Michelin NLP Capstone Project \n",
    "### Presented by: Yuvia Cardenas, Justin Evans, Cristina Lucin, and Woody Sims"
   ]
  },
  {
   "attachments": {},
   "cell_type": "markdown",
   "metadata": {},
   "source": [
    "## Project Overview\n",
    "\n",
    "This project focuses on building a prediction model for accurately predicting the coding language of a project using examination of GitHub repo Readme files. Our goal is to develop a predictive model utilizing Python and Python libraries and select the most effective model for production. Initially, we are utilizing BeautifulSoup to acquire our data, selecting 1000 repositories tagged with 'Minecraft' from GitHub, taking in all Readme text and repo language information from each repo. After gathering the data, we explore the data through questions and visualizations before developing a model that can tell us: \"What language is this repository most likely to be written in?\"\n",
    "\n",
    "## Goals\n",
    "\n",
    "### Create deliverables:\n",
    "- READ ME\n",
    "- Final Report (Jupyter Notebook)\n",
    "- Functional acquire.py, explore.py, and model.py files\n",
    "- Acquire data from Michelin Website utilizing Beautiful Soup to scrape restaurant review text\n",
    "- Prepare and split the data\n",
    "- Explore the data and produce visualizations encapsulating exploration\n",
    "- Establish and document baseline\n",
    "- Fit and train a classification model to predict the programming language of the Repo\n",
    "- Evaluate the model by comparing its performance on train utilizing accuracy as a measure\n",
    "- Evaluate the selected model on test data\n",
    "- Develop and document findings, takeaways, recommendations, and next steps"
   ]
  },
  {
   "cell_type": "code",
   "execution_count": 2,
   "metadata": {},
   "outputs": [],
   "source": [
    "# Imports\n",
    "\n",
    "import pandas as pd\n",
    "import numpy as np\n",
    "import re\n",
    "import os\n",
    "\n",
    "# Webscraping/NLP\n",
    "import requests\n",
    "from requests import get\n",
    "from bs4 import BeautifulSoup\n",
    "import time\n",
    "import nltk\n",
    "import requests\n",
    "import unicodedata\n",
    "from nltk.corpus import stopwords\n",
    "\n",
    "# Visualizations\n",
    "import seaborn as sns\n",
    "import matplotlib.pyplot as plt\n",
    "\n",
    "# Stats\n",
    "import scipy.stats as stats\n",
    "from scipy.stats import ttest_ind, levene, f_oneway\n",
    "\n",
    "# Team Imports\n",
    "\n",
    "import prepare as p\n",
    "import acquire as a\n",
    "import explore as e\n",
    "import model as m\n",
    "from importlib import reload\n"
   ]
  },
  {
   "attachments": {},
   "cell_type": "markdown",
   "metadata": {},
   "source": [
    "# Acquire\n",
    "- 6,780 Michelin website page URLs were acquired from a Michelin Kaggle Dataset of the current, quarterly Michelin Restaurants in the world (Kaggle Data Acquired 1/18/2023)\n",
    "- These website pages were scraped utilizing BeautifulSoup utilizing a function called \"get_michelin_pages\"\n",
    "- The text from the restaurant review was appended to the original Michelin Dataframe as a column titled \"data\"\n",
    "- This dataframe included 6,780 rows before cleaning\n",
    "- Each row represents a unique restaurant awarded and currently possessing a Michelin guide award designation\n",
    "- Each column represents a feature of the restaurant, such as name, location, cuisine type, and price level\n",
    "\n",
    "# Prepare\n",
    "### Prepare Actions:\n",
    "- Removed columns not necessary for project goals\n",
    "- Dropped rows \"restaurants\" who no longer appear on the Michelin Guide Website (No longer a current Michelin Awardee)\n",
    "- Recasted columns into different data types as appropriate\n",
    "- Checked for null values in the data, imputed null values where applicable\n",
    "- Utilized Regex and string methods and functions to clean restaurant review text\n",
    "- Renamed columns and applied lowercase text to columns and data to improve readability/usability\n",
    "- Tokenized review text, removed stopwords, and lemmatized text for exploration and modeling"
   ]
  },
  {
   "cell_type": "code",
   "execution_count": 3,
   "metadata": {},
   "outputs": [
    {
     "data": {
      "text/html": [
       "<div>\n",
       "<style scoped>\n",
       "    .dataframe tbody tr th:only-of-type {\n",
       "        vertical-align: middle;\n",
       "    }\n",
       "\n",
       "    .dataframe tbody tr th {\n",
       "        vertical-align: top;\n",
       "    }\n",
       "\n",
       "    .dataframe thead th {\n",
       "        text-align: right;\n",
       "    }\n",
       "</style>\n",
       "<table border=\"1\" class=\"dataframe\">\n",
       "  <thead>\n",
       "    <tr style=\"text-align: right;\">\n",
       "      <th></th>\n",
       "      <th>name</th>\n",
       "      <th>address</th>\n",
       "      <th>location</th>\n",
       "      <th>price</th>\n",
       "      <th>cuisine</th>\n",
       "      <th>longitude</th>\n",
       "      <th>latitude</th>\n",
       "      <th>phone_number</th>\n",
       "      <th>url</th>\n",
       "      <th>website_url</th>\n",
       "      <th>award</th>\n",
       "      <th>facilities_and_services</th>\n",
       "      <th>data</th>\n",
       "    </tr>\n",
       "  </thead>\n",
       "  <tbody>\n",
       "    <tr>\n",
       "      <th>0</th>\n",
       "      <td>King's Joy</td>\n",
       "      <td>2 Wudaoying Hutong, Beijing, China Mainland</td>\n",
       "      <td>Beijing, China Mainland</td>\n",
       "      <td>¥¥¥</td>\n",
       "      <td>Vegetarian</td>\n",
       "      <td>116.410004</td>\n",
       "      <td>39.946681</td>\n",
       "      <td>8.610840e+11</td>\n",
       "      <td>https://guide.michelin.com/en/beijing-municipa...</td>\n",
       "      <td>NaN</td>\n",
       "      <td>3 MICHELIN Stars</td>\n",
       "      <td>Air conditioning,American Express credit card,...</td>\n",
       "      <td>Just a stone’s throw from Yonghe Temple, this ...</td>\n",
       "    </tr>\n",
       "    <tr>\n",
       "      <th>1</th>\n",
       "      <td>Xin Rong Ji (Xinyuan South Road)</td>\n",
       "      <td>1F, East Tower, Genesis Beijing, 8 Xinyuan Sou...</td>\n",
       "      <td>Beijing, China Mainland</td>\n",
       "      <td>¥¥¥¥</td>\n",
       "      <td>Taizhou</td>\n",
       "      <td>116.450148</td>\n",
       "      <td>39.946380</td>\n",
       "      <td>8.610650e+11</td>\n",
       "      <td>https://guide.michelin.com/en/beijing-municipa...</td>\n",
       "      <td>NaN</td>\n",
       "      <td>3 MICHELIN Stars</td>\n",
       "      <td>Air conditioning,Car park,China UnionPay,Count...</td>\n",
       "      <td>This branch of the chain restaurant opened in ...</td>\n",
       "    </tr>\n",
       "    <tr>\n",
       "      <th>2</th>\n",
       "      <td>Taian Table</td>\n",
       "      <td>101-102, Building No. 1, Garden Office, No.161...</td>\n",
       "      <td>Shanghai, China Mainland</td>\n",
       "      <td>¥¥¥¥</td>\n",
       "      <td>Innovative</td>\n",
       "      <td>121.474049</td>\n",
       "      <td>31.221807</td>\n",
       "      <td>8.617302e+12</td>\n",
       "      <td>https://guide.michelin.com/en/shanghai-municip...</td>\n",
       "      <td>https://taian-table.cn/</td>\n",
       "      <td>3 MICHELIN Stars</td>\n",
       "      <td>Air conditioning,American Express credit card,...</td>\n",
       "      <td>A fixture on the city’s dining scene since 201...</td>\n",
       "    </tr>\n",
       "    <tr>\n",
       "      <th>3</th>\n",
       "      <td>Ultraviolet by Paul Pairet</td>\n",
       "      <td>'somewhere in Shanghai' - meet at Mr &amp; Mrs Bun...</td>\n",
       "      <td>Shanghai, China Mainland</td>\n",
       "      <td>¥¥¥¥</td>\n",
       "      <td>Innovative</td>\n",
       "      <td>121.485090</td>\n",
       "      <td>31.240358</td>\n",
       "      <td>NaN</td>\n",
       "      <td>https://guide.michelin.com/en/shanghai-municip...</td>\n",
       "      <td>https://uvbypp.cc/</td>\n",
       "      <td>3 MICHELIN Stars</td>\n",
       "      <td>Air conditioning,American Express credit card,...</td>\n",
       "      <td>This multi-sensory experience at a secret loca...</td>\n",
       "    </tr>\n",
       "    <tr>\n",
       "      <th>4</th>\n",
       "      <td>Quince</td>\n",
       "      <td>470 Pacific Ave., San Francisco, 94133, USA</td>\n",
       "      <td>San Francisco, USA</td>\n",
       "      <td>$$$$</td>\n",
       "      <td>Contemporary, Californian</td>\n",
       "      <td>-122.403261</td>\n",
       "      <td>37.797505</td>\n",
       "      <td>1.415776e+10</td>\n",
       "      <td>https://guide.michelin.com/en/california/san-f...</td>\n",
       "      <td>http://www.quincerestaurant.com</td>\n",
       "      <td>3 MICHELIN Stars</td>\n",
       "      <td>Air conditioning,American Express credit card,...</td>\n",
       "      <td>An air of refinement infuses this dining room,...</td>\n",
       "    </tr>\n",
       "  </tbody>\n",
       "</table>\n",
       "</div>"
      ],
      "text/plain": [
       "                               name  \\\n",
       "0                        King's Joy   \n",
       "1  Xin Rong Ji (Xinyuan South Road)   \n",
       "2                       Taian Table   \n",
       "3        Ultraviolet by Paul Pairet   \n",
       "4                            Quince   \n",
       "\n",
       "                                             address  \\\n",
       "0        2 Wudaoying Hutong, Beijing, China Mainland   \n",
       "1  1F, East Tower, Genesis Beijing, 8 Xinyuan Sou...   \n",
       "2  101-102, Building No. 1, Garden Office, No.161...   \n",
       "3  'somewhere in Shanghai' - meet at Mr & Mrs Bun...   \n",
       "4        470 Pacific Ave., San Francisco, 94133, USA   \n",
       "\n",
       "                   location price                    cuisine   longitude  \\\n",
       "0   Beijing, China Mainland   ¥¥¥                 Vegetarian  116.410004   \n",
       "1   Beijing, China Mainland  ¥¥¥¥                    Taizhou  116.450148   \n",
       "2  Shanghai, China Mainland  ¥¥¥¥                 Innovative  121.474049   \n",
       "3  Shanghai, China Mainland  ¥¥¥¥                 Innovative  121.485090   \n",
       "4        San Francisco, USA  $$$$  Contemporary, Californian -122.403261   \n",
       "\n",
       "    latitude  phone_number                                                url  \\\n",
       "0  39.946681  8.610840e+11  https://guide.michelin.com/en/beijing-municipa...   \n",
       "1  39.946380  8.610650e+11  https://guide.michelin.com/en/beijing-municipa...   \n",
       "2  31.221807  8.617302e+12  https://guide.michelin.com/en/shanghai-municip...   \n",
       "3  31.240358           NaN  https://guide.michelin.com/en/shanghai-municip...   \n",
       "4  37.797505  1.415776e+10  https://guide.michelin.com/en/california/san-f...   \n",
       "\n",
       "                       website_url             award  \\\n",
       "0                              NaN  3 MICHELIN Stars   \n",
       "1                              NaN  3 MICHELIN Stars   \n",
       "2          https://taian-table.cn/  3 MICHELIN Stars   \n",
       "3               https://uvbypp.cc/  3 MICHELIN Stars   \n",
       "4  http://www.quincerestaurant.com  3 MICHELIN Stars   \n",
       "\n",
       "                             facilities_and_services  \\\n",
       "0  Air conditioning,American Express credit card,...   \n",
       "1  Air conditioning,Car park,China UnionPay,Count...   \n",
       "2  Air conditioning,American Express credit card,...   \n",
       "3  Air conditioning,American Express credit card,...   \n",
       "4  Air conditioning,American Express credit card,...   \n",
       "\n",
       "                                                data  \n",
       "0  Just a stone’s throw from Yonghe Temple, this ...  \n",
       "1  This branch of the chain restaurant opened in ...  \n",
       "2  A fixture on the city’s dining scene since 201...  \n",
       "3  This multi-sensory experience at a secret loca...  \n",
       "4  An air of refinement infuses this dining room,...  "
      ]
     },
     "execution_count": 3,
     "metadata": {},
     "output_type": "execute_result"
    }
   ],
   "source": [
    "# Get the data, take a peek\n",
    "df = pd.read_pickle('data/michelin_df.pickle')\n",
    "df.head()"
   ]
  },
  {
   "cell_type": "code",
   "execution_count": 7,
   "metadata": {},
   "outputs": [
    {
     "name": "stdout",
     "output_type": "stream",
     "text": [
      "Kings Joy (Beijing, China) review text: Just a stone’s throw from Yonghe Temple, this serene restaurant is remodelled from a courtyard house and features a glass-roofed dining room. The chef honed his skills at his grandparents’ restaurant of the same name. Only set menus are available; try the classic menu to sample their specialities all at once. Regulars may opt for the solar-term menu that changes every 15 days. Live harp performance befits the restaurant’s classy elegance.\n"
     ]
    }
   ],
   "source": [
    "# Take a look at some restaurant reviews from our dataframe:\n",
    "print(f'Kings Joy (Beijing, China) review text: {df.data[0]}')"
   ]
  },
  {
   "cell_type": "code",
   "execution_count": 11,
   "metadata": {},
   "outputs": [
    {
     "name": "stdout",
     "output_type": "stream",
     "text": [
      "La Palme dOr (Cannes, France) review text: Some places you fall in love with at first sight and La Palme d'Or is one of them. In the fabulous Art Deco setting of the Hotel Martinez, diners look down on the famous promenade of La Croisette and the Bay of Cannes, while savouring the luxury and refinement so beautifully brought together here. Of course, all this would be worth nothing without high-calibre cuisine. No worries on that score: chef Christian Sinicropi, a local man, has matters entirely in hand. At each stage of the \"Mouvements\" set menu, he homes in on one ingredient, supporting it with elements from its own ecosystem. The result is coherent and sophisticated, right down to the remarkably precise desserts by Julien Ochando. Definitely worthy of a Golden Palm award.\n"
     ]
    }
   ],
   "source": [
    "print(f'La Palme dOr (Cannes, France) review text: {df.data[500]}')"
   ]
  },
  {
   "attachments": {},
   "cell_type": "markdown",
   "metadata": {},
   "source": [
    "# Exploration"
   ]
  },
  {
   "cell_type": "code",
   "execution_count": 12,
   "metadata": {},
   "outputs": [
    {
     "ename": "AttributeError",
     "evalue": "module 'nltk' has no attribute 'sentiment'",
     "output_type": "error",
     "traceback": [
      "\u001b[0;31m---------------------------------------------------------------------------\u001b[0m",
      "\u001b[0;31mAttributeError\u001b[0m                            Traceback (most recent call last)",
      "Cell \u001b[0;32mIn[12], line 2\u001b[0m\n\u001b[1;32m      1\u001b[0m \u001b[39m# Splitting our data (56% Train, 24% Validate, 20% Test)\u001b[39;00m\n\u001b[0;32m----> 2\u001b[0m train, validate, test \u001b[39m=\u001b[39m p\u001b[39m.\u001b[39;49mprepare_michelin(df)\n\u001b[1;32m      3\u001b[0m train\u001b[39m.\u001b[39mhead(\u001b[39m2\u001b[39m)\n",
      "File \u001b[0;32m~/codeup-data-science/Michelin_NLP_Capstone/prepare.py:246\u001b[0m, in \u001b[0;36mprepare_michelin\u001b[0;34m(df, split)\u001b[0m\n\u001b[1;32m    244\u001b[0m df \u001b[39m=\u001b[39m change_dtype_str(df)\n\u001b[1;32m    245\u001b[0m lemmatized \u001b[39m=\u001b[39m process_nl(df\u001b[39m.\u001b[39mdata)\n\u001b[0;32m--> 246\u001b[0m df \u001b[39m=\u001b[39m pd\u001b[39m.\u001b[39mconcat([df, lemmatized], axis\u001b[39m=\u001b[39m\u001b[39m1\u001b[39m)\n\u001b[1;32m    247\u001b[0m df[\u001b[39m'\u001b[39m\u001b[39msentiment\u001b[39m\u001b[39m'\u001b[39m] \u001b[39m=\u001b[39m sentiment_score(df\u001b[39m.\u001b[39mlemmatized)\n\u001b[1;32m    248\u001b[0m df[\u001b[39m'\u001b[39m\u001b[39mword_count\u001b[39m\u001b[39m'\u001b[39m] \u001b[39m=\u001b[39m df\u001b[39m.\u001b[39mlemmatized\u001b[39m.\u001b[39mstr\u001b[39m.\u001b[39msplit()\u001b[39m.\u001b[39mapply(\u001b[39mlen\u001b[39m)\n",
      "File \u001b[0;32m~/codeup-data-science/Michelin_NLP_Capstone/prepare.py:221\u001b[0m, in \u001b[0;36msentiment_score\u001b[0;34m(lemmatized)\u001b[0m\n\u001b[1;32m    215\u001b[0m     train, validate \u001b[39m=\u001b[39m train_test_split(\n\u001b[1;32m    216\u001b[0m         train_validate, test_size\u001b[39m=\u001b[39mvalidate_split,\n\u001b[1;32m    217\u001b[0m         random_state\u001b[39m=\u001b[39m\u001b[39m911\u001b[39m, stratify\u001b[39m=\u001b[39mstrat)\n\u001b[1;32m    218\u001b[0m     \u001b[39mreturn\u001b[39;00m train, validate, test\n\u001b[0;32m--> 221\u001b[0m \u001b[39mdef\u001b[39;00m \u001b[39msentiment_score\u001b[39m(lemmatized: pd\u001b[39m.\u001b[39mSeries) \u001b[39m-\u001b[39m\u001b[39m>\u001b[39m pd\u001b[39m.\u001b[39mSeries:\n\u001b[1;32m    222\u001b[0m     sia \u001b[39m=\u001b[39m SentimentIntensityAnalyzer()\n\u001b[1;32m    223\u001b[0m     scores \u001b[39m=\u001b[39m []\n",
      "\u001b[0;31mAttributeError\u001b[0m: module 'nltk' has no attribute 'sentiment'"
     ]
    }
   ],
   "source": [
    "# Splitting our data (56% Train, 24% Validate, 20% Test)\n",
    "train, validate, test = p.prepare_michelin(df)\n",
    "train.head(2)"
   ]
  },
  {
   "cell_type": "markdown",
   "metadata": {},
   "source": []
  }
 ],
 "metadata": {
  "kernelspec": {
   "display_name": "base",
   "language": "python",
   "name": "python3"
  },
  "language_info": {
   "codemirror_mode": {
    "name": "ipython",
    "version": 3
   },
   "file_extension": ".py",
   "mimetype": "text/x-python",
   "name": "python",
   "nbconvert_exporter": "python",
   "pygments_lexer": "ipython3",
   "version": "3.9.15"
  },
  "orig_nbformat": 4,
  "vscode": {
   "interpreter": {
    "hash": "38cca0c38332a56087b24af0bc80247f4fced29cb4f7f437d91dc159adec9c4e"
   }
  }
 },
 "nbformat": 4,
 "nbformat_minor": 2
}
